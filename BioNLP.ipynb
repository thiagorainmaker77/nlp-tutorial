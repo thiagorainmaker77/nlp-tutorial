{
  "nbformat": 4,
  "nbformat_minor": 0,
  "metadata": {
    "kernelspec": {
      "display_name": "Python 3",
      "language": "python",
      "name": "python3"
    },
    "language_info": {
      "codemirror_mode": {
        "name": "ipython",
        "version": 3
      },
      "file_extension": ".py",
      "mimetype": "text/x-python",
      "name": "python",
      "nbconvert_exporter": "python",
      "pygments_lexer": "ipython3",
      "version": "3.7.3"
    },
    "colab": {
      "name": "BioNLP.ipynb",
      "provenance": [],
      "toc_visible": true,
      "include_colab_link": true
    }
  },
  "cells": [
    {
      "cell_type": "markdown",
      "metadata": {
        "id": "view-in-github",
        "colab_type": "text"
      },
      "source": [
        "<a href=\"https://colab.research.google.com/github/thiagorainmaker77/nlp-tutorial/blob/master/BioNLP.ipynb\" target=\"_parent\"><img src=\"https://colab.research.google.com/assets/colab-badge.svg\" alt=\"Open In Colab\"/></a>"
      ]
    },
    {
      "cell_type": "markdown",
      "metadata": {
        "id": "uMF3cgtkLdUn",
        "colab_type": "text"
      },
      "source": [
        "#### Importing required lib"
      ]
    },
    {
      "cell_type": "code",
      "metadata": {
        "id": "VCDTHKaKLdUo",
        "colab_type": "code",
        "colab": {}
      },
      "source": [
        "import pandas as pd\n",
        "import sklearn\n",
        "import numpy as np\n",
        "from tqdm import tqdm_notebook\n",
        "import os,time"
      ],
      "execution_count": null,
      "outputs": []
    },
    {
      "cell_type": "code",
      "metadata": {
        "id": "jHxiX4SfLdUt",
        "colab_type": "code",
        "colab": {}
      },
      "source": [
        "train_files = os.listdir(path='rel/BioNLP-OST-2019_BB-rel_train')\n",
        "valid_files = os.listdir(path='rel/BioNLP-OST-2019_BB-rel_dev/')"
      ],
      "execution_count": null,
      "outputs": []
    },
    {
      "cell_type": "code",
      "metadata": {
        "id": "FV1rkJFXLdUw",
        "colab_type": "code",
        "colab": {}
      },
      "source": [
        "def get_data_files(files,types = 'train'):\n",
        "    #creating two dataframes\n",
        "    a1_df = pd.DataFrame(columns=['Words','sc_ec','Entity'])\n",
        "    a2_df = pd.DataFrame(columns = ['Relation','word_1','word_2'])\n",
        "\n",
        "    #reading all files \n",
        "    for file in tqdm_notebook(files):\n",
        "        #look for files ends with .a1\n",
        "        if file.endswith('.a1'):\n",
        "\n",
        "            if (os.path.getsize(f'rel/BioNLP-OST-2019_BB-rel_{types}/{file}') > 0 ):\n",
        "                a1 = pd.read_csv(f'rel/BioNLP-OST-2019_BB-rel_{types}/{file}',sep='\\t',header=None)\n",
        "                spl = a1[1].str.split(' ',n=1,expand=True)\n",
        "                a1['Words'] = a1[2]\n",
        "                a1['sc_ec'] = spl[1]\n",
        "                a1['Entity'] = spl[0]\n",
        "                a1.drop([1,2],axis=1,inplace=True)\n",
        "                a1_df = a1_df.append(a1,ignore_index=True,sort=True)\n",
        "\n",
        "                #comparing with a2 and append it to a2_data frame\n",
        "\n",
        "                file = file.split(sep='.')\n",
        "\n",
        "                if(os.path.getsize(f'rel/BioNLP-OST-2019_BB-rel_{types}/{file[0]}.a2') > 0):\n",
        "                    a2 = pd.read_csv(f'rel/BioNLP-OST-2019_BB-rel_{types}/{file[0]}.a2',sep = '\\t',header=None)\n",
        "                    spl = a2[1].str.split(' ',n = 2,expand= True)\n",
        "                    spl_1 = spl[1].str.split(':',n = 1,expand=True)\n",
        "                    spl_2 = spl[2].str.split(':',n = 1,expand=True)\n",
        "\n",
        "                    a2['Relation'] = spl[0]\n",
        "                    a2['w_1'] = spl_1[1]\n",
        "                    a2['w_2'] = spl_2[1]\n",
        "\n",
        "                    me = pd.merge(a2,a1[[0,'Words']],how='left',\n",
        "                                     left_on = ['w_1'],\n",
        "                                     right_on = [0])\n",
        "                    a2['word_1'] = me['Words']\n",
        "                    del me\n",
        "                    me = pd.merge(a2,a1[[0,'Words']],how='left',\n",
        "                                     left_on = ['w_2'],\n",
        "                                     right_on = [0])\n",
        "                    a2['word_2'] = me['Words']\n",
        "                    del me\n",
        "\n",
        "                    a2.drop([1,'w_1','w_2'],axis = 1,inplace = True)\n",
        "                    a2_df = a2_df.append(a2,ignore_index=True,sort=True)\n",
        "                    del a1,a2\n",
        "                    \n",
        "                    a1_df.drop([0],axis=1,inplace = True)\n",
        "                    \n",
        "    return a1_df,a2_df\n"
      ],
      "execution_count": null,
      "outputs": []
    },
    {
      "cell_type": "markdown",
      "metadata": {
        "id": "318cuEZmLdU0",
        "colab_type": "text"
      },
      "source": [
        "## Training data - Preprocessing"
      ]
    },
    {
      "cell_type": "code",
      "metadata": {
        "id": "9shuFRrILdU1",
        "colab_type": "code",
        "colab": {
          "referenced_widgets": [
            "5940e6b6dba245a9bb45c5da9c80e2db"
          ]
        },
        "outputId": "0e26f8fc-87b1-412e-8233-ef5c424ab71e"
      },
      "source": [
        "train_a1,train_a2 = get_data_files(train_files,'train')"
      ],
      "execution_count": null,
      "outputs": [
        {
          "output_type": "display_data",
          "data": {
            "application/vnd.jupyter.widget-view+json": {
              "model_id": "5940e6b6dba245a9bb45c5da9c80e2db",
              "version_major": 2,
              "version_minor": 0
            },
            "text/plain": [
              "HBox(children=(IntProgress(value=0, max=375), HTML(value='')))"
            ]
          },
          "metadata": {
            "tags": []
          }
        },
        {
          "output_type": "stream",
          "text": [
            "\n"
          ],
          "name": "stdout"
        }
      ]
    },
    {
      "cell_type": "code",
      "metadata": {
        "id": "dD545qJ5LdU4",
        "colab_type": "code",
        "colab": {},
        "outputId": "44305678-317f-4046-d782-3a6b8f087744"
      },
      "source": [
        "train_a2.head()"
      ],
      "execution_count": null,
      "outputs": [
        {
          "output_type": "execute_result",
          "data": {
            "text/html": [
              "<div>\n",
              "<style scoped>\n",
              "    .dataframe tbody tr th:only-of-type {\n",
              "        vertical-align: middle;\n",
              "    }\n",
              "\n",
              "    .dataframe tbody tr th {\n",
              "        vertical-align: top;\n",
              "    }\n",
              "\n",
              "    .dataframe thead th {\n",
              "        text-align: right;\n",
              "    }\n",
              "</style>\n",
              "<table border=\"1\" class=\"dataframe\">\n",
              "  <thead>\n",
              "    <tr style=\"text-align: right;\">\n",
              "      <th></th>\n",
              "      <th>Relation</th>\n",
              "      <th>word_1</th>\n",
              "      <th>word_2</th>\n",
              "      <th>0</th>\n",
              "    </tr>\n",
              "  </thead>\n",
              "  <tbody>\n",
              "    <tr>\n",
              "      <th>0</th>\n",
              "      <td>Lives_In</td>\n",
              "      <td>Non-O1 Vibrio cholerae</td>\n",
              "      <td>patients with cirrhosis</td>\n",
              "      <td>R1</td>\n",
              "    </tr>\n",
              "    <tr>\n",
              "      <th>1</th>\n",
              "      <td>Lives_In</td>\n",
              "      <td>non-O1 V. cholerae</td>\n",
              "      <td>blood culture</td>\n",
              "      <td>R2</td>\n",
              "    </tr>\n",
              "    <tr>\n",
              "      <th>2</th>\n",
              "      <td>Lives_In</td>\n",
              "      <td>non-O1 V. cholerae</td>\n",
              "      <td>blood</td>\n",
              "      <td>R3</td>\n",
              "    </tr>\n",
              "    <tr>\n",
              "      <th>3</th>\n",
              "      <td>Lives_In</td>\n",
              "      <td>non-O1 V. cholerae</td>\n",
              "      <td>Patients with underlying cirrhosis and the afo...</td>\n",
              "      <td>R4</td>\n",
              "    </tr>\n",
              "    <tr>\n",
              "      <th>4</th>\n",
              "      <td>Lives_In</td>\n",
              "      <td>non-O1 V. cholerae</td>\n",
              "      <td>Patients with decompensated cirrhosis</td>\n",
              "      <td>R5</td>\n",
              "    </tr>\n",
              "  </tbody>\n",
              "</table>\n",
              "</div>"
            ],
            "text/plain": [
              "   Relation                  word_1  \\\n",
              "0  Lives_In  Non-O1 Vibrio cholerae   \n",
              "1  Lives_In      non-O1 V. cholerae   \n",
              "2  Lives_In      non-O1 V. cholerae   \n",
              "3  Lives_In      non-O1 V. cholerae   \n",
              "4  Lives_In      non-O1 V. cholerae   \n",
              "\n",
              "                                              word_2   0  \n",
              "0                            patients with cirrhosis  R1  \n",
              "1                                      blood culture  R2  \n",
              "2                                              blood  R3  \n",
              "3  Patients with underlying cirrhosis and the afo...  R4  \n",
              "4              Patients with decompensated cirrhosis  R5  "
            ]
          },
          "metadata": {
            "tags": []
          },
          "execution_count": 5
        }
      ]
    },
    {
      "cell_type": "code",
      "metadata": {
        "id": "dWjzOQrYLdU6",
        "colab_type": "code",
        "colab": {},
        "outputId": "8c4560a8-0d21-4f1c-a989-48d0c0689b6a"
      },
      "source": [
        "print(f'total number of train_a1 samples with title and paragraph : {train_a1.shape}')"
      ],
      "execution_count": null,
      "outputs": [
        {
          "output_type": "stream",
          "text": [
            "total number of train_a1 samples with title and paragraph : (2329, 3)\n"
          ],
          "name": "stdout"
        }
      ]
    },
    {
      "cell_type": "code",
      "metadata": {
        "id": "1lmlLoDQLdU9",
        "colab_type": "code",
        "colab": {}
      },
      "source": [
        "train_a1.drop(train_a1[train_a1['Entity'] == 'Title'].index,axis=0,inplace=True)\n",
        "train_a1.drop(train_a1[train_a1['Entity'] == 'Paragraph'].index,axis=0,inplace=True)"
      ],
      "execution_count": null,
      "outputs": []
    },
    {
      "cell_type": "code",
      "metadata": {
        "id": "gciythQ8LdVA",
        "colab_type": "code",
        "colab": {},
        "outputId": "2751c440-9cd9-4abf-ded4-5d30dc9e34b9"
      },
      "source": [
        "print(f'total number of train_a1 samples without title and paragraph : {train_a1.shape}')\n",
        "print(f'total number of train_a2 samples : {train_a2.shape}')"
      ],
      "execution_count": null,
      "outputs": [
        {
          "output_type": "stream",
          "text": [
            "total number of train_a1 samples without title and paragraph : (2179, 3)\n",
            "total number of train_a2 samples : (1142, 4)\n"
          ],
          "name": "stdout"
        }
      ]
    },
    {
      "cell_type": "markdown",
      "metadata": {
        "id": "Lm4kHXOILdVD",
        "colab_type": "text"
      },
      "source": [
        "## validation data - Preprocessing"
      ]
    },
    {
      "cell_type": "code",
      "metadata": {
        "id": "bFQ-VHrdLdVD",
        "colab_type": "code",
        "colab": {
          "referenced_widgets": [
            "9c112d43f78e44ba99d19142c3761082"
          ]
        },
        "outputId": "cf782f41-8d17-4bfb-b3ef-21f716586bec"
      },
      "source": [
        "valid_a1,valid_a2 = get_data_files(valid_files,'dev')"
      ],
      "execution_count": null,
      "outputs": [
        {
          "output_type": "display_data",
          "data": {
            "application/vnd.jupyter.widget-view+json": {
              "model_id": "9c112d43f78e44ba99d19142c3761082",
              "version_major": 2,
              "version_minor": 0
            },
            "text/plain": [
              "HBox(children=(IntProgress(value=0, max=192), HTML(value='')))"
            ]
          },
          "metadata": {
            "tags": []
          }
        },
        {
          "output_type": "stream",
          "text": [
            "\n"
          ],
          "name": "stdout"
        }
      ]
    },
    {
      "cell_type": "code",
      "metadata": {
        "id": "RC__xrUVLdVG",
        "colab_type": "code",
        "colab": {},
        "outputId": "b62a6719-d9ac-4649-e7c2-8ce2d660d4c8"
      },
      "source": [
        "valid_a1.head()"
      ],
      "execution_count": null,
      "outputs": [
        {
          "output_type": "execute_result",
          "data": {
            "text/html": [
              "<div>\n",
              "<style scoped>\n",
              "    .dataframe tbody tr th:only-of-type {\n",
              "        vertical-align: middle;\n",
              "    }\n",
              "\n",
              "    .dataframe tbody tr th {\n",
              "        vertical-align: top;\n",
              "    }\n",
              "\n",
              "    .dataframe thead th {\n",
              "        text-align: right;\n",
              "    }\n",
              "</style>\n",
              "<table border=\"1\" class=\"dataframe\">\n",
              "  <thead>\n",
              "    <tr style=\"text-align: right;\">\n",
              "      <th></th>\n",
              "      <th>Entity</th>\n",
              "      <th>Words</th>\n",
              "      <th>sc_ec</th>\n",
              "    </tr>\n",
              "  </thead>\n",
              "  <tbody>\n",
              "    <tr>\n",
              "      <th>0</th>\n",
              "      <td>Title</td>\n",
              "      <td>Neutrophils are resistant to Yersinia YopJ/P-i...</td>\n",
              "      <td>0 143</td>\n",
              "    </tr>\n",
              "    <tr>\n",
              "      <th>1</th>\n",
              "      <td>Paragraph</td>\n",
              "      <td>The human innate immune system relies on the c...</td>\n",
              "      <td>144 664</td>\n",
              "    </tr>\n",
              "    <tr>\n",
              "      <th>2</th>\n",
              "      <td>Paragraph</td>\n",
              "      <td>In this study, we utilized wild-type and mutan...</td>\n",
              "      <td>665 1672</td>\n",
              "    </tr>\n",
              "    <tr>\n",
              "      <th>3</th>\n",
              "      <td>Paragraph</td>\n",
              "      <td>Our findings showed that Yersinia YopJ and/or ...</td>\n",
              "      <td>1673 2071</td>\n",
              "    </tr>\n",
              "    <tr>\n",
              "      <th>4</th>\n",
              "      <td>Habitat</td>\n",
              "      <td>Neutrophils</td>\n",
              "      <td>0 11</td>\n",
              "    </tr>\n",
              "  </tbody>\n",
              "</table>\n",
              "</div>"
            ],
            "text/plain": [
              "      Entity                                              Words      sc_ec\n",
              "0      Title  Neutrophils are resistant to Yersinia YopJ/P-i...      0 143\n",
              "1  Paragraph  The human innate immune system relies on the c...    144 664\n",
              "2  Paragraph  In this study, we utilized wild-type and mutan...   665 1672\n",
              "3  Paragraph  Our findings showed that Yersinia YopJ and/or ...  1673 2071\n",
              "4    Habitat                                        Neutrophils       0 11"
            ]
          },
          "metadata": {
            "tags": []
          },
          "execution_count": 10
        }
      ]
    },
    {
      "cell_type": "code",
      "metadata": {
        "id": "ZFzRLgpXLdVI",
        "colab_type": "code",
        "colab": {},
        "outputId": "8f010c3c-d984-4468-e745-b7f9a17299f4"
      },
      "source": [
        "valid_a2.head()"
      ],
      "execution_count": null,
      "outputs": [
        {
          "output_type": "execute_result",
          "data": {
            "text/html": [
              "<div>\n",
              "<style scoped>\n",
              "    .dataframe tbody tr th:only-of-type {\n",
              "        vertical-align: middle;\n",
              "    }\n",
              "\n",
              "    .dataframe tbody tr th {\n",
              "        vertical-align: top;\n",
              "    }\n",
              "\n",
              "    .dataframe thead th {\n",
              "        text-align: right;\n",
              "    }\n",
              "</style>\n",
              "<table border=\"1\" class=\"dataframe\">\n",
              "  <thead>\n",
              "    <tr style=\"text-align: right;\">\n",
              "      <th></th>\n",
              "      <th>Relation</th>\n",
              "      <th>word_1</th>\n",
              "      <th>word_2</th>\n",
              "      <th>0</th>\n",
              "    </tr>\n",
              "  </thead>\n",
              "  <tbody>\n",
              "    <tr>\n",
              "      <th>0</th>\n",
              "      <td>Lives_In</td>\n",
              "      <td>Yersinia</td>\n",
              "      <td>humans</td>\n",
              "      <td>R1</td>\n",
              "    </tr>\n",
              "    <tr>\n",
              "      <th>1</th>\n",
              "      <td>Exhibits</td>\n",
              "      <td>Yersinia</td>\n",
              "      <td>bacterial pathogens</td>\n",
              "      <td>R2</td>\n",
              "    </tr>\n",
              "    <tr>\n",
              "      <th>2</th>\n",
              "      <td>Exhibits</td>\n",
              "      <td>Yersinia</td>\n",
              "      <td>bacterial pathogens</td>\n",
              "      <td>R3</td>\n",
              "    </tr>\n",
              "    <tr>\n",
              "      <th>3</th>\n",
              "      <td>Exhibits</td>\n",
              "      <td>Y. pestis</td>\n",
              "      <td>bacterial pathogens</td>\n",
              "      <td>R4</td>\n",
              "    </tr>\n",
              "    <tr>\n",
              "      <th>4</th>\n",
              "      <td>Exhibits</td>\n",
              "      <td>Y. pseudotuberculosis</td>\n",
              "      <td>bacterial pathogens</td>\n",
              "      <td>R5</td>\n",
              "    </tr>\n",
              "  </tbody>\n",
              "</table>\n",
              "</div>"
            ],
            "text/plain": [
              "   Relation                 word_1               word_2   0\n",
              "0  Lives_In               Yersinia               humans  R1\n",
              "1  Exhibits               Yersinia  bacterial pathogens  R2\n",
              "2  Exhibits               Yersinia  bacterial pathogens  R3\n",
              "3  Exhibits              Y. pestis  bacterial pathogens  R4\n",
              "4  Exhibits  Y. pseudotuberculosis  bacterial pathogens  R5"
            ]
          },
          "metadata": {
            "tags": []
          },
          "execution_count": 11
        }
      ]
    },
    {
      "cell_type": "code",
      "metadata": {
        "id": "Wi5-iOe2LdVL",
        "colab_type": "code",
        "colab": {},
        "outputId": "0ae38457-6478-4373-93f5-a9adab9e9a17"
      },
      "source": [
        "print(f'total number of valid_a1 samples with title and paragraph : {valid_a1.shape}')"
      ],
      "execution_count": null,
      "outputs": [
        {
          "output_type": "stream",
          "text": [
            "total number of valid_a1 samples with title and paragraph : (1354, 3)\n"
          ],
          "name": "stdout"
        }
      ]
    },
    {
      "cell_type": "code",
      "metadata": {
        "id": "uhjMwmhALdVN",
        "colab_type": "code",
        "colab": {}
      },
      "source": [
        "valid_a1.drop(valid_a1[valid_a1['Entity'] == 'Title'].index,axis=0,inplace=True)\n",
        "valid_a1.drop(valid_a1[valid_a1['Entity'] == 'Paragraph'].index,axis=0,inplace=True)"
      ],
      "execution_count": null,
      "outputs": []
    },
    {
      "cell_type": "code",
      "metadata": {
        "id": "KS0fpKqmLdVP",
        "colab_type": "code",
        "colab": {}
      },
      "source": [
        "train_a2.drop([0],axis=1,inplace=True)\n",
        "valid_a2.drop([0],axis=1,inplace=True)"
      ],
      "execution_count": null,
      "outputs": []
    },
    {
      "cell_type": "code",
      "metadata": {
        "id": "OHBKlScsLdVT",
        "colab_type": "code",
        "colab": {},
        "outputId": "c5aa130a-beae-4eef-b893-bd699509aea4"
      },
      "source": [
        "print(f'total number of valid_a1 samples without title and paragraph : {valid_a1.shape}')\n",
        "print(f'total number of valid_a2 samples : {valid_a2.shape}')"
      ],
      "execution_count": null,
      "outputs": [
        {
          "output_type": "stream",
          "text": [
            "total number of valid_a1 samples without title and paragraph : (1266, 3)\n",
            "total number of valid_a2 samples : (610, 3)\n"
          ],
          "name": "stdout"
        }
      ]
    },
    {
      "cell_type": "code",
      "metadata": {
        "id": "a_yMTnuULdVV",
        "colab_type": "code",
        "colab": {},
        "outputId": "48248d78-4f9a-486d-ca0c-70628a61f8ec"
      },
      "source": [
        "train_a2.head(10)"
      ],
      "execution_count": null,
      "outputs": [
        {
          "output_type": "execute_result",
          "data": {
            "text/html": [
              "<div>\n",
              "<style scoped>\n",
              "    .dataframe tbody tr th:only-of-type {\n",
              "        vertical-align: middle;\n",
              "    }\n",
              "\n",
              "    .dataframe tbody tr th {\n",
              "        vertical-align: top;\n",
              "    }\n",
              "\n",
              "    .dataframe thead th {\n",
              "        text-align: right;\n",
              "    }\n",
              "</style>\n",
              "<table border=\"1\" class=\"dataframe\">\n",
              "  <thead>\n",
              "    <tr style=\"text-align: right;\">\n",
              "      <th></th>\n",
              "      <th>Relation</th>\n",
              "      <th>word_1</th>\n",
              "      <th>word_2</th>\n",
              "    </tr>\n",
              "  </thead>\n",
              "  <tbody>\n",
              "    <tr>\n",
              "      <th>0</th>\n",
              "      <td>Lives_In</td>\n",
              "      <td>Non-O1 Vibrio cholerae</td>\n",
              "      <td>patients with cirrhosis</td>\n",
              "    </tr>\n",
              "    <tr>\n",
              "      <th>1</th>\n",
              "      <td>Lives_In</td>\n",
              "      <td>non-O1 V. cholerae</td>\n",
              "      <td>blood culture</td>\n",
              "    </tr>\n",
              "    <tr>\n",
              "      <th>2</th>\n",
              "      <td>Lives_In</td>\n",
              "      <td>non-O1 V. cholerae</td>\n",
              "      <td>blood</td>\n",
              "    </tr>\n",
              "    <tr>\n",
              "      <th>3</th>\n",
              "      <td>Lives_In</td>\n",
              "      <td>non-O1 V. cholerae</td>\n",
              "      <td>Patients with underlying cirrhosis and the afo...</td>\n",
              "    </tr>\n",
              "    <tr>\n",
              "      <th>4</th>\n",
              "      <td>Lives_In</td>\n",
              "      <td>non-O1 V. cholerae</td>\n",
              "      <td>Patients with decompensated cirrhosis</td>\n",
              "    </tr>\n",
              "    <tr>\n",
              "      <th>5</th>\n",
              "      <td>Lives_In</td>\n",
              "      <td>Kingella kingae</td>\n",
              "      <td>Respiratory</td>\n",
              "    </tr>\n",
              "    <tr>\n",
              "      <th>6</th>\n",
              "      <td>Lives_In</td>\n",
              "      <td>Kingella kingae</td>\n",
              "      <td>healthy children</td>\n",
              "    </tr>\n",
              "    <tr>\n",
              "      <th>7</th>\n",
              "      <td>Lives_In</td>\n",
              "      <td>Kingella kingae</td>\n",
              "      <td>respiratory tract</td>\n",
              "    </tr>\n",
              "    <tr>\n",
              "      <th>8</th>\n",
              "      <td>Lives_In</td>\n",
              "      <td>Kingella kingae</td>\n",
              "      <td>young children</td>\n",
              "    </tr>\n",
              "    <tr>\n",
              "      <th>9</th>\n",
              "      <td>Exhibits</td>\n",
              "      <td>Kingella kingae</td>\n",
              "      <td>invasive pathogen of young children</td>\n",
              "    </tr>\n",
              "  </tbody>\n",
              "</table>\n",
              "</div>"
            ],
            "text/plain": [
              "   Relation                  word_1  \\\n",
              "0  Lives_In  Non-O1 Vibrio cholerae   \n",
              "1  Lives_In      non-O1 V. cholerae   \n",
              "2  Lives_In      non-O1 V. cholerae   \n",
              "3  Lives_In      non-O1 V. cholerae   \n",
              "4  Lives_In      non-O1 V. cholerae   \n",
              "5  Lives_In         Kingella kingae   \n",
              "6  Lives_In         Kingella kingae   \n",
              "7  Lives_In         Kingella kingae   \n",
              "8  Lives_In         Kingella kingae   \n",
              "9  Exhibits         Kingella kingae   \n",
              "\n",
              "                                              word_2  \n",
              "0                            patients with cirrhosis  \n",
              "1                                      blood culture  \n",
              "2                                              blood  \n",
              "3  Patients with underlying cirrhosis and the afo...  \n",
              "4              Patients with decompensated cirrhosis  \n",
              "5                                        Respiratory  \n",
              "6                                   healthy children  \n",
              "7                                  respiratory tract  \n",
              "8                                     young children  \n",
              "9                invasive pathogen of young children  "
            ]
          },
          "metadata": {
            "tags": []
          },
          "execution_count": 16
        }
      ]
    },
    {
      "cell_type": "code",
      "metadata": {
        "id": "kjcD_vu3LdVY",
        "colab_type": "code",
        "colab": {}
      },
      "source": [
        "na_inx = train_a2[train_a2['Relation'] == 'Equiv'].index.values"
      ],
      "execution_count": null,
      "outputs": []
    },
    {
      "cell_type": "code",
      "metadata": {
        "id": "Ey_ovTdvLdVa",
        "colab_type": "code",
        "colab": {}
      },
      "source": [
        "train_a2.drop(na_inx,inplace=True)"
      ],
      "execution_count": null,
      "outputs": []
    },
    {
      "cell_type": "code",
      "metadata": {
        "id": "UXFSNpWvLdVc",
        "colab_type": "code",
        "colab": {}
      },
      "source": [
        "na_inx = valid_a2[valid_a2['Relation'] == 'Equiv'].index.values\n",
        "valid_a2.drop(na_inx,inplace=True)"
      ],
      "execution_count": null,
      "outputs": []
    },
    {
      "cell_type": "markdown",
      "metadata": {
        "id": "5aoCQvd8LdVe",
        "colab_type": "text"
      },
      "source": [
        "### Removing stop words from words"
      ]
    },
    {
      "cell_type": "code",
      "metadata": {
        "id": "hMV7M8frLdVf",
        "colab_type": "code",
        "colab": {},
        "outputId": "89b8de86-5da8-4000-8fb1-e13006250f19"
      },
      "source": [
        "from nltk.tokenize import word_tokenize, sent_tokenize\n",
        "from nltk.corpus import stopwords\n",
        "import re\n",
        "import nltk\n",
        "nltk.download('stopwords')"
      ],
      "execution_count": null,
      "outputs": [
        {
          "output_type": "stream",
          "text": [
            "[nltk_data] Downloading package stopwords to\n",
            "[nltk_data]     /home/paperspace/nltk_data...\n",
            "[nltk_data]   Package stopwords is already up-to-date!\n"
          ],
          "name": "stderr"
        },
        {
          "output_type": "execute_result",
          "data": {
            "text/plain": [
              "True"
            ]
          },
          "metadata": {
            "tags": []
          },
          "execution_count": 20
        }
      ]
    },
    {
      "cell_type": "code",
      "metadata": {
        "id": "yVdgmrbeLdVj",
        "colab_type": "code",
        "colab": {}
      },
      "source": [
        "#Preprocessing - removing unwanted characters, tokenization, stop-word removal\n",
        "def clean_data(txts):\n",
        "    x = re.sub(\"[^a-zA-Z0-9]\", \" \",txts) \n",
        "    x = x.lower().split()                             \n",
        "    stops = set(stopwords.words(\"english\"))                  \n",
        "    words = [w for w in x if not w in stops] \n",
        "    \n",
        "    return( \" \".join(words)) "
      ],
      "execution_count": null,
      "outputs": []
    },
    {
      "cell_type": "code",
      "metadata": {
        "id": "FyQsWZMjLdVm",
        "colab_type": "code",
        "colab": {},
        "outputId": "adbcec2d-1d70-4667-9279-b998dfbc5485"
      },
      "source": [
        "train_a2['word_1'] = train_a2['word_1'].apply(lambda x: clean_data(x))\n",
        "print(train_a2['word_1'].head())"
      ],
      "execution_count": null,
      "outputs": [
        {
          "output_type": "stream",
          "text": [
            "0    non o1 vibrio cholerae\n",
            "1         non o1 v cholerae\n",
            "2         non o1 v cholerae\n",
            "3         non o1 v cholerae\n",
            "4         non o1 v cholerae\n",
            "Name: word_1, dtype: object\n"
          ],
          "name": "stdout"
        }
      ]
    },
    {
      "cell_type": "code",
      "metadata": {
        "id": "UanqOkxwLdVq",
        "colab_type": "code",
        "colab": {},
        "outputId": "4e94d4c5-5c82-4eaa-f9bc-d1a950478c08"
      },
      "source": [
        "train_a2.head(10)"
      ],
      "execution_count": null,
      "outputs": [
        {
          "output_type": "execute_result",
          "data": {
            "text/html": [
              "<div>\n",
              "<style scoped>\n",
              "    .dataframe tbody tr th:only-of-type {\n",
              "        vertical-align: middle;\n",
              "    }\n",
              "\n",
              "    .dataframe tbody tr th {\n",
              "        vertical-align: top;\n",
              "    }\n",
              "\n",
              "    .dataframe thead th {\n",
              "        text-align: right;\n",
              "    }\n",
              "</style>\n",
              "<table border=\"1\" class=\"dataframe\">\n",
              "  <thead>\n",
              "    <tr style=\"text-align: right;\">\n",
              "      <th></th>\n",
              "      <th>Relation</th>\n",
              "      <th>word_1</th>\n",
              "      <th>word_2</th>\n",
              "    </tr>\n",
              "  </thead>\n",
              "  <tbody>\n",
              "    <tr>\n",
              "      <th>0</th>\n",
              "      <td>Lives_In</td>\n",
              "      <td>non o1 vibrio cholerae</td>\n",
              "      <td>patients with cirrhosis</td>\n",
              "    </tr>\n",
              "    <tr>\n",
              "      <th>1</th>\n",
              "      <td>Lives_In</td>\n",
              "      <td>non o1 v cholerae</td>\n",
              "      <td>blood culture</td>\n",
              "    </tr>\n",
              "    <tr>\n",
              "      <th>2</th>\n",
              "      <td>Lives_In</td>\n",
              "      <td>non o1 v cholerae</td>\n",
              "      <td>blood</td>\n",
              "    </tr>\n",
              "    <tr>\n",
              "      <th>3</th>\n",
              "      <td>Lives_In</td>\n",
              "      <td>non o1 v cholerae</td>\n",
              "      <td>Patients with underlying cirrhosis and the afo...</td>\n",
              "    </tr>\n",
              "    <tr>\n",
              "      <th>4</th>\n",
              "      <td>Lives_In</td>\n",
              "      <td>non o1 v cholerae</td>\n",
              "      <td>Patients with decompensated cirrhosis</td>\n",
              "    </tr>\n",
              "    <tr>\n",
              "      <th>5</th>\n",
              "      <td>Lives_In</td>\n",
              "      <td>kingella kingae</td>\n",
              "      <td>Respiratory</td>\n",
              "    </tr>\n",
              "    <tr>\n",
              "      <th>6</th>\n",
              "      <td>Lives_In</td>\n",
              "      <td>kingella kingae</td>\n",
              "      <td>healthy children</td>\n",
              "    </tr>\n",
              "    <tr>\n",
              "      <th>7</th>\n",
              "      <td>Lives_In</td>\n",
              "      <td>kingella kingae</td>\n",
              "      <td>respiratory tract</td>\n",
              "    </tr>\n",
              "    <tr>\n",
              "      <th>8</th>\n",
              "      <td>Lives_In</td>\n",
              "      <td>kingella kingae</td>\n",
              "      <td>young children</td>\n",
              "    </tr>\n",
              "    <tr>\n",
              "      <th>9</th>\n",
              "      <td>Exhibits</td>\n",
              "      <td>kingella kingae</td>\n",
              "      <td>invasive pathogen of young children</td>\n",
              "    </tr>\n",
              "  </tbody>\n",
              "</table>\n",
              "</div>"
            ],
            "text/plain": [
              "   Relation                  word_1  \\\n",
              "0  Lives_In  non o1 vibrio cholerae   \n",
              "1  Lives_In       non o1 v cholerae   \n",
              "2  Lives_In       non o1 v cholerae   \n",
              "3  Lives_In       non o1 v cholerae   \n",
              "4  Lives_In       non o1 v cholerae   \n",
              "5  Lives_In         kingella kingae   \n",
              "6  Lives_In         kingella kingae   \n",
              "7  Lives_In         kingella kingae   \n",
              "8  Lives_In         kingella kingae   \n",
              "9  Exhibits         kingella kingae   \n",
              "\n",
              "                                              word_2  \n",
              "0                            patients with cirrhosis  \n",
              "1                                      blood culture  \n",
              "2                                              blood  \n",
              "3  Patients with underlying cirrhosis and the afo...  \n",
              "4              Patients with decompensated cirrhosis  \n",
              "5                                        Respiratory  \n",
              "6                                   healthy children  \n",
              "7                                  respiratory tract  \n",
              "8                                     young children  \n",
              "9                invasive pathogen of young children  "
            ]
          },
          "metadata": {
            "tags": []
          },
          "execution_count": 23
        }
      ]
    },
    {
      "cell_type": "code",
      "metadata": {
        "id": "H4HbzRk4LdVs",
        "colab_type": "code",
        "colab": {},
        "outputId": "05f7f48f-e9f4-4473-ab16-041537a70b96"
      },
      "source": [
        "train_a2['word_2'] = train_a2['word_2'].apply(lambda x: clean_data(x))\n",
        "print(train_a2['word_2'].head())"
      ],
      "execution_count": null,
      "outputs": [
        {
          "output_type": "stream",
          "text": [
            "0                                   patients cirrhosis\n",
            "1                                        blood culture\n",
            "2                                                blood\n",
            "3    patients underlying cirrhosis aforementioned b...\n",
            "4                     patients decompensated cirrhosis\n",
            "Name: word_2, dtype: object\n"
          ],
          "name": "stdout"
        }
      ]
    },
    {
      "cell_type": "code",
      "metadata": {
        "id": "XHQl8VDgLdVu",
        "colab_type": "code",
        "colab": {}
      },
      "source": [
        "valid_a2['word_1'] = valid_a2['word_1'].apply(lambda x: clean_data(x))\n",
        "valid_a2['word_2'] = valid_a2['word_2'].apply(lambda x: clean_data(x))\n"
      ],
      "execution_count": null,
      "outputs": []
    },
    {
      "cell_type": "code",
      "metadata": {
        "id": "9jAXAkoSLdVw",
        "colab_type": "code",
        "colab": {},
        "outputId": "7d280b87-20f2-4194-e3d5-51c0aa187662"
      },
      "source": [
        "valid_a2.head()"
      ],
      "execution_count": null,
      "outputs": [
        {
          "output_type": "execute_result",
          "data": {
            "text/html": [
              "<div>\n",
              "<style scoped>\n",
              "    .dataframe tbody tr th:only-of-type {\n",
              "        vertical-align: middle;\n",
              "    }\n",
              "\n",
              "    .dataframe tbody tr th {\n",
              "        vertical-align: top;\n",
              "    }\n",
              "\n",
              "    .dataframe thead th {\n",
              "        text-align: right;\n",
              "    }\n",
              "</style>\n",
              "<table border=\"1\" class=\"dataframe\">\n",
              "  <thead>\n",
              "    <tr style=\"text-align: right;\">\n",
              "      <th></th>\n",
              "      <th>Relation</th>\n",
              "      <th>word_1</th>\n",
              "      <th>word_2</th>\n",
              "    </tr>\n",
              "  </thead>\n",
              "  <tbody>\n",
              "    <tr>\n",
              "      <th>0</th>\n",
              "      <td>Lives_In</td>\n",
              "      <td>yersinia</td>\n",
              "      <td>humans</td>\n",
              "    </tr>\n",
              "    <tr>\n",
              "      <th>1</th>\n",
              "      <td>Exhibits</td>\n",
              "      <td>yersinia</td>\n",
              "      <td>bacterial pathogens</td>\n",
              "    </tr>\n",
              "    <tr>\n",
              "      <th>2</th>\n",
              "      <td>Exhibits</td>\n",
              "      <td>yersinia</td>\n",
              "      <td>bacterial pathogens</td>\n",
              "    </tr>\n",
              "    <tr>\n",
              "      <th>3</th>\n",
              "      <td>Exhibits</td>\n",
              "      <td>pestis</td>\n",
              "      <td>bacterial pathogens</td>\n",
              "    </tr>\n",
              "    <tr>\n",
              "      <th>4</th>\n",
              "      <td>Exhibits</td>\n",
              "      <td>pseudotuberculosis</td>\n",
              "      <td>bacterial pathogens</td>\n",
              "    </tr>\n",
              "  </tbody>\n",
              "</table>\n",
              "</div>"
            ],
            "text/plain": [
              "   Relation              word_1               word_2\n",
              "0  Lives_In            yersinia               humans\n",
              "1  Exhibits            yersinia  bacterial pathogens\n",
              "2  Exhibits            yersinia  bacterial pathogens\n",
              "3  Exhibits              pestis  bacterial pathogens\n",
              "4  Exhibits  pseudotuberculosis  bacterial pathogens"
            ]
          },
          "metadata": {
            "tags": []
          },
          "execution_count": 26
        }
      ]
    },
    {
      "cell_type": "code",
      "metadata": {
        "id": "MM2SWIuCLdVz",
        "colab_type": "code",
        "colab": {}
      },
      "source": [
        "train_a2['combined_word'] = train_a2[['word_1', 'word_2']].apply(lambda x: ' '.join(x), axis=1)"
      ],
      "execution_count": null,
      "outputs": []
    },
    {
      "cell_type": "code",
      "metadata": {
        "id": "w-BL_ys8LdV1",
        "colab_type": "code",
        "colab": {}
      },
      "source": [
        "valid_a2['combined_word'] = valid_a2[['word_1', 'word_2']].apply(lambda x: ' '.join(x), axis=1)"
      ],
      "execution_count": null,
      "outputs": []
    },
    {
      "cell_type": "code",
      "metadata": {
        "id": "A33ORWEILdV3",
        "colab_type": "code",
        "colab": {},
        "outputId": "875d457c-0dad-418d-e2d4-b51e5eb52260"
      },
      "source": [
        "train_a2.head()"
      ],
      "execution_count": null,
      "outputs": [
        {
          "output_type": "execute_result",
          "data": {
            "text/html": [
              "<div>\n",
              "<style scoped>\n",
              "    .dataframe tbody tr th:only-of-type {\n",
              "        vertical-align: middle;\n",
              "    }\n",
              "\n",
              "    .dataframe tbody tr th {\n",
              "        vertical-align: top;\n",
              "    }\n",
              "\n",
              "    .dataframe thead th {\n",
              "        text-align: right;\n",
              "    }\n",
              "</style>\n",
              "<table border=\"1\" class=\"dataframe\">\n",
              "  <thead>\n",
              "    <tr style=\"text-align: right;\">\n",
              "      <th></th>\n",
              "      <th>Relation</th>\n",
              "      <th>word_1</th>\n",
              "      <th>word_2</th>\n",
              "      <th>combined_word</th>\n",
              "    </tr>\n",
              "  </thead>\n",
              "  <tbody>\n",
              "    <tr>\n",
              "      <th>0</th>\n",
              "      <td>Lives_In</td>\n",
              "      <td>non o1 vibrio cholerae</td>\n",
              "      <td>patients cirrhosis</td>\n",
              "      <td>non o1 vibrio cholerae patients cirrhosis</td>\n",
              "    </tr>\n",
              "    <tr>\n",
              "      <th>1</th>\n",
              "      <td>Lives_In</td>\n",
              "      <td>non o1 v cholerae</td>\n",
              "      <td>blood culture</td>\n",
              "      <td>non o1 v cholerae blood culture</td>\n",
              "    </tr>\n",
              "    <tr>\n",
              "      <th>2</th>\n",
              "      <td>Lives_In</td>\n",
              "      <td>non o1 v cholerae</td>\n",
              "      <td>blood</td>\n",
              "      <td>non o1 v cholerae blood</td>\n",
              "    </tr>\n",
              "    <tr>\n",
              "      <th>3</th>\n",
              "      <td>Lives_In</td>\n",
              "      <td>non o1 v cholerae</td>\n",
              "      <td>patients underlying cirrhosis aforementioned b...</td>\n",
              "      <td>non o1 v cholerae patients underlying cirrhosi...</td>\n",
              "    </tr>\n",
              "    <tr>\n",
              "      <th>4</th>\n",
              "      <td>Lives_In</td>\n",
              "      <td>non o1 v cholerae</td>\n",
              "      <td>patients decompensated cirrhosis</td>\n",
              "      <td>non o1 v cholerae patients decompensated cirrh...</td>\n",
              "    </tr>\n",
              "  </tbody>\n",
              "</table>\n",
              "</div>"
            ],
            "text/plain": [
              "   Relation                  word_1  \\\n",
              "0  Lives_In  non o1 vibrio cholerae   \n",
              "1  Lives_In       non o1 v cholerae   \n",
              "2  Lives_In       non o1 v cholerae   \n",
              "3  Lives_In       non o1 v cholerae   \n",
              "4  Lives_In       non o1 v cholerae   \n",
              "\n",
              "                                              word_2  \\\n",
              "0                                 patients cirrhosis   \n",
              "1                                      blood culture   \n",
              "2                                              blood   \n",
              "3  patients underlying cirrhosis aforementioned b...   \n",
              "4                   patients decompensated cirrhosis   \n",
              "\n",
              "                                       combined_word  \n",
              "0          non o1 vibrio cholerae patients cirrhosis  \n",
              "1                    non o1 v cholerae blood culture  \n",
              "2                            non o1 v cholerae blood  \n",
              "3  non o1 v cholerae patients underlying cirrhosi...  \n",
              "4  non o1 v cholerae patients decompensated cirrh...  "
            ]
          },
          "metadata": {
            "tags": []
          },
          "execution_count": 29
        }
      ]
    },
    {
      "cell_type": "markdown",
      "metadata": {
        "id": "uQwKPEVcLdV5",
        "colab_type": "text"
      },
      "source": [
        "### Converting the dataframe into list"
      ]
    },
    {
      "cell_type": "markdown",
      "metadata": {
        "id": "txrclG3ALdV6",
        "colab_type": "text"
      },
      "source": [
        "##### Corpus for combined words"
      ]
    },
    {
      "cell_type": "code",
      "metadata": {
        "id": "0o86gZjjLdV6",
        "colab_type": "code",
        "colab": {}
      },
      "source": [
        "train_words = train_a2['combined_word'].tolist()\n",
        "train_relation = train_a2['Relation'].tolist()"
      ],
      "execution_count": null,
      "outputs": []
    },
    {
      "cell_type": "code",
      "metadata": {
        "id": "6If9SRJhLdV8",
        "colab_type": "code",
        "colab": {}
      },
      "source": [
        "valid_words = valid_a2['combined_word'].tolist()\n",
        "valid_relation = valid_a2['Relation'].tolist()"
      ],
      "execution_count": null,
      "outputs": []
    },
    {
      "cell_type": "code",
      "metadata": {
        "id": "qi8BupBLLdV_",
        "colab_type": "code",
        "colab": {},
        "outputId": "0fc7d6f2-fce2-455d-d378-b7362cc58050"
      },
      "source": [
        "nltk.download('punkt')"
      ],
      "execution_count": null,
      "outputs": [
        {
          "output_type": "stream",
          "text": [
            "[nltk_data] Downloading package punkt to /home/paperspace/nltk_data...\n",
            "[nltk_data]   Package punkt is already up-to-date!\n"
          ],
          "name": "stderr"
        },
        {
          "output_type": "execute_result",
          "data": {
            "text/plain": [
              "True"
            ]
          },
          "metadata": {
            "tags": []
          },
          "execution_count": 32
        }
      ]
    },
    {
      "cell_type": "code",
      "metadata": {
        "id": "XZ_IDNruLdWB",
        "colab_type": "code",
        "colab": {}
      },
      "source": [
        "corpus = []\n",
        "for i in range(len(train_words)):\n",
        "    corpus.append(word_tokenize(train_words[i]))"
      ],
      "execution_count": null,
      "outputs": []
    },
    {
      "cell_type": "code",
      "metadata": {
        "id": "XEE3hAXTLdWE",
        "colab_type": "code",
        "colab": {}
      },
      "source": [
        "for i in range(len(valid_words)):\n",
        "    corpus.append(word_tokenize(valid_words[i]))"
      ],
      "execution_count": null,
      "outputs": []
    },
    {
      "cell_type": "code",
      "metadata": {
        "id": "hsPpVQO2LdWG",
        "colab_type": "code",
        "colab": {},
        "outputId": "ef8d405f-f5e7-48c4-c84e-ee91ca8af98e"
      },
      "source": [
        "corpus"
      ],
      "execution_count": null,
      "outputs": [
        {
          "output_type": "execute_result",
          "data": {
            "text/plain": [
              "[['non', 'o1', 'vibrio', 'cholerae', 'patients', 'cirrhosis'],\n",
              " ['non', 'o1', 'v', 'cholerae', 'blood', 'culture'],\n",
              " ['non', 'o1', 'v', 'cholerae', 'blood'],\n",
              " ['non',\n",
              "  'o1',\n",
              "  'v',\n",
              "  'cholerae',\n",
              "  'patients',\n",
              "  'underlying',\n",
              "  'cirrhosis',\n",
              "  'aforementioned',\n",
              "  'bacteremia'],\n",
              " ['non', 'o1', 'v', 'cholerae', 'patients', 'decompensated', 'cirrhosis'],\n",
              " ['kingella', 'kingae', 'respiratory'],\n",
              " ['kingella', 'kingae', 'healthy', 'children'],\n",
              " ['kingella', 'kingae', 'respiratory', 'tract'],\n",
              " ['kingella', 'kingae', 'young', 'children'],\n",
              " ['kingella', 'kingae', 'invasive', 'pathogen', 'young', 'children'],\n",
              " ['k', 'kingae', 'day', 'care', 'center', 'attendees'],\n",
              " ['k', 'kingae', 'throat', 'cultures'],\n",
              " ['k', 'kingae', 'throat'],\n",
              " ['k', 'kingae', 'children'],\n",
              " ['k', 'kingae', 'children'],\n",
              " ['k', 'kingae', 'surgical', 'patients'],\n",
              " ['k', 'kingae', 'pharyngeal'],\n",
              " ['campylobacter', 'uk'],\n",
              " ['campylobacter', 'uk', 'retail', 'poultry'],\n",
              " ['campylobacter', 'antimicrobial', 'resistance'],\n",
              " ['campylobacter', 'human'],\n",
              " ['campylobacter', 'clinical'],\n",
              " ['campylobacter', 'retail', 'poultry'],\n",
              " ['campylobacter', 'antimicrobial', 'resistance'],\n",
              " ['campylobacter', 'retail', 'poultry'],\n",
              " ['campylobacter', 'uk'],\n",
              " ['campylobacter', 'coli', 'erythromycin', 'resistance'],\n",
              " ['campylobacter', 'chicken'],\n",
              " ['campylobacter', 'antimicrobial', 'resistance'],\n",
              " ['campylobacter', 'farmed', 'chickens'],\n",
              " ['campylobacter', 'humans'],\n",
              " ['campylobacter', 'resistant'],\n",
              " ['streptococcus', 'thermophilus', 'production', 'exopolysaccharides'],\n",
              " ['streptococcus', 'thermophilus', 'lab'],\n",
              " ['lactobacillus', 'plantarum', 'lab'],\n",
              " ['lactobacillus', 'plantarum', 'production', 'exopolysaccharides'],\n",
              " ['lactococcus', 'lactis', 'production', 'exopolysaccharides'],\n",
              " ['lactococcus', 'lactis', 'lab'],\n",
              " ['pediococcus', 'damnsosus', 'lab'],\n",
              " ['pediococcus', 'damnsosus', 'production', 'exopolysaccharides'],\n",
              " ['l', 'plantarum', 'wcfs1', 'surface', 'polysaccharide', 'production'],\n",
              " ['pseudotuberculosis', 'mesenteric', 'lymph', 'nodes'],\n",
              " ['pseudotuberculosis', 'spleen'],\n",
              " ['pseudotuberculosis', 'peyer', 'patches'],\n",
              " ['arthrobacter', 'arilaitensis', 'gmpa29', 'smear', 'ripened', 'cheese'],\n",
              " ['arthrobacter', 'arilaitensis', 'gmpa29', 'cheese', 'surface', 'samples'],\n",
              " ['arthrobacter', 'arilaitensis', 'gmpa29', 'cheese'],\n",
              " ['psychrobacter', 'immobilis', 'pg1', 'smear', 'ripened', 'cheese'],\n",
              " ['psychrobacter', 'immobilis', 'pg1', 'cheese'],\n",
              " ['psychrobacter', 'immobilis', 'pg1', 'cheese', 'surface', 'samples'],\n",
              " ['vibrio', 'litoralis', 'b4', 'cheese', 'surface', 'samples'],\n",
              " ['vibrio', 'litoralis', 'b4', 'cheese'],\n",
              " ['vibrio', 'litoralis', 'b4', 'smear', 'ripened', 'cheese'],\n",
              " ['mycoplasma', 'gopherus', 'polyphemus'],\n",
              " ['mycoplasma', 'georgia'],\n",
              " ['mycoplasma', 'free', 'ranging', 'gopher', 'tortoises'],\n",
              " ['mycoplasma', 'usa'],\n",
              " ['mycoplasma', 'agassizii', 'georgia', 'tortoise', 'populations'],\n",
              " ['mycoplasma', 'agassizii', 'georgia'],\n",
              " ['mycoplasma', 'testudineum', 'georgia', 'tortoise', 'populations'],\n",
              " ['mycoplasma', 'testudineum', 'georgia'],\n",
              " ['agassizii', 'pathogens'],\n",
              " ['testudineum', 'pathogens'],\n",
              " ['testudineum', 'pathogenicity'],\n",
              " ['agassizii', 'georgia', 'populations', 'gopher', 'tortoises'],\n",
              " ['agassizii', 'georgia'],\n",
              " ['agassizii', 'pathogens'],\n",
              " ['agassizii', 'pathogens'],\n",
              " ['testudineum', 'georgia'],\n",
              " ['testudineum', 'georgia', 'populations', 'gopher', 'tortoises'],\n",
              " ['testudineum', 'pathogens'],\n",
              " ['testudineum', 'pathogens'],\n",
              " ['arilaitensis', 'cheese'],\n",
              " ['arilaitensis', 'cheese', 'surface'],\n",
              " ['arilaitensis', 'cheese', 'surface', 'microbiota'],\n",
              " ['vibrio', 'cholerae', '1', 'household', 'contacts', 'patients'],\n",
              " ['v', 'cholerae', '1', 'people', 'v', 'cholerae', '1', 'infection'],\n",
              " ['v', 'cholerae', '1', 'water'],\n",
              " ['v', 'cholerae', '1', 'lagoon', 'outskirts', 'city', 'cagliari'],\n",
              " ['v', 'cholerae', '1', 'arselle'],\n",
              " ['v', 'cholerae', '1', 'bivalves'],\n",
              " ['lactococcus', 'lactis', 'milk'],\n",
              " ['lactococcus', 'lactis', 'curd'],\n",
              " ['lactococcus', 'lactis', 'lactic', 'acid', 'bacteria'],\n",
              " ['debaryomyces', 'hansenii', 'cheese', 'surface'],\n",
              " ['debaryomyces', 'hansenii', 'cheese'],\n",
              " ['debaryomyces', 'hansenii', 'acid', 'tolerant'],\n",
              " ['geotrichum', 'candidum', 'cheese'],\n",
              " ['geotrichum', 'candidum', 'cheese', 'surface'],\n",
              " ['geotrichum', 'candidum', 'acid', 'tolerant'],\n",
              " ['kluyveromyces', 'sp', 'cheese'],\n",
              " ['kluyveromyces', 'sp', 'cheese', 'surface'],\n",
              " ['kluyveromyces', 'sp', 'acid', 'tolerant'],\n",
              " ['yarrowia', 'lipolytica', 'cheese'],\n",
              " ['yarrowia', 'lipolytica', 'cheese', 'surface'],\n",
              " ['yarrowia', 'lipolytica', 'acid', 'tolerant'],\n",
              " ['brevibacterium', 'aurantiacum', 'cheese'],\n",
              " ['brevibacterium', 'aurantiacum', 'cheese', 'surface'],\n",
              " ['brevibacterium', 'aurantiacum', 'smear', 'surface', 'ripened', 'cheese'],\n",
              " ['corynebacterium', 'cheese', 'surface'],\n",
              " ['corynebacterium', 'smear', 'surface', 'ripened', 'cheese'],\n",
              " ['corynebacterium', 'cheese'],\n",
              " ['arthrobacter', 'cheese', 'surface'],\n",
              " ['arthrobacter', 'cheese'],\n",
              " ['arthrobacter', 'smear', 'surface', 'ripened', 'cheese'],\n",
              " ['staphylococcus', 'spp', 'cheese'],\n",
              " ['staphylococcus', 'spp', 'smear', 'surface', 'ripened', 'cheese'],\n",
              " ['staphylococcus', 'spp', 'cheese', 'surface'],\n",
              " ['h', 'alvei', 'high', 'capacity', 'produce', 'vsc'],\n",
              " ['h',\n",
              "  'alvei',\n",
              "  'high',\n",
              "  'capacity',\n",
              "  'convert',\n",
              "  'methionine',\n",
              "  'cysteine',\n",
              "  'aroma',\n",
              "  'compounds'],\n",
              " ['h', 'alvei', 'beef', 'models'],\n",
              " ['serratia', 'italy'],\n",
              " ['serratia', 'hospital', 'camillo', 'de', 'lellis'],\n",
              " ['serratia', 'roma'],\n",
              " ['p', 'celer', 'cheese'],\n",
              " ['p', 'celer', 'cheese'],\n",
              " ['h', 'alvei', 'cheese'],\n",
              " ['hafnia', 'cheese'],\n",
              " ['enterococcus', 'faecalis', 'cheese'],\n",
              " ['lactobacillus', 'plantarum', 'cheese'],\n",
              " ['brevibacterium', 'linens', 'farmhouse', 'cheeses'],\n",
              " ['hansenii', 'livarot', 'cheeses'],\n",
              " ['hansenii', 'munster', 'cheeses'],\n",
              " ['hansenii', 'cheese'],\n",
              " ['hansenii', 'cheese', 'surface'],\n",
              " ['g', 'candidum', 'munster', 'cheeses'],\n",
              " ['g', 'candidum', 'cheese'],\n",
              " ['g', 'candidum', 'livarot', 'cheeses'],\n",
              " ['g', 'candidum', 'cheese', 'surface'],\n",
              " ['lipolytica', 'munster', 'cheeses'],\n",
              " ['lipolytica', 'cheese'],\n",
              " ['lipolytica', 'livarot', 'cheeses'],\n",
              " ['lipolytica', 'cheese', 'surface'],\n",
              " ['arilaitensis', 'munster', 'cheeses'],\n",
              " ['arilaitensis', 'cheese'],\n",
              " ['arilaitensis', 'cheese', 'surface'],\n",
              " ['arilaitensis', 'livarot', 'cheeses'],\n",
              " ['arilaitensis', 'french', 'red', 'smear', 'soft', 'cheeses'],\n",
              " ['bcg', 'bcg', 'granulomatous', 'lesions'],\n",
              " ['mycobacteria', 'animal', 'models'],\n",
              " ['mycobacteria', 'man', 'models'],\n",
              " ['mycobacterial', 'animal', 'models'],\n",
              " ['mycobacterial', 'man', 'models'],\n",
              " ['bcg', 'bcg', 'granulomas'],\n",
              " ['bcg', 'bcg', 'granulomatous', 'lesion'],\n",
              " ['bcg', 'bcg', 'granulomas', 'without', 'necrosis'],\n",
              " ['bcg', 'bcg', 'granuloma'],\n",
              " ['pichia', 'pastoris', 'methylotrophic'],\n",
              " ['str', 'thermophilus', 'cheese'],\n",
              " ['str', 'thermophilus', 'cheese', 'interiors'],\n",
              " ['vagococcus', 'carniphilus', 'cheese', 'surfaces'],\n",
              " ['psychrobacter', 'spp', 'cheese', 'surfaces'],\n",
              " ['lb', 'curvatus', 'cheese', 'surfaces'],\n",
              " ['proteus', 'vulgaris', 'gram', 'negative', 'bacterial', 'microbiota'],\n",
              " ['proteus', 'vulgaris', 'cheese', 'dairy', 'c'],\n",
              " ['proteus', 'vulgaris', 'gram', 'negative'],\n",
              " ['alcaligenes', 'faecalis', 'gram', 'negative', 'bacterial', 'microbiota'],\n",
              " ['alcaligenes', 'faecalis', 'cheese', 'dairy', 'c'],\n",
              " ['alcaligenes', 'faecalis', 'gram', 'negative'],\n",
              " ['p', 'vulgaris', 'cheese', 'ripening', 'culture'],\n",
              " ['p', 'vulgaris', 'surface', 'ripening', 'cultures'],\n",
              " ['faecalis', 'water'],\n",
              " ['faecalis', 'soil'],\n",
              " ['faecalis', 'environments', 'association', 'humans'],\n",
              " ['faecalis', 'livarot', 'cheese'],\n",
              " ['faecalis', 'non', 'pathogenic'],\n",
              " ['marinilactibacillus', 'psychrotolerans', 'cheese'],\n",
              " ['marinilactibacillus', 'psychrotolerans', 'surface', 'cheese'],\n",
              " ['marinilactibacillus', 'psychrotolerans', 'marine'],\n",
              " ['marinilactibacillus', 'psychrotolerans', 'cheese'],\n",
              " ['psychrotolerans', 'german', 'cheeses'],\n",
              " ['psychrotolerans', 'french', 'cheeses'],\n",
              " ['psychrotolerans', 'marine', 'environments'],\n",
              " ['psychrotolerans', 'cheeses'],\n",
              " ['psychrotolerans', 'sea', 'salt'],\n",
              " ['pseudomonas', 'aeruginosa', 'susceptible', 'individuals'],\n",
              " ['pseudomonas', 'aeruginosa', 'gram', 'negative'],\n",
              " ['pseudomonas',\n",
              "  'aeruginosa',\n",
              "  'resistant',\n",
              "  'clinically',\n",
              "  'available',\n",
              "  'antimicrobials'],\n",
              " ['p', 'aeruginosa', 'pao1', 'pathogen'],\n",
              " ['lactocococcus', 'lactis', 'starter', 'cultures'],\n",
              " ['lactocococcus', 'lactis', 'cheese'],\n",
              " ['lactocococcus', 'lactis', 'lactic', 'acid', 'bacteria'],\n",
              " ['lactocococcus', 'lactis', 'mesophilic'],\n",
              " ['streptococcus', 'thermophilus', 'starter', 'cultures'],\n",
              " ['streptococcus', 'thermophilus', 'cheese'],\n",
              " ['streptococcus', 'thermophilus', 'thermophilic'],\n",
              " ['streptococcus', 'thermophilus', 'lactic', 'acid', 'bacteria'],\n",
              " ['coxiella', 'burnetii', 'infected', 'yolk', 'sacs'],\n",
              " ['c', 'burnetii', 'normal', 'yolk', 'sacs'],\n",
              " ['c', 'burnetii', 'infected', 'yolk', 'sacs'],\n",
              " ['p', 'celer', 'cheese'],\n",
              " ['hansenii', 'cheese'],\n",
              " ['hansenii', 'cheese', 'surface'],\n",
              " ['g', 'candidum', 'cheese', 'surface'],\n",
              " ['g', 'candidum', 'cheese'],\n",
              " ['g', 'candidum', 'cheese'],\n",
              " ['g', 'candidum', 'cheese', 'surface'],\n",
              " ['hansenii', 'cheese', 'surface'],\n",
              " ['hansenii', 'cheese'],\n",
              " ['lipolytica', 'cheese'],\n",
              " ['lipolytica', 'cheese', 'surface'],\n",
              " ['haemophilus',\n",
              "  'influenzae',\n",
              "  'children',\n",
              "  'attending',\n",
              "  'day',\n",
              "  'care',\n",
              "  'center'],\n",
              " ['haemophilus', 'influenzae', 'healthy', 'children'],\n",
              " ['haemophilus', 'influenzae', 'throats', 'two', 'healthy', 'children'],\n",
              " ['nthi', 'colonized', 'children'],\n",
              " ['streptococcus', 'pneumoniae', 'japan'],\n",
              " ['streptococcus', 'pneumoniae', 'pathogens'],\n",
              " ['haemophilus', 'influenzae', 'japan'],\n",
              " ['haemophilus', 'influenzae', 'pathogens'],\n",
              " ['mycoplasma', 'pneumoniae', 'japan'],\n",
              " ['mycoplasma', 'pneumoniae', 'pathogens'],\n",
              " ['neisseria', 'meningitidis', 'japan'],\n",
              " ['neisseria', 'meningitidis', 'pathogens'],\n",
              " ['escherichia', 'coli', 'japan'],\n",
              " ['escherichia', 'coli', 'pathogens'],\n",
              " ['streptococcus', 'agalactiae', 'japan'],\n",
              " ['streptococcus', 'agalactiae', 'pathogens'],\n",
              " ['staphylococcus', 'aureus', 'japan'],\n",
              " ['staphylococcus', 'aureus', 'pathogens'],\n",
              " ['listeria', 'monocytogenes', 'japan'],\n",
              " ['listeria', 'monocytogenes', 'pathogens'],\n",
              " ['h', 'influenzae', 'csf'],\n",
              " ['h', 'influenzae', 'patients', 'antibiotic', 'administration'],\n",
              " ['pneumoniae', 'csf'],\n",
              " ['pneumoniae', 'patients', 'antibiotic', 'administration'],\n",
              " ['agalactiae', 'patients', 'antibiotic', 'administration'],\n",
              " ['agalactiae', 'csf'],\n",
              " ['e', 'coli', 'csf'],\n",
              " ['e', 'coli', 'patients', 'antibiotic', 'administration'],\n",
              " ['l', 'monocytogenes', 'csf'],\n",
              " ['l', 'monocytogenes', 'patients', 'antibiotic', 'administration'],\n",
              " ['pneumoniae', 'csf'],\n",
              " ['pneumoniae', 'patients', 'antibiotic', 'administration'],\n",
              " ['lactococcus', 'lactis', 'cheese'],\n",
              " ['lactococcus', 'lactis', 'subsp', 'lactis', 'cheese'],\n",
              " ['lc', 'lactis', 'subsp', 'cremoris', 'cheese'],\n",
              " ['lc', 'lactis', 'subsp', 'cremoris', 'starter', 'culture'],\n",
              " ['lc', 'lactis', 'subsp', 'cremoris', 'lab'],\n",
              " ['lactobacillus', 'paracasei', 'cheeses'],\n",
              " ['lactobacillus', 'paracasei', 'nslab'],\n",
              " ['lb', 'paracasei', 'danbo', 'cheeses'],\n",
              " ['lb', 'paracasei', 'nslab'],\n",
              " ['lactococcus', 'lactis', 'pasteurized', 'milk', 'cheeses'],\n",
              " ['lactococcus', 'garvieae', 'pasteurized', 'milk', 'cheeses'],\n",
              " ['leuconostoc', 'pseudomesenteroides', 'pasteurized', 'milk', 'cheeses'],\n",
              " ['leuconostoc', 'citreum', 'pasteurized', 'milk', 'cheeses'],\n",
              " ['lactobacillus', 'sp', 'pasteurized', 'milk', 'cheeses'],\n",
              " ['carnobacterium', 'mobile', 'pasteurized', 'milk', 'cheeses'],\n",
              " ['enterococcus', 'faecalis', 'pasteurized', 'milk', 'cheeses'],\n",
              " ['enterococcus', 'faecium', 'pasteurized', 'milk', 'cheeses'],\n",
              " ['macrococcus', 'caseolyticus', 'pasteurized', 'milk', 'cheeses'],\n",
              " ['hafnia', 'alvei', 'pasteurized', 'milk', 'cheeses'],\n",
              " ['stec', 'o26', 'h11', 'pasteurized', 'milk', 'cheeses'],\n",
              " ['stec', 'o26', 'h11', 'stec'],\n",
              " ['stec', 'o157', 'h7', 'pasteurized', 'milk', 'cheeses'],\n",
              " ['stec', 'o157', 'h7', 'stec'],\n",
              " ['respiratory', 'syncytial', 'virus', 'respiratory'],\n",
              " ['respiratory', 'syncytial', 'virus', 'patients', 'wari'],\n",
              " ['parainfluenza', 'virus', 'types', '3', 'patients', 'wari'],\n",
              " ['parainfluenza', 'virus', 'types', '1', 'patients', 'wari'],\n",
              " ['adenoviruses', 'patients', 'wari'],\n",
              " ['mycoplasma', 'pneumoniae', 'patients', 'wari'],\n",
              " ['rsv', 'children', '5', 'years', 'age'],\n",
              " ['rsv', 'cause', 'wari', 'children', '5', 'years', 'age'],\n",
              " ['mycoplasma',\n",
              "  'pneumoniae',\n",
              "  'school',\n",
              "  'age',\n",
              "  'children',\n",
              "  'wheezing',\n",
              "  'illness'],\n",
              " ['debaryomyces', 'hansenii', 'semi', 'soft', 'cheeses'],\n",
              " ['debaryomyces', 'hansenii', 'soft', 'cheeses'],\n",
              " ['geotrichum', 'candidum', 'soft', 'cheeses'],\n",
              " ['staphylococci', 'semi', 'soft', 'cheeses'],\n",
              " ['staphylococci', 'soft', 'cheeses'],\n",
              " ['staphylococci', 'coagulase', 'negative'],\n",
              " ['hansenii', 'cheese', 'brine'],\n",
              " ['hansenii', 'cheese', 'surface'],\n",
              " ['staphylococci', 'cheese', 'brine'],\n",
              " ['staphylococci', 'cheese', 'surface'],\n",
              " ['hansenii', 'dairy', 'housemicrobiota'],\n",
              " ['hansenii', 'cheeses', 'danish', 'danbo', 'type'],\n",
              " ['hansenii', 'ripening', 'room'],\n",
              " ['hansenii', 'cheese'],\n",
              " ['hansenii', 'cheese', 'surface'],\n",
              " ['coryneforms', 'cheese', 'surface'],\n",
              " ['coryneforms', 'gram', 'positive'],\n",
              " ['brevibacterium', 'spp', 'cheese', 'surface'],\n",
              " ['brevibacterium', 'spp', 'acid', 'tolerant', 'bacterial', 'microbiota'],\n",
              " ['brevibacterium', 'spp', 'acid', 'tolerant'],\n",
              " ['brevibacterium', 'spp', 'gram', 'positive'],\n",
              " ['corynebacterium', 'spp', 'acid', 'tolerant', 'bacterial', 'microbiota'],\n",
              " ['corynebacterium', 'spp', 'cheese', 'surface'],\n",
              " ['corynebacterium', 'spp', 'gram', 'positive'],\n",
              " ['corynebacterium', 'spp', 'acid', 'tolerant'],\n",
              " ['microbacterium', 'spp', 'cheese', 'surface'],\n",
              " ['microbacterium', 'spp', 'acid', 'tolerant', 'bacterial', 'microbiota'],\n",
              " ['microbacterium', 'spp', 'gram', 'positive'],\n",
              " ['microbacterium', 'spp', 'acid', 'tolerant'],\n",
              " ['marinilactibacillus', 'spp', 'cheese', 'surfaces'],\n",
              " ['marinilactibacillus', 'spp', 'gram', 'positive'],\n",
              " ['halomonas', 'spp', 'cheese'],\n",
              " ['halomonas', 'spp', 'cheese', 'surfaces'],\n",
              " ['halomonas', 'spp', 'cheese'],\n",
              " ['halomonas', 'spp', 'gram', 'negative'],\n",
              " ['vibrio', 'spp', 'cheese', 'surfaces'],\n",
              " ['vibrio', 'spp', 'cheese'],\n",
              " ['vibrio', 'spp', 'cheese'],\n",
              " ['vibrio', 'spp', 'gram', 'negative'],\n",
              " ['proteus', 'spp', 'cheese'],\n",
              " ['proteus', 'spp', 'cheese'],\n",
              " ['proteus', 'spp', 'cheese', 'surfaces'],\n",
              " ['proteus', 'spp', 'gram', 'negative'],\n",
              " ['enterobacteriaceae', 'cheese'],\n",
              " ['enterobacteriaceae', 'cheese'],\n",
              " ['enterobacteriaceae', 'cheese', 'surfaces'],\n",
              " ['clostridium', 'difficile', 'inpatients'],\n",
              " ['clostridium', 'difficile', 'patients', 'severe', 'complicated', 'cdi'],\n",
              " ['clostridium', 'difficile', 'inpatients'],\n",
              " ['clostridium',\n",
              "  'difficile',\n",
              "  'inpatient',\n",
              "  'cases',\n",
              "  'cdi',\n",
              "  '48',\n",
              "  '6',\n",
              "  'female',\n",
              "  'median',\n",
              "  'age',\n",
              "  '62',\n",
              "  '5',\n",
              "  'years',\n",
              "  'range',\n",
              "  '0',\n",
              "  '1',\n",
              "  '103',\n",
              "  '7',\n",
              "  'years'],\n",
              " ['clostridium', 'difficile', 'minnesota'],\n",
              " ['clostridium', 'difficile', 'olmsted', 'county'],\n",
              " ['clostridium', 'difficile', 'hospitalized', 'patients'],\n",
              " ['clostridium', 'difficile', 'hospitalized', 'patients'],\n",
              " ['clostridium', 'difficile', 'olmsted', 'county'],\n",
              " ['clostridium', 'difficile', 'patients'],\n",
              " ['escherichia', 'coli', 'pigs', 'jejunal', 'tissue'],\n",
              " ['escherichia', 'coli', 'caco', '2', 'cells'],\n",
              " ['escherichia', 'coli', 'adhesion'],\n",
              " ['escherichia', 'coli', 'o8', 'k88', 'intestinal'],\n",
              " ['escherichia', 'coli', 'o8', 'k88', 'intestinal', 'mucosa'],\n",
              " ['escherichia', 'coli', 'o8', 'k88', 'adhesion'],\n",
              " ['lactobacilli', 'fully', 'differentiated', 'caco', '2', 'cells'],\n",
              " ['e', 'coli', 'fully', 'differentiated', 'caco', '2', 'cells'],\n",
              " ['e', 'coli', 'caco', '2'],\n",
              " ['e', 'coli', 'adhesion'],\n",
              " ['e', 'coli', 'binding'],\n",
              " ['e', 'coli', 'tissue', 'derived', 'pigs', 'jejunum'],\n",
              " ['lb', 'gasseri', 'k', '7', 'tissue', 'derived', 'pigs', 'jejunum'],\n",
              " ['e', 'coli', 'jejunal', 'mucosa'],\n",
              " ['e', 'coli', 'adhesion'],\n",
              " ['lb', 'gasseri', 'k', '7', 'jejunal', 'mucosa'],\n",
              " ['lb', 'gasseri', 'k', '7', 'jejunal'],\n",
              " ['lb', 'gasseri', 'k', '7', 'adhesion'],\n",
              " ['e', 'coli', 'jejunal', 'tissue'],\n",
              " ['lactobacilli', 'jejunal', 'tissue'],\n",
              " ['lb', 'gasseri', 'k', '7', 'caco', '2', 'enterocytes'],\n",
              " ['e', 'coli', 'caco', '2', 'enterocytes'],\n",
              " ['e', 'coli', 'pig', 'jejunal', 'tissue'],\n",
              " ['e', 'coli', 'adhesion'],\n",
              " ['serratia', 'marcescens', 'mg1', 'quorum', 'sensing'],\n",
              " ['serratia', 'marcescens', 'mg1', 'adhesion'],\n",
              " ['serratia', 'marcescens', 'abiotic', 'surface'],\n",
              " ['serratia', 'marcescens', 'hce', 'cells'],\n",
              " ['serratia', 'marcescens', 'ocular'],\n",
              " ['serratia', 'marcescens', 'hce', 'cell', 'biotic', 'surface'],\n",
              " ['serratia', 'marcescens', 'biotic', 'surface'],\n",
              " ['serratia', 'marcescens', 'abiotic', 'surface'],\n",
              " ['serratia', 'marcescens', 'abiotic', 'surface'],\n",
              " ['serratia', 'marcescens', 'abiotic', 'surface'],\n",
              " ['serratia', 'marcescens', 'biotic', 'hce', 'cell', 'surface'],\n",
              " ['serratia', 'marcescens', 'adhesion'],\n",
              " ['serratia', 'marcescens', 'opportunistic', 'pathogen'],\n",
              " ['serratia', 'marcescens', 'attachment'],\n",
              " ['serratia', 'marcescens', 'attachment'],\n",
              " ['serratia', 'marcescens', 'attachment'],\n",
              " ['serratia', 'marcescens', 'adhesion'],\n",
              " ['serratia', 'marcescens', 'adhesion'],\n",
              " ['serratia', 'marcescens', 'adhesion'],\n",
              " ['serratia', 'marcescens', 'adhesion'],\n",
              " ['marcescens', 'mg1', 'biofilm'],\n",
              " ['marcescens', 'mg1', 'biofilm', 'maturation'],\n",
              " ['marcescens',\n",
              "  'mg1',\n",
              "  'n',\n",
              "  'acyl',\n",
              "  'homoserine',\n",
              "  'lactone',\n",
              "  'ahl',\n",
              "  'based',\n",
              "  'quorum',\n",
              "  'sensing'],\n",
              " ['marcescens', 'qs'],\n",
              " ['marcescens', 'mg1', 'abiotic', 'surface'],\n",
              " ['marcescens', 'mg1', 'abiotic', 'surfaces'],\n",
              " ['marcescens', 'mg1', 'biotic', 'surface'],\n",
              " ['marcescens', 'mg1', 'biotic', 'surfaces'],\n",
              " ['marcescens', 'mg1', 'qs'],\n",
              " ['marcescens', 'mg1', 'attachment'],\n",
              " ['marcescens', 'mg1', 'adhesion'],\n",
              " ['marcescens', 'mg1', 'adhesion'],\n",
              " ['p', 'celer', 'community', 'p', 'celer'],\n",
              " ['propionibacteria', 'dairy'],\n",
              " ['streptococcus',\n",
              "  'pneumoniae',\n",
              "  'type',\n",
              "  '37',\n",
              "  'production',\n",
              "  'glucan',\n",
              "  'capsular',\n",
              "  'polysaccharide'],\n",
              " ['p', 'freudenreichii', 'subsp', 'shermanii', 'yel', 'medium'],\n",
              " ['p', 'freudenreichii', 'subsp', 'shermanii', 'ropy', 'phenotype'],\n",
              " ['p',\n",
              "  'freudenreichii',\n",
              "  'subsp',\n",
              "  'shermanii',\n",
              "  'presence',\n",
              "  '1',\n",
              "  '3',\n",
              "  '1',\n",
              "  '2',\n",
              "  'glucan',\n",
              "  'capsule'],\n",
              " ['propionibacterium', 'acidipropionici', 'strain', 'tl', '47', 'milk'],\n",
              " ['francisella',\n",
              "  'tularensis',\n",
              "  'lvs',\n",
              "  'murine',\n",
              "  'macrophage',\n",
              "  'like',\n",
              "  'cell',\n",
              "  'line',\n",
              "  'j774'],\n",
              " ['francisella', 'tularensis', 'human'],\n",
              " ['francisella', 'tularensis', 'human'],\n",
              " ['francisella', 'tularensis', 'human', 'cells'],\n",
              " ['francisella',\n",
              "  'tularensis',\n",
              "  'ability',\n",
              "  'proliferate',\n",
              "  'inside',\n",
              "  'human',\n",
              "  'cells'],\n",
              " ['francisella', 'tularensis', 'causative', 'agent', 'human', 'tularemia'],\n",
              " ['f', 'tularensis', 'lvs', 'macrophage', 'like', 'cell', 'line', 'j774'],\n",
              " ['f', 'tularensis', 'j774', 'cells'],\n",
              " ['f', 'tularensis', 'j774', 'cell', 'line'],\n",
              " ['streptococcus', 'pyogenes', 'glycoprotein', 'binding', 'activity'],\n",
              " ['streptococcus', 'pyogenes', 'adhesion', 'mechanisms'],\n",
              " ['pyogenes', 'activity', 'binding', 'asialofetuin'],\n",
              " ['pyogenes', 'activity', 'binding', 'mucin'],\n",
              " ['pyogenes', 'activity', 'binding', 'fetuin'],\n",
              " ['pyogenes', 'activity', 'binding', 'thyroglobulin'],\n",
              " ['pyogenes', 'virulence'],\n",
              " ['escherichia', 'coli', 'cattle'],\n",
              " ['escherichia', 'coli', 'healthy', 'cows'],\n",
              " ['escherichia', 'coli', 'gram', 'negative'],\n",
              " ['c', 'variabile', 'gubbeen', 'cheese'],\n",
              " ['c', 'casei', 'gubbeen', 'cheese'],\n",
              " ['leuconostoc', 'cheeses'],\n",
              " ['vibrio', 'parahaemolyticus', 'gram', 'negative'],\n",
              " ['staphylococcus', 'aureus', 'patients'],\n",
              " ['staphylococcus', 'aureus', 'methicillin', 'resistant'],\n",
              " ['staphylococcus', 'aureus', 'skilled', 'nursing', 'facility'],\n",
              " ['staphylococcus', 'aureus', 'methicillin', 'resistant'],\n",
              " ['mrsa', 'snf', 'patients'],\n",
              " ['mrsa', 'mrsa'],\n",
              " ['mrsa', 'patients'],\n",
              " ['mrsa', 'mrsa'],\n",
              " ['mrsa', 'nares', 'swab', 'cultures'],\n",
              " ['mrsa', 'stool'],\n",
              " ['mrsa', 'oxacillin', 'screening', 'agar'],\n",
              " ['mrsa', 'nares'],\n",
              " ['mrsa', 'stool', 'swab', 'cultures'],\n",
              " ['mrsa', 'mrsa'],\n",
              " ['mrsa', 'mrsa'],\n",
              " ['mrsa', 'snf', 'patients'],\n",
              " ['mrsa', 'mrsa'],\n",
              " ['streptococcus', 'infantarius', 'western', 'african', 'fermented', 'milks'],\n",
              " ['streptococcus', 'infantarius', 'infant', 'feces'],\n",
              " ['3ag', 'western', 'african', 'fermented', 'milks'],\n",
              " ['11fa', 'western', 'african', 'fermented', 'milks'],\n",
              " ['atcc', 'baa', '102', 'infant', 'feces'],\n",
              " ['cj18', 'eastern', 'african', 'fermented', 'milk'],\n",
              " ['zobellia', 'galactanivorans', 'dsij', 'marine'],\n",
              " ['pseudomonas', 'fluorescens', 'strain', 'tss', 'local', 'farm'],\n",
              " ['pseudomonas',\n",
              "  'fluorescens',\n",
              "  'strain',\n",
              "  'tss',\n",
              "  'diseased',\n",
              "  'japanese',\n",
              "  'flounder',\n",
              "  'cultured',\n",
              "  'local',\n",
              "  'farm'],\n",
              " ['pseudomonas', 'fluorescens', 'strain', 'tss', 'pathogenic'],\n",
              " ['tfm', 'host', 'serum'],\n",
              " ['tfm', 'japanese', 'flounder'],\n",
              " ['tfm',\n",
              "  'decreased',\n",
              "  'resistance',\n",
              "  'host',\n",
              "  'serum',\n",
              "  'bactericidal',\n",
              "  'activity'],\n",
              " ['tfm', 'japanese', 'flounder'],\n",
              " ['tfm', 'live', 'vaccine'],\n",
              " ['tfm', 'japanese', 'flounder'],\n",
              " ['psychrobacter', 'immobilis', 'pg1', 'dairy', 'plant'],\n",
              " ['strain', 'pg1', 'smear', 'ripened', 'cheese'],\n",
              " ['strain', 'pg1', 'cheese'],\n",
              " ['geotrichum', 'candidum', 'clib', '918', 'smear', 'ripened', 'cheese'],\n",
              " ['debaryomyces', 'hansenii', 'cbs767', 'smear', 'ripened', 'cheese'],\n",
              " ['pseudoalteromonas', 'haloplanktis', 'tac125', 'cheese'],\n",
              " ['pseudoalteromonas', 'haloplanktis', 'tac125', 'smear', 'ripened', 'cheese'],\n",
              " ['halomonas', 'sp', '1', 'm45', 'smear', 'ripened', 'cheese'],\n",
              " ['halomonas', 'sp', '1', 'm45', 'cheese'],\n",
              " ['psychrobacter', 'celer', '91', 'smear', 'ripened', 'cheese'],\n",
              " ['psychrobacter', 'celer', '91', 'cheese'],\n",
              " ['psychrobacter', 'smear', 'cheese'],\n",
              " ['psychrobacter', 'bacterial', 'microbiota', 'smear', 'cheese', 'surfaces'],\n",
              " ['psychrobacter', 'smear', 'cheese', 'surfaces'],\n",
              " ['halomonas', 'smear', 'cheese', 'surfaces'],\n",
              " ['halomonas', 'smear', 'cheese'],\n",
              " ['halomonas', 'marine', 'environments'],\n",
              " ['halomonas', 'bacterial', 'microbiota', 'smear', 'cheese', 'surfaces'],\n",
              " ['hafnia', 'smear', 'cheese', 'surfaces'],\n",
              " ['hafnia', 'bacterial', 'microbiota', 'smear', 'cheese', 'surfaces'],\n",
              " ['hafnia', 'cheese'],\n",
              " ['hafnia', 'smear', 'cheese'],\n",
              " ['penicillium', 'camemberti', 'fm', '013', 'smear', 'ripened', 'cheeses'],\n",
              " ['penicillium', 'camemberti', 'fm', '013', 'cheese'],\n",
              " ['arthrobacter', 'bergerei', 'ca106', 'surface', 'blue', 'veined', 'cheese'],\n",
              " ['arthrobacter', 'bergerei', 'ca106', 'blue', 'veined', 'cheese'],\n",
              " ['psychrobacter', 'cheese'],\n",
              " ['psychrobacter', 'cheeses'],\n",
              " ['streptococcus', 'thermophilus', 'cheese'],\n",
              " ['streptococcus',\n",
              "  'thermophilus',\n",
              "  'thermophilic',\n",
              "  'lactic',\n",
              "  'starter',\n",
              "  'culture'],\n",
              " ['streptococcus', 'thermophilus', 'lactic', 'acid', 'bacteria'],\n",
              " ['streptococcus', 'thermophilus', 'thermophilic'],\n",
              " ['lactobacillus',\n",
              "  'delbrueckii',\n",
              "  'thermophilic',\n",
              "  'lactic',\n",
              "  'starter',\n",
              "  'culture'],\n",
              " ['lactobacillus', 'delbrueckii', 'cheese'],\n",
              " ['lactobacillus', 'delbrueckii', 'lactic', 'acid', 'bacteria'],\n",
              " ['lactobacillus', 'delbrueckii', 'thermophilic'],\n",
              " ['lactococcus', 'lactis', 'cheeses'],\n",
              " ['lactococcus', 'lactis', 'lactic', 'acid', 'bacterium'],\n",
              " ['psychrobacter', 'aquimaris', 'cheeses'],\n",
              " ['brachybacterium', 'tyrofermentans', 'cheeses'],\n",
              " ['corynebacterium', 'ammoniagenes', 'cheeses'],\n",
              " ['brevibacterium', 'antiquum', 'cheeses'],\n",
              " ['microbacterium', 'gubbeenense', 'cheeses'],\n",
              " ['brochothrix', 'thermosphacta', 'cheeses'],\n",
              " ['marinilactibacillus', 'psychrotolerans', 'cheeses'],\n",
              " ['pseudomonas', 'aeruginosa', '0', '2', 'mgcl', '2'],\n",
              " ['pseudomonas', 'aeruginosa', '20', 'sucrose'],\n",
              " ['scopulariopsis', 'brevicaulis', 'cheese'],\n",
              " ['scopulariopsis', 'brevicaulis', 'filamentous'],\n",
              " ['brevicaulis', 'cheeses'],\n",
              " ['brevicaulis', 'danish', 'cheese'],\n",
              " ['brevicaulis', 'high', 'proteolytic', 'activity'],\n",
              " ['brevicaulis', 'ammonia', 'production'],\n",
              " ['brevicaulis', 'production', 'arsenical', 'compounds'],\n",
              " ['staphylococcus', 'biofilms'],\n",
              " ['staphylococcus', 'medical', 'devices'],\n",
              " ['staphylococcus', 'epidermidis', 'biomaterial'],\n",
              " ['staphylococcus', 'epidermidis', 'biofilm'],\n",
              " ['staphylococcus', 'epidermidis', 'development', 'biofilm'],\n",
              " ['staphylococcus', 'aureus', 'biomaterial'],\n",
              " ['staphylococcus', 'aureus', 'biofilm'],\n",
              " ['staphylococcus', 'aureus', 'development', 'biofilm'],\n",
              " ['aureus', 'biofilm'],\n",
              " ['aureus', 'biofilm', 'development'],\n",
              " ['epidermidis', 'biofilm'],\n",
              " ['epidermidis', 'biofilm', 'development'],\n",
              " ['halomonas', 'cheese'],\n",
              " ['1', 'm45', 'smear', 'ripened', 'cheese'],\n",
              " ['providencia', 'heimbachae', 'gr4', 'cheese'],\n",
              " ['anabaena', 'sp', 'strain', 'l', '31', 'nitrogen', 'fixing'],\n",
              " ['anabaena', 'sp', 'strain', 'l', '31', 'thermotolerance'],\n",
              " ['anabaena', 'sp', 'strain', 'l', '31', 'soil'],\n",
              " ['anabaena',\n",
              "  'sp',\n",
              "  'strain',\n",
              "  'l',\n",
              "  '31',\n",
              "  'abilities',\n",
              "  'survive',\n",
              "  'prolonged',\n",
              "  'continuous',\n",
              "  'heat',\n",
              "  'stress'],\n",
              " ['anabaena', 'sp', 'strain', 'l', '31', 'nitrogen', 'fixing'],\n",
              " ['l', '31', 'nitrogenase', 'activity'],\n",
              " ['l', '31', 'thermotolerance'],\n",
              " ['streptococcus', 'infantarius', 'ability', 'ferment', 'lactose'],\n",
              " ['staphylococcus', 'aureus', 'methicillin', 'resistant'],\n",
              " ['mrsa', 'mrsa'],\n",
              " ['enterococcus', 'vancomycin', 'resistant'],\n",
              " ['vre', 'vre'],\n",
              " ['staphylococcus', 'aureus', 'patient'],\n",
              " ['staphylococcus', 'aureus', 'methicillin', 'resistant'],\n",
              " ['mrsa', 'mrsa'],\n",
              " ['enterococcus', 'patient'],\n",
              " ['enterococcus', 'vancomycin', 'resistant'],\n",
              " ['vre', 'vre'],\n",
              " ['mrsa', 'mrsa'],\n",
              " ['vre', 'vre'],\n",
              " ['mrsa', 'mrsa'],\n",
              " ['vre', 'vre'],\n",
              " ['mrsa', 'mrsa'],\n",
              " ['vre', 'vre'],\n",
              " ['mrsa', 'mrsa', 'colonized', 'patients'],\n",
              " ['mrsa', 'mrsa'],\n",
              " ['vre', 'vre', 'colonized', 'patients'],\n",
              " ['vre', 'vre'],\n",
              " ['mrsa', 'mrsa'],\n",
              " ['vre', 'vre'],\n",
              " ['mrsa', 'mrsa'],\n",
              " ['mrsa', 'mrsa'],\n",
              " ['mrsa', 'mrsa'],\n",
              " ['vre', 'vre'],\n",
              " ['c', 'flavescens', 'cheese'],\n",
              " ['c', 'flavescens', 'cheese'],\n",
              " ['c', 'flavescens', 'cheese', 'surface'],\n",
              " ['h', 'alvei', 'cheese'],\n",
              " ['arilaitensis', 'cheese', 'surface'],\n",
              " ['arilaitensis', 'cheese'],\n",
              " ['h', 'alvei', 'cheese'],\n",
              " ['arilaitensis', 'cheese'],\n",
              " ['pseudomonas',\n",
              "  'aeruginosa',\n",
              "  'urine',\n",
              "  'patients',\n",
              "  'accepted',\n",
              "  'chemotherapy'],\n",
              " ['pseudomonas', 'aeruginosa', 'patients', 'accepted', 'chemotherapy'],\n",
              " ['pseudomonas',\n",
              "  'aeruginosa',\n",
              "  'sputum',\n",
              "  'patients',\n",
              "  'accepted',\n",
              "  'chemotherapy'],\n",
              " ['pseudomonas', 'aeruginosa', 'nosocomial'],\n",
              " ['pseudomonas',\n",
              "  'aeruginosa',\n",
              "  'blood',\n",
              "  'patients',\n",
              "  'accepted',\n",
              "  'chemotherapy'],\n",
              " ['pseudomonas', 'aeruginosa', 'resistant', 'broad', 'spectrum', 'penicillin'],\n",
              " ['pseudomonas', 'aeruginosa', 'gram', 'negative'],\n",
              " ['enterobacter', 'cloacae', 'urine', 'patients', 'accepted', 'chemotherapy'],\n",
              " ['enterobacter', 'cloacae', 'nosocomial'],\n",
              " ['enterobacter', 'cloacae', 'blood', 'patients', 'accepted', 'chemotherapy'],\n",
              " ['enterobacter', 'cloacae', 'sputum', 'patients', 'accepted', 'chemotherapy'],\n",
              " ['enterobacter', 'cloacae', 'patients', 'accepted', 'chemotherapy'],\n",
              " ['enterobacter', 'cloacae', 'resistant', 'broad', 'spectrum', 'penicillin'],\n",
              " ['enterobacter', 'cloacae', 'gram', 'negative'],\n",
              " ['e', 'coli', 'gram', 'negative'],\n",
              " ['e', 'coli', 'resistant', 'broad', 'spectrum', 'penicillin'],\n",
              " ['acinetobacter',\n",
              "  'baumannii',\n",
              "  'blood',\n",
              "  'patients',\n",
              "  'accepted',\n",
              "  'chemotherapy'],\n",
              " ['acinetobacter',\n",
              "  'baumannii',\n",
              "  'sputum',\n",
              "  'patients',\n",
              "  'accepted',\n",
              "  'chemotherapy'],\n",
              " ['acinetobacter', 'baumannii', 'patients', 'accepted', 'chemotherapy'],\n",
              " ['acinetobacter', 'baumannii', 'nosocomial'],\n",
              " ['acinetobacter',\n",
              "  'baumannii',\n",
              "  'urine',\n",
              "  'patients',\n",
              "  'accepted',\n",
              "  'chemotherapy'],\n",
              " ['enterococcus', 'urine', 'patients', 'accepted', 'chemotherapy'],\n",
              " ['enterococcus', 'blood', 'patients', 'accepted', 'chemotherapy'],\n",
              " ['enterococcus', 'patients', 'accepted', 'chemotherapy'],\n",
              " ['enterococcus', 'sputum', 'patients', 'accepted', 'chemotherapy'],\n",
              " ['enterococcus', 'nosocomial'],\n",
              " ['enterococcus', 'gram', 'positive'],\n",
              " ['enterococcus', 'gram', 'positive'],\n",
              " ['arhodomonas', 'aquaeolei', 'subterranean', 'brine'],\n",
              " ['arhodomonas', 'aquaeolei', 'aerobic'],\n",
              " ['arhodomonas', 'aquaeolei', 'halophilic'],\n",
              " ['arhodomonas', 'aquaeolei', 'petroleum', 'reservoir', 'production', 'fluid'],\n",
              " ['arhodomonas', 'aquaeolei', 'motile'],\n",
              " ['arhodomonas', 'aquaeolei', 'oxidase', 'positive'],\n",
              " ['arhodomonas', 'aquaeolei', 'oval', 'rod', 'shaped'],\n",
              " ['arhodomonas', 'aquaeolei', 'catalase', 'positive'],\n",
              " ['arhodomonas', 'aquaeolei', 'obligately', 'halophilic'],\n",
              " ['arhodomonas', 'aquaeolei', 'aerobic'],\n",
              " ['arhodomonas', 'aquaeolei', 'gram', 'negative'],\n",
              " ['aquaeolei', 'subterranean', 'environment'],\n",
              " ['bacillus', 'intermedius', 's3', '19', 'streptomycin', 'resistant'],\n",
              " ['staphylococcus', 'aureus', 'jail'],\n",
              " ['staphylococcus', 'aureus', 'environmental', 'surfaces', 'jail', 'setting'],\n",
              " ['mrsa', 'environmental', 'surfaces', 'jail', 'setting'],\n",
              " ['mrsa', 'jail'],\n",
              " ['mrsa', 'mrsa'],\n",
              " ['staphylococcus', 'aureus', 'methicillin', 'resistant'],\n",
              " ['mrsa', 'mrsa'],\n",
              " ['aureus', 'oxacillin', 'resistant', 'screening', 'agar'],\n",
              " ['aureus', 'jail'],\n",
              " ['aureus', 'jail', 'environmental', 'surfaces'],\n",
              " ['aureus', 'primary', 'secondary', 'mannitol', 'salts'],\n",
              " ['aureus', 'mrsa'],\n",
              " ['mrsa', 'inmates', 'nasal'],\n",
              " ['mrsa', 'jail', 'environmental', 'surfaces'],\n",
              " ['mrsa', 'primary', 'secondary', 'mannitol', 'salts'],\n",
              " ['mrsa', 'oxacillin', 'resistant', 'screening', 'agar'],\n",
              " ['mrsa', 'inmates'],\n",
              " ['mrsa', 'jail'],\n",
              " ['mrsa', 'mrsa'],\n",
              " ['mrsa', 'correctional', 'facilities'],\n",
              " ['mrsa', 'mrsa'],\n",
              " ['mrsa', 'correctional', 'facilities'],\n",
              " ['mrsa', 'mrsa'],\n",
              " ['lb', 'plantarum', 'fh3', 'cheeses'],\n",
              " ['h', 'alvei', 'b16', 'cheeses'],\n",
              " ['lc', 'lactis', 'd5', '3', 'cheeses'],\n",
              " ['leuconostoc', 'cheeses'],\n",
              " ['leuconostoc', 'dextran', 'producing'],\n",
              " ['lactococcus', 'cheeses'],\n",
              " ['lactobacillus', 'cheeses'],\n",
              " ['pseudomonas', 'cheeses'],\n",
              " ['arthrobacter', 'cheese'],\n",
              " ['arthrobacter', 'soil'],\n",
              " ['arthrobacter', 'ubiquitous'],\n",
              " ['arthrobacter', 'arilaitensis', 're117', 'cheese', 'habitat'],\n",
              " ['arthrobacter', 'arilaitensis', 're117', 'catabolism', 'galactonate'],\n",
              " ['staphylococcus', 'aureus', 'human'],\n",
              " ['staphylococcus', 'aureus', 'human', 'pathogens'],\n",
              " ['escherichia', 'coli', 'o157', 'h7', 'apple', 'surfaces'],\n",
              " ['escherichia', 'coli', 'o157', 'h7', 'lettuce'],\n",
              " ['escherichia', 'coli', 'o157', 'h7', 'apple'],\n",
              " ['escherichia', 'coli', 'o157', 'h7', 'lettuce', 'surfaces'],\n",
              " ['escherichia', 'coli', 'o157', 'h7', 'nutrient', 'broth'],\n",
              " ['escherichia', 'coli', 'o157', 'h7', 'tryptic', 'soy', 'broth'],\n",
              " ['escherichia', 'coli', 'o157', 'h7', 'attachment'],\n",
              " ['escherichia', 'coli', 'o157', 'h7', 'apple', 'surfaces'],\n",
              " ['escherichia', 'coli', 'o157', 'h7', 'tsb'],\n",
              " ['escherichia', 'coli', 'o157', 'h7', 'lettuce', 'surfaces'],\n",
              " ['escherichia', 'coli', 'o157', 'h7', 'lettuce', 'surfaces'],\n",
              " ['escherichia', 'coli', 'o157', 'h7', 'nb'],\n",
              " ['escherichia', 'coli', 'o157', 'h7', 'nutrient', 'broth'],\n",
              " ['escherichia', 'coli', 'o157', 'h7', 'lettuce'],\n",
              " ['escherichia', 'coli', 'o157', 'h7', 'apple', 'surfaces'],\n",
              " ['escherichia', 'coli', 'o157', 'h7', 'lettuce'],\n",
              " ['escherichia', 'coli', 'o157', 'h7', 'apple'],\n",
              " ['escherichia', 'coli', 'o157', 'h7', 'nb'],\n",
              " ['escherichia', 'coli', 'o157', 'h7', 'tsb'],\n",
              " ['escherichia', 'coli', 'o157', 'h7', 'apple'],\n",
              " ['escherichia', 'coli', 'o157', 'h7', 'tryptic', 'soy', 'broth'],\n",
              " ['e', 'coli', 'o157', 'h7', 'nb'],\n",
              " ['e', 'coli', 'o157', 'h7', 'nb'],\n",
              " ['e', 'coli', 'o157', 'h7', 'tsb'],\n",
              " ['e', 'coli', 'o157', 'h7', 'tsb'],\n",
              " ['e', 'coli', 'o157', 'h7', 'capsule', 'production'],\n",
              " ['e', 'coli', 'o157', 'h7', 'attachment', 'ability'],\n",
              " ['e', 'coli', 'o157', 'h7', 'attachment'],\n",
              " ['e', 'coli', 'o157', 'h7', 'capsule', 'production'],\n",
              " ['h', 'alvei', 'spanish', 'farmhouse', 'cheese'],\n",
              " ['h', 'alvei', 'livarot', 'cheese'],\n",
              " ['streptococcus', 'pneumoniae', 'gram', 'positive'],\n",
              " ['pseudoalteromonas', 'cheese', 'rinds'],\n",
              " ['pseudoalteromonas', 'cheeses'],\n",
              " ['pseudoalteromonas', 'gram', 'negative'],\n",
              " ['halomonas', 'cheese', 'rinds'],\n",
              " ['halomonas', 'cheeses'],\n",
              " ['halomonas', 'gram', 'negative'],\n",
              " ['vibrio', 'cheese', 'rinds'],\n",
              " ['vibrio', 'cheeses'],\n",
              " ['vibrio', 'gram', 'negative'],\n",
              " ['marinilactibacillus', 'cheeses'],\n",
              " ['marinilactibacillus', 'cheese', 'rinds'],\n",
              " ['marinilactibacillus', 'gram', 'negative'],\n",
              " ['psychrobacter', 'cheeses'],\n",
              " ['psychrobacter', 'cheese', 'rinds'],\n",
              " ['psychrobacter', 'gram', 'negative'],\n",
              " ['mycobacterium',\n",
              "  'tuberculosis',\n",
              "  'macaca',\n",
              "  'mulatta',\n",
              "  'infected',\n",
              "  'virulent',\n",
              "  'mycobacterium',\n",
              "  'tuberculosis'],\n",
              " ['mycobacterium', 'tuberculosis', 'virulent'],\n",
              " ['clostridium', 'perfringens', 'type', 'broilers'],\n",
              " ['c', 'perfringens', 'intestinal'],\n",
              " ['salmonella', 'paratyphi', 'israeli', 'travelers'],\n",
              " ['salmonella', 'paratyphi', 'nepal'],\n",
              " ['salmonella', 'paratyphi', 'asia'],\n",
              " ['paratyphi', 'israeli', 'travelers'],\n",
              " ['paratyphi', 'nepal'],\n",
              " ['paratyphi', 'nepal'],\n",
              " ['paratyphi', 'israeli', 'travelers'],\n",
              " ['paratyphi', 'nalidixic', 'acid', 'resistant'],\n",
              " ['p', 'phenylpyruvica', 'cured', 'meat', 'model'],\n",
              " ['psychrobacter', 'sp', 'model', 'cheese'],\n",
              " ['p', 'celer', 'cheeses'],\n",
              " ['methylocella', 'methanotrophs'],\n",
              " ['methylocella',\n",
              "  'silvestris',\n",
              "  'ability',\n",
              "  'grow',\n",
              "  'simultaneously',\n",
              "  'methane',\n",
              "  'longer',\n",
              "  'chain',\n",
              "  'alkanes'],\n",
              " ['p', 'parvulus', 'glucan', 'produced'],\n",
              " ['lactobacillus', 'paracasei', 'gastrointestinal'],\n",
              " ['helicobacter', 'pullorum', 'patients', 'enteritis'],\n",
              " ['helicobacter', 'pullorum', 'asymptomatic', 'poultry'],\n",
              " ['h', 'pullorum', 'immunocompromised', 'patient'],\n",
              " ['h', 'pullorum', 'human'],\n",
              " ['actinobacteria', 'gram', 'positive'],\n",
              " ['corynebacterium', 'casei', 'gram', 'positive'],\n",
              " ['c', 'variabile', 'gram', 'positive'],\n",
              " ['brachybacterium', 'alimentarum', 'cheese', 'dairy'],\n",
              " ['brevibacterium', 'cheeses', 'farmhouses'],\n",
              " ['b', 'permense', 'cheese', 'dairy'],\n",
              " ['b', 'linens', 'cheese', 'dairy', 'b'],\n",
              " ['b', 'aurantiacum', 'cheese', 'dairy', 'c'],\n",
              " ['staphylococci', 'coagulase', 'negative'],\n",
              " ['staphylococcus', 'saprophyticus', 'cheeses', 'dairies'],\n",
              " ['staphylococcus', 'saprophyticus', 'cheeses', 'dairies', 'b'],\n",
              " ['staphylococcus', 'saprophyticus', 'coagulase', 'negative'],\n",
              " ['staph', 'equorum', 'cheeses', 'dairies'],\n",
              " ['staph', 'equorum', 'cheeses', 'dairies', 'c'],\n",
              " ['staph', 'equorum', 'coagulase', 'negative'],\n",
              " ['proteus', 'vulgaris', 'cheese', 'dairy', 'c'],\n",
              " ['proteus', 'vulgaris', 'gram', 'negative'],\n",
              " ['alcaligenes', 'faecalis', 'cheese', 'dairy', 'c'],\n",
              " ['alcaligenes', 'faecalis', 'gram', 'negative'],\n",
              " ['yarrowia', 'lipolytica', 'cheese', 'dairy'],\n",
              " ['scopulariopsis', 'brevicaulis', 'cheese', 'dairy'],\n",
              " ['geotrichum', 'spp', 'cheese', 'dairy', 'b'],\n",
              " ['geotrichum', 'spp', 'yeast', 'microbiota'],\n",
              " ['kluyveromyces', 'marxianus', 'yeast', 'microbiota'],\n",
              " ['kluyveromyces', 'marxianus', 'cheese', 'dairy', 'b'],\n",
              " ['debaryomyces', 'hansenii', 'yeast', 'microbiota'],\n",
              " ['debaryomyces', 'hansenii', 'cheese', 'dairy', 'b'],\n",
              " ['hansenii', 'cheese', 'dairy', 'c'],\n",
              " ['geothrichum', 'spp', 'cheese', 'dairy', 'c'],\n",
              " ['hansenii', 'cheese', 'dairy'],\n",
              " ['pseudoalteromonas',\n",
              "  'haloplanktis',\n",
              "  'cheese',\n",
              "  'produced',\n",
              "  'traditional',\n",
              "  'methods'],\n",
              " ['pseudoalteromonas', 'haloplanktis', 'traditional', 'cheese'],\n",
              " ['pseudoalteromonas', 'haloplanktis', 'gram', 'negative'],\n",
              " ['psychrobacter',\n",
              "  'immobilis',\n",
              "  'cheese',\n",
              "  'produced',\n",
              "  'traditional',\n",
              "  'methods'],\n",
              " ['psychrobacter', 'immobilis', 'traditional', 'cheese'],\n",
              " ['psychrobacter', 'immobilis', 'gram', 'negative'],\n",
              " ['debaryomyces', 'hansenii', 'surface', 'ripened', 'cheeses'],\n",
              " ['geotrichum', 'spp', 'surface', 'ripened', 'cheeses'],\n",
              " ['hansenii', 'cheeses', 'dairies', 'c'],\n",
              " ['hansenii', 'cheeses', 'dairies'],\n",
              " ['geotrichum', 'spp', 'cheese', 'dairy', 'b'],\n",
              " ['yarrowia', 'lipolytica', 'cheese', 'dairy'],\n",
              " ['lipolytica', 'cheese', 'surfaces'],\n",
              " ['hansenii', 'cheese', 'surfaces'],\n",
              " ['geotrichum', 'spp', 'cheese', 'surfaces'],\n",
              " ['h', 'alvei', 'community', 'containing', 'h', 'alvei'],\n",
              " ['streptococcus', 'thermophilus', 'interior', 'cheese', 'dairy'],\n",
              " ['vagococcus', 'carniphilus', 'cheese', 'surface', 'samples'],\n",
              " ['vagococcus', 'carniphilus', 'cheeses', 'dairies', 'b'],\n",
              " ['vagococcus', 'carniphilus', 'cheeses', 'dairies'],\n",
              " ['vagococcus', 'carniphilus', 'cheese'],\n",
              " ['vagococcus', 'carniphilus', 'cheeses', 'dairies'],\n",
              " ['psychrobacter', 'spp', 'cheeses', 'dairies', 'c'],\n",
              " ['psychrobacter', 'spp', 'cheese'],\n",
              " ['psychrobacter', 'spp', 'cheese', 'surface', 'samples'],\n",
              " ['psychrobacter', 'spp', 'cheeses', 'dairies'],\n",
              " ['lb', 'curvatus', 'cheese'],\n",
              " ['lb', 'curvatus', 'cheese', 'dairy', 'b'],\n",
              " ['lb', 'curvatus', 'cheese', 'surface', 'samples'],\n",
              " ['mycobacterium', 'kansasii', 'gingivomandibular'],\n",
              " ['mycobacterium', 'kansasii', 'patient', 'aids'],\n",
              " ['proteus', 'vulgaris', '1', 'm10', 'model', 'cheese'],\n",
              " ['psychrobacter', 'celer', 'cheeses'],\n",
              " ['psychrobacter',\n",
              "  'celer',\n",
              "  'surface',\n",
              "  'experimental',\n",
              "  'smear',\n",
              "  'soft',\n",
              "  'cheese'],\n",
              " ['psychrobacter', 'celer', 'experimental', 'smear', 'soft', 'cheese'],\n",
              " ['psychrobacter', 'celer', 'gram', 'negative'],\n",
              " ['h', 'alvei', 'cheeses'],\n",
              " ['h', 'alvei', 'experimental', 'smear', 'soft', 'cheese'],\n",
              " ['h', 'alvei', 'surface', 'experimental', 'smear', 'soft', 'cheese'],\n",
              " ['h', 'alvei', 'gram', 'negative'],\n",
              " ['corynebacterium', 'casei', 'environment', 'cheese', 'manufacturing'],\n",
              " ['corynebacterium', 'casei', 'cheese', 'habitat'],\n",
              " ['microbacterium', 'gubbeenense', 'environment', 'cheese', 'manufacturing'],\n",
              " ['microbacterium', 'gubbeenense', 'cheese', 'habitat'],\n",
              " ['arthrobacter', 'arilaitensis', 'environment', 'cheese', 'manufacturing'],\n",
              " ['arthrobacter', 'arilaitensis', 'cheese', 'habitat'],\n",
              " ['arthrobacter', 'bergerei', 'cheese', 'habitat'],\n",
              " ['arthrobacter', 'bergerei', 'environment', 'cheese', 'manufacturing'],\n",
              " ['agrococcus', 'casei', 'cheese', 'habitat'],\n",
              " ['agrococcus', 'casei', 'environment', 'cheese', 'manufacturing'],\n",
              " ['mycetocola', 'reblochoni', 'cheese', 'habitat'],\n",
              " ['mycetocola', 'reblochoni', 'environment', 'cheese', 'manufacturing'],\n",
              " ['vibrio', 'casei', 'environment', 'cheese', 'manufacturing'],\n",
              " ['vibrio', 'casei', 'cheese', 'habitat'],\n",
              " ['p', 'celer', 'lipase', 'activity'],\n",
              " ['h', 'alvei', 'community'],\n",
              " ['l', 'rhamnosus', 'rw', '9595m', 'lab'],\n",
              " ['l', 'rhamnosus', 'rw', '9595m', 'eps', 'producers'],\n",
              " ['lactobacillus', 'kefiranofaciens', 'wt', '2b', 'lab'],\n",
              " ['lactobacillus', 'kefiranofaciens', 'wt', '2b', 'eps', 'producers'],\n",
              " ['l', 'lactis', 'subsp', 'cremoris', 'lab'],\n",
              " ['l', 'lactis', 'subsp', 'cremoris', 'eps', 'producers'],\n",
              " ['thermophilus', 'eps', 'producers'],\n",
              " ['thermophilus', 'lab'],\n",
              " ['lactobacillus', 'delbrueckii', 'subsp', 'bulgaricus', 'eps', 'producers'],\n",
              " ['lactobacillus', 'delbrueckii', 'subsp', 'bulgaricus', 'lab'],\n",
              " ['lactobacillus', 'casei', 'lab'],\n",
              " ['lactobacillus', 'casei', 'eps', 'producers'],\n",
              " ['l', 'plantarum', 'eps', 'producers'],\n",
              " ['l', 'plantarum', 'lab'],\n",
              " ['p', 'celer', 'cheese'],\n",
              " ['p', 'celer', 'cheeses'],\n",
              " ['p', 'celer', 'complex', 'cheese', 'community'],\n",
              " ['h', 'alvei', 'cheese'],\n",
              " ['h', 'alvei', 'cheeses'],\n",
              " ['h', 'alvei', 'complex', 'cheese', 'community'],\n",
              " ['campylobacter', 'jejuni', 'human'],\n",
              " ['campylobacter', 'jejuni', 'human', 'gastrointestinal'],\n",
              " ['campylobacter', 'jejuni', 'human', 'gastrointestinal', 'pathogen'],\n",
              " ['salmonella', 'enterica', 'northern', 'spain'],\n",
              " ['salmonella', 'enterica', 'animals'],\n",
              " ['salmonella', 'enterica', 'humans'],\n",
              " ['salmonella', 'enterica', 'beta', 'lactamase', 'producing'],\n",
              " ['salmonella', 'enterica', 'spanish', 'hospitals'],\n",
              " ['virchow', 'spanish', 'hospitals'],\n",
              " ['virchow', 'extended', 'spectrum', 'beta', 'lactamase', 'esbl', 'producer'],\n",
              " ['livingstone', 'spanish', 'hospitals'],\n",
              " ['livingstone',\n",
              "  'extended',\n",
              "  'spectrum',\n",
              "  'beta',\n",
              "  'lactamase',\n",
              "  'esbl',\n",
              "  'producer'],\n",
              " ['enterica', 'hospitals'],\n",
              " ['legionella', 'pneumophila', 'host', 'cell'],\n",
              " ['mycobacterium', 'leprae', 'schwann', 'cells', 'adult', 'pns'],\n",
              " ['mycobacterium', 'leprae', 'adult', 'pns'],\n",
              " ['mycobacterium', 'leprae', 'adult'],\n",
              " ['mycobacterium', 'leprae', 'human'],\n",
              " ['leprae', 'myelinated', 'schwann', 'cells'],\n",
              " ['leprae', 'myelin', 'free', 'cells'],\n",
              " ['leprae', 'infected', 'cells'],\n",
              " ['leprae', 'cell'],\n",
              " ['leprae', 'pns'],\n",
              " ['leprae', 'adult', 'schwann', 'cells'],\n",
              " ['h', 'alvei', 'b16', 'cheese'],\n",
              " ['streptococcus', 'thermophilus', 'raw', 'milk', 'cheese', 'dairy'],\n",
              " ['streptococcus', 'thermophilus', 'lactic', 'acid', 'bacterium'],\n",
              " ['streptococcus', 'thermophilus', 'thermophilic'],\n",
              " ['h', 'alvei', 'cheese', 'community'],\n",
              " ['h', 'alvei', 'cheeses'],\n",
              " ['h', 'alvei', 'cheese'],\n",
              " ['pseudomonas',\n",
              "  'aeruginosa',\n",
              "  'hydrogen',\n",
              "  'cyanide',\n",
              "  'hcn',\n",
              "  'ammonia',\n",
              "  'nh',\n",
              "  'emitted'],\n",
              " ['pseudomonas', 'aeruginosa', 'clinical'],\n",
              " ['pseudomonas', 'aeruginosa', 'patients', 'cf'],\n",
              " ['pseudomonas', 'aeruginosa', 'hydrogen', 'cyanide', 'hcn', 'production'],\n",
              " ['p', 'aeruginosa', 'hydrogen', 'cyanide', 'hcn', 'production'],\n",
              " ['p', 'aeruginosa', 'hydrogen', 'cyanide', 'production'],\n",
              " ['p', 'aeruginosa', 'produced', 'hcn'],\n",
              " ['p', 'aeruginosa', 'hcn', 'production'],\n",
              " ['burkholderia', 'cepacia', 'produced', 'hcn'],\n",
              " ['burkholderia', 'cepacia', 'pathogens'],\n",
              " ['aspergillus', 'fumigatus', 'pathogens'],\n",
              " ['stenotrophomonas', 'maltophilia', 'pathogens'],\n",
              " ['mycobacterium', 'abscessus', 'pathogens'],\n",
              " ['r', 'eutropha', 'h850', 'biphenyl'],\n",
              " ['r', 'eutropha', 'h850', 'biphenyl'],\n",
              " ['r', 'eutropha', 'h850', 'fructose', 'medium'],\n",
              " ['r', 'eutropha', 'h850', 'fructose'],\n",
              " ['r', 'eutropha', 'h850', 'fructose'],\n",
              " ['r', 'eutropha', 'h850', 'fructose'],\n",
              " ['r', 'eutropha', 'h850', 'biphenyl'],\n",
              " ['xanthomonas', 'campestris', 'pv', 'vesicatoria', 'plant'],\n",
              " ['xanthomonas', 'campestris', 'pv', 'vesicatoria', 'plant'],\n",
              " ['xanthomonas', 'campestris', 'pv', 'vesicatoria', 'gram', 'negative'],\n",
              " ['xanthomonas', 'campestris', 'pv', 'vesicatoria', 'plant', 'pathogen'],\n",
              " ['xanthomonas', 'campestris', 'pv', 'vesicatoria', 'pathogenicity'],\n",
              " ['leuconostoc', 'mesenteroides', 'cheeses', 'dairies'],\n",
              " ['leuconostoc', 'mesenteroides', 'starter', 'cultures'],\n",
              " ['leuconostoc', 'mesenteroides', 'cheeses', 'dairies', 'c'],\n",
              " ['leuconostoc', 'mesenteroides', 'lab'],\n",
              " ['lactococcus', 'lactis', 'subsp', 'lactis', 'starter', 'cultures'],\n",
              " ['lactococcus', 'lactis', 'subsp', 'lactis', 'cheeses', 'dairies', 'c'],\n",
              " ['lactococcus', 'lactis', 'subsp', 'lactis', 'cheeses', 'dairies'],\n",
              " ['lactococcus', 'lactis', 'subsp', 'lactis', 'lab'],\n",
              " ['lactobacillus', 'paracasei', 'cheeses', 'dairies', 'c'],\n",
              " ['lactobacillus', 'paracasei', 'cheeses', 'dairies'],\n",
              " ['lactobacillus', 'paracasei', 'lactic', 'acid', 'bacteria'],\n",
              " ['lb', 'parabuchneri', 'cheese', 'dairy'],\n",
              " ['lb', 'parabuchneri', 'nslab'],\n",
              " ['lb', 'brevis', 'cheese', 'dairy', 'b'],\n",
              " ['lb', 'brevis', 'nslab'],\n",
              " ['lb', 'oligofermentans', 'cheese', 'dairy', 'b'],\n",
              " ['lb', 'oligofermentans', 'nslab'],\n",
              " ['lb', 'farminis', 'cheese', 'dairy', 'b'],\n",
              " ['lb', 'farminis', 'nslab'],\n",
              " ['lb', 'paracasei', 'cheese', 'dairy'],\n",
              " ['lb', 'paracasei', 'nslab'],\n",
              " ['lc', 'lactis', 'subsp', 'lactis', 'cheeses', 'dairies', 'b'],\n",
              " ['lc', 'lactis', 'subsp', 'lactis', 'starter', 'cultures'],\n",
              " ['lc', 'lactis', 'subsp', 'lactis', 'lab'],\n",
              " ['lc', 'lactis', 'subsp', 'cremoris', 'starter', 'cultures'],\n",
              " ['lc', 'lactis', 'subsp', 'cremoris', 'cheeses', 'dairies'],\n",
              " ['lc', 'lactis', 'subsp', 'cremoris', 'lab'],\n",
              " ['agrobacterium', 'rhizogenes', 'tobacco'],\n",
              " ['p', 'celer', 'cheese'],\n",
              " ['helicobacter',\n",
              "  'pylori',\n",
              "  'human',\n",
              "  'immunodeficiency',\n",
              "  'virus',\n",
              "  'infected',\n",
              "  'outpatients'],\n",
              " ['h', 'pylori', 'subjects', 'without', 'hypoacidity'],\n",
              " ['h', 'pylori', 'subjects', 'hypoacidity'],\n",
              " ['h', 'pylori', 'hiv', 'positive', 'black', 'populations'],\n",
              " ['h', 'pylori', 'hiv', 'positive', 'hispanic', 'populations'],\n",
              " ['psychrobacter', 'sp', 'milk'],\n",
              " ['psychrobacter', 'sp', 'smear', 'cheeses'],\n",
              " ['hafnia', 'sp', 'smear', 'cheeses'],\n",
              " ['hafnia', 'sp', 'milk'],\n",
              " ['vibrio', 'salmonicida', 'fish', 'farm'],\n",
              " ['vibrio', 'salmonicida', 'fish'],\n",
              " ['vibrio', 'salmonicida', 'fish', 'farm', 'sediments'],\n",
              " ['vibrio', 'salmonicida', 'fish', 'pathogen'],\n",
              " ['vibrio', 'salmonicida', 'fish', 'farm', 'sediments'],\n",
              " ['vibrio', 'salmonicida', 'fish', 'farm'],\n",
              " ['vibrio', 'salmonicida', 'fish'],\n",
              " ['vibrio', 'salmonicida', 'fish', 'pathogen'],\n",
              " ['vibrio', 'intestinal', 'tracts', 'healthy', 'fish'],\n",
              " ['vibrio', 'sediments'],\n",
              " ['vibrio', 'healthy', 'fish'],\n",
              " ['v', 'salmonicida', 'sediment', 'sample', 'disease', 'free', 'fish', 'farm'],\n",
              " ['v', 'salmonicida', 'disease', 'free', 'fish', 'farm'],\n",
              " ['v', 'salmonicida', 'diseased', 'farms'],\n",
              " ['v', 'salmonicida', 'sediment', 'samples', 'diseased', 'farms'],\n",
              " ['escherichia', 'coli', 'o157', 'h7', 'food'],\n",
              " ['escherichia', 'coli', 'o157', 'h7', 'pathogen'],\n",
              " ['h', 'alvei', 'uncooked', 'pressed', 'model', 'cheese'],\n",
              " ['stec', 'o26', 'h11', 'uncooked', 'pressed', 'model', 'cheese'],\n",
              " ['stec', 'o26', 'h11', 'stec'],\n",
              " ['helicobactor', 'pylori', 'children'],\n",
              " ['h', 'pylori', 'children'],\n",
              " ['h', 'pylori', 'children'],\n",
              " ['salmonellae', 'egg', 'products'],\n",
              " ['salmonellae', 'egg'],\n",
              " ['salmonella', 'strontium', 'selenite', 'broth'],\n",
              " ['salmonella', 'egg', 'pulp'],\n",
              " ['salmonella', 'strontium', 'chloride', 'broth'],\n",
              " ['salmonella', 'strontium', 'selenite', 'broth'],\n",
              " ['salmonellae', 'egg'],\n",
              " ['salmonellae', 'egg', 'products'],\n",
              " ['propionibacteria', 'dairy'],\n",
              " ['propionibacteria', 'eps', 'biosynthesis'],\n",
              " ['tl', '34', 'ropy', 'producing'],\n",
              " ['s3', 'lactococcus', 'lactis', 'sp', 'lactis', 'cheese'],\n",
              " ['s3', 'lactococcus', 'lactis', 'sp', 'lactis', 'cheese'],\n",
              " ['s3', 'lactococcus', 'lactis', 'sp', 'lactis', 'protease', 'negative'],\n",
              " ['lactobacillus', 'casei', 'fh1', 'smear', 'soft', 'cheese'],\n",
              " ['lactobacillus', 'casei', 'fh1', 'model', 'community'],\n",
              " ['arthrobacter', 'arilaitensis', 're117', 'model', 'community'],\n",
              " ['arthrobacter', 'arilaitensis', 're117', 'smear', 'soft', 'cheese'],\n",
              " ['corynebacterium', 'casei', 'mu120', 'model', 'community'],\n",
              " ['corynebacterium', 'casei', 'mu120', 'munster'],\n",
              " ['corynebacterium', 'casei', 'mu120', 'smear', 'soft', 'cheese'],\n",
              " ['c', 'flavescens', 'mu128', 'model', 'community'],\n",
              " ['c', 'flavescens', 'mu128', 'smear', 'soft', 'cheese'],\n",
              " ['c', 'flavescens', 'mu128', 'munster'],\n",
              " ['c', 'variabile', 'mu129', 'model', 'community'],\n",
              " ['c', 'variabile', 'mu129', 'munster'],\n",
              " ['c', 'variabile', 'mu129', 'smear', 'soft', 'cheese'],\n",
              " ['staphylococcus', 'xylosus', 'com1', 'munster'],\n",
              " ['staphylococcus', 'xylosus', 'com1', 'model', 'community'],\n",
              " ['staphylococcus', 'xylosus', 'com1', 'smear', 'soft', 'cheese'],\n",
              " ['equorum', 'mu2', 'model', 'community'],\n",
              " ['equorum', 'mu2', 'smear', 'soft', 'cheese'],\n",
              " ['equorum', 'mu2', 'munster'],\n",
              " ['hansenii', 'dh68', 'model', 'community'],\n",
              " ['hansenii', 'dh68', 'munster'],\n",
              " ['hansenii', 'dh68', 'smear', 'soft', 'cheese'],\n",
              " ['g', 'candidum', 'gc129', 'smear', 'soft', 'cheese'],\n",
              " ['g', 'candidum', 'gc129', 'model', 'community'],\n",
              " ['g', 'candidum', 'gc129', 'munster'],\n",
              " ['lipolytica', 'ci35', 'munster'],\n",
              " ['lipolytica', 'ci35', 'smear', 'soft', 'cheese'],\n",
              " ['lipolytica', 'ci35', 'model', 'community'],\n",
              " ['k', 'lactis', 'kl65', 'smear', 'soft', 'cheese'],\n",
              " ['k', 'lactis', 'kl65', 'model', 'community'],\n",
              " ['k', 'lactis', 'kl65', 'munster'],\n",
              " ['re117', 'reblochon'],\n",
              " ['fh1', 'st', 'nectaire'],\n",
              " ['p', 'celer', '91', 'synthetic', 'media'],\n",
              " ['p', 'celer', '91', 'livarot'],\n",
              " ['p', 'celer', '91', 'gram', 'negative'],\n",
              " ['p', 'celer', '91', 'sensitivity', '24', 'antibiotics'],\n",
              " ['h', 'alvei', '2', '920', 'synthetic', 'media'],\n",
              " ['h', 'alvei', '2', '920', 'munster', 'cheese'],\n",
              " ['h', 'alvei', '2', '920', 'sensitivity', '24', 'antibiotics'],\n",
              " ['h', 'alvei', '2', '920', 'gram', 'negative'],\n",
              " ['escherichia', 'coli', 'o157', 'type', 'iii', 'secretion'],\n",
              " ['escherichia', 'coli', 'human'],\n",
              " ['escherichia', 'coli', 'pathogenic'],\n",
              " ['escherichia', 'coli', 'type', 'iii', 'secretion'],\n",
              " ['e', 'coli', 'ehec', 'o157', 'h7', 'enterohemorrhagic'],\n",
              " ['e', 'coli', 'ehec', 'o157', 'h7', 'ehec'],\n",
              " ['ehec', 'ehec'],\n",
              " ['ehec', 'ehec'],\n",
              " ['e', 'coli', 'type', 'iii', 'secretion'],\n",
              " ['b', 'linens', 'cheese'],\n",
              " ['b', 'linens', 'cheese', 'surfaces'],\n",
              " ['brevibacterium', 'spp', 'cheeses', 'farmhouses'],\n",
              " ['b', 'linens', 'ripening', 'cultures'],\n",
              " ['b', 'linens', 'cheeses', 'dairies', 'c'],\n",
              " ['b', 'linens', 'cheeses', 'dairies', 'b'],\n",
              " ['b', 'aurantiacum', 'cheeses', 'dairies', 'c'],\n",
              " ['b', 'aurantiacum', 'ripening', 'cultures'],\n",
              " ['b', 'aurantiacum', 'cheeses', 'dairies', 'b'],\n",
              " ['b', 'permense', 'cheese', 'dairy'],\n",
              " ['b', 'permense', 'soil'],\n",
              " ['corynebacterium', 'spp', 'surface', 'ripened', 'cheeses'],\n",
              " ['c', 'casei', 'surfaces', 'four', 'cheeses'],\n",
              " ...]"
            ]
          },
          "metadata": {
            "tags": []
          },
          "execution_count": 37
        }
      ]
    },
    {
      "cell_type": "code",
      "metadata": {
        "id": "l4dBcWO7LdWJ",
        "colab_type": "code",
        "colab": {}
      },
      "source": [
        "train=[]\n",
        "for i in range(len(train_words)):\n",
        "    train.append(word_tokenize(train_words[i]))"
      ],
      "execution_count": null,
      "outputs": []
    },
    {
      "cell_type": "code",
      "metadata": {
        "id": "qrQHb3f8LdWL",
        "colab_type": "code",
        "colab": {}
      },
      "source": [
        "test=[]\n",
        "for i in range(len(valid_words)):\n",
        "    test.append(word_tokenize(valid_words[i]))"
      ],
      "execution_count": null,
      "outputs": []
    },
    {
      "cell_type": "markdown",
      "metadata": {
        "id": "SvSJXseJLdWN",
        "colab_type": "text"
      },
      "source": [
        "### Feature extraction using word2vec"
      ]
    },
    {
      "cell_type": "code",
      "metadata": {
        "id": "J-309NWmLdWO",
        "colab_type": "code",
        "colab": {}
      },
      "source": [
        "from gensim.models import Word2Vec\n",
        "from sklearn import preprocessing"
      ],
      "execution_count": null,
      "outputs": []
    },
    {
      "cell_type": "code",
      "metadata": {
        "id": "LuCZ3PKYLdWQ",
        "colab_type": "code",
        "colab": {}
      },
      "source": [
        "#Creating word embedding for the words. Embedding dimension = 100\n",
        "model = Word2Vec(corpus, size=50, window=2, min_count=1)"
      ],
      "execution_count": null,
      "outputs": []
    },
    {
      "cell_type": "code",
      "metadata": {
        "id": "hCBTZzrbLdWS",
        "colab_type": "code",
        "colab": {},
        "outputId": "e4a25fc6-e217-4432-fa3e-ba818e25047b"
      },
      "source": [
        "#Voabulary list\n",
        "model.wv.vocab"
      ],
      "execution_count": null,
      "outputs": [
        {
          "output_type": "execute_result",
          "data": {
            "text/plain": [
              "{'non': <gensim.models.keyedvectors.Vocab at 0x7f28a1b2e550>,\n",
              " 'o1': <gensim.models.keyedvectors.Vocab at 0x7f28a1b2e588>,\n",
              " 'vibrio': <gensim.models.keyedvectors.Vocab at 0x7f28a1b2e5c0>,\n",
              " 'cholerae': <gensim.models.keyedvectors.Vocab at 0x7f28a1b2e5f8>,\n",
              " 'patients': <gensim.models.keyedvectors.Vocab at 0x7f28a1b2e630>,\n",
              " 'cirrhosis': <gensim.models.keyedvectors.Vocab at 0x7f28a1b2e668>,\n",
              " 'v': <gensim.models.keyedvectors.Vocab at 0x7f28a1b2e6a0>,\n",
              " 'blood': <gensim.models.keyedvectors.Vocab at 0x7f28a1b2e6d8>,\n",
              " 'culture': <gensim.models.keyedvectors.Vocab at 0x7f28a1b2e710>,\n",
              " 'underlying': <gensim.models.keyedvectors.Vocab at 0x7f28a1b2e748>,\n",
              " 'aforementioned': <gensim.models.keyedvectors.Vocab at 0x7f28a1b2e780>,\n",
              " 'bacteremia': <gensim.models.keyedvectors.Vocab at 0x7f28a1b2e7b8>,\n",
              " 'decompensated': <gensim.models.keyedvectors.Vocab at 0x7f28a1b2e7f0>,\n",
              " 'kingella': <gensim.models.keyedvectors.Vocab at 0x7f28a1b2e828>,\n",
              " 'kingae': <gensim.models.keyedvectors.Vocab at 0x7f28a1b2e860>,\n",
              " 'respiratory': <gensim.models.keyedvectors.Vocab at 0x7f28a1b2e898>,\n",
              " 'healthy': <gensim.models.keyedvectors.Vocab at 0x7f28a1b2e908>,\n",
              " 'children': <gensim.models.keyedvectors.Vocab at 0x7f28a1b2eeb8>,\n",
              " 'tract': <gensim.models.keyedvectors.Vocab at 0x7f28a1b2e940>,\n",
              " 'young': <gensim.models.keyedvectors.Vocab at 0x7f28a1b2e978>,\n",
              " 'invasive': <gensim.models.keyedvectors.Vocab at 0x7f28a1b2e9b0>,\n",
              " 'pathogen': <gensim.models.keyedvectors.Vocab at 0x7f28a1b2e9e8>,\n",
              " 'k': <gensim.models.keyedvectors.Vocab at 0x7f28a1b2ea20>,\n",
              " 'day': <gensim.models.keyedvectors.Vocab at 0x7f28a1b2ea58>,\n",
              " 'care': <gensim.models.keyedvectors.Vocab at 0x7f28a1b2ea90>,\n",
              " 'center': <gensim.models.keyedvectors.Vocab at 0x7f28a1b2eac8>,\n",
              " 'attendees': <gensim.models.keyedvectors.Vocab at 0x7f28a1b2eb00>,\n",
              " 'throat': <gensim.models.keyedvectors.Vocab at 0x7f28a1b2eb38>,\n",
              " 'cultures': <gensim.models.keyedvectors.Vocab at 0x7f28a1b2eb70>,\n",
              " 'surgical': <gensim.models.keyedvectors.Vocab at 0x7f28a1b2eba8>,\n",
              " 'pharyngeal': <gensim.models.keyedvectors.Vocab at 0x7f28a1b2ebe0>,\n",
              " 'campylobacter': <gensim.models.keyedvectors.Vocab at 0x7f28a1b2ec18>,\n",
              " 'uk': <gensim.models.keyedvectors.Vocab at 0x7f28a1b2ec50>,\n",
              " 'retail': <gensim.models.keyedvectors.Vocab at 0x7f28a1b2ec88>,\n",
              " 'poultry': <gensim.models.keyedvectors.Vocab at 0x7f28a1b2ecc0>,\n",
              " 'antimicrobial': <gensim.models.keyedvectors.Vocab at 0x7f28a1b2ecf8>,\n",
              " 'resistance': <gensim.models.keyedvectors.Vocab at 0x7f28a1b2ed30>,\n",
              " 'human': <gensim.models.keyedvectors.Vocab at 0x7f28a1b2ed68>,\n",
              " 'clinical': <gensim.models.keyedvectors.Vocab at 0x7f28a1b2eda0>,\n",
              " 'coli': <gensim.models.keyedvectors.Vocab at 0x7f28a1b2edd8>,\n",
              " 'erythromycin': <gensim.models.keyedvectors.Vocab at 0x7f28a1b2ee10>,\n",
              " 'chicken': <gensim.models.keyedvectors.Vocab at 0x7f28a1b2ee48>,\n",
              " 'farmed': <gensim.models.keyedvectors.Vocab at 0x7f28a1b2ee80>,\n",
              " 'chickens': <gensim.models.keyedvectors.Vocab at 0x7f28a1b2ef60>,\n",
              " 'humans': <gensim.models.keyedvectors.Vocab at 0x7f28a1b2ef98>,\n",
              " 'resistant': <gensim.models.keyedvectors.Vocab at 0x7f28a1b2efd0>,\n",
              " 'streptococcus': <gensim.models.keyedvectors.Vocab at 0x7f28a4e2d278>,\n",
              " 'thermophilus': <gensim.models.keyedvectors.Vocab at 0x7f28a4e2d4a8>,\n",
              " 'production': <gensim.models.keyedvectors.Vocab at 0x7f28a1b42048>,\n",
              " 'exopolysaccharides': <gensim.models.keyedvectors.Vocab at 0x7f28a1b42080>,\n",
              " 'lab': <gensim.models.keyedvectors.Vocab at 0x7f28a1b420b8>,\n",
              " 'lactobacillus': <gensim.models.keyedvectors.Vocab at 0x7f28a1b420f0>,\n",
              " 'plantarum': <gensim.models.keyedvectors.Vocab at 0x7f28a1b42128>,\n",
              " 'lactococcus': <gensim.models.keyedvectors.Vocab at 0x7f28a1b42160>,\n",
              " 'lactis': <gensim.models.keyedvectors.Vocab at 0x7f28a1b42198>,\n",
              " 'pediococcus': <gensim.models.keyedvectors.Vocab at 0x7f28a1b421d0>,\n",
              " 'damnsosus': <gensim.models.keyedvectors.Vocab at 0x7f28a1b42208>,\n",
              " 'l': <gensim.models.keyedvectors.Vocab at 0x7f28a1b42240>,\n",
              " 'wcfs1': <gensim.models.keyedvectors.Vocab at 0x7f28a1b42278>,\n",
              " 'surface': <gensim.models.keyedvectors.Vocab at 0x7f28a1b422b0>,\n",
              " 'polysaccharide': <gensim.models.keyedvectors.Vocab at 0x7f28a1b422e8>,\n",
              " 'pseudotuberculosis': <gensim.models.keyedvectors.Vocab at 0x7f28a1b42320>,\n",
              " 'mesenteric': <gensim.models.keyedvectors.Vocab at 0x7f28a1b42358>,\n",
              " 'lymph': <gensim.models.keyedvectors.Vocab at 0x7f28a1b42390>,\n",
              " 'nodes': <gensim.models.keyedvectors.Vocab at 0x7f28a1b423c8>,\n",
              " 'spleen': <gensim.models.keyedvectors.Vocab at 0x7f28a1b42400>,\n",
              " 'peyer': <gensim.models.keyedvectors.Vocab at 0x7f28a1b42438>,\n",
              " 'patches': <gensim.models.keyedvectors.Vocab at 0x7f28a1b42470>,\n",
              " 'arthrobacter': <gensim.models.keyedvectors.Vocab at 0x7f28a1b424a8>,\n",
              " 'arilaitensis': <gensim.models.keyedvectors.Vocab at 0x7f28a1b424e0>,\n",
              " 'gmpa29': <gensim.models.keyedvectors.Vocab at 0x7f28a1b42518>,\n",
              " 'smear': <gensim.models.keyedvectors.Vocab at 0x7f28a1b42550>,\n",
              " 'ripened': <gensim.models.keyedvectors.Vocab at 0x7f28a1b42588>,\n",
              " 'cheese': <gensim.models.keyedvectors.Vocab at 0x7f28a1b425c0>,\n",
              " 'samples': <gensim.models.keyedvectors.Vocab at 0x7f28a1b425f8>,\n",
              " 'psychrobacter': <gensim.models.keyedvectors.Vocab at 0x7f28a1b42630>,\n",
              " 'immobilis': <gensim.models.keyedvectors.Vocab at 0x7f28a1b42668>,\n",
              " 'pg1': <gensim.models.keyedvectors.Vocab at 0x7f28a1b426a0>,\n",
              " 'litoralis': <gensim.models.keyedvectors.Vocab at 0x7f28a1b426d8>,\n",
              " 'b4': <gensim.models.keyedvectors.Vocab at 0x7f28a1b42710>,\n",
              " 'mycoplasma': <gensim.models.keyedvectors.Vocab at 0x7f28a1b42748>,\n",
              " 'gopherus': <gensim.models.keyedvectors.Vocab at 0x7f28a1b42780>,\n",
              " 'polyphemus': <gensim.models.keyedvectors.Vocab at 0x7f28a1b427b8>,\n",
              " 'georgia': <gensim.models.keyedvectors.Vocab at 0x7f28a1b427f0>,\n",
              " 'free': <gensim.models.keyedvectors.Vocab at 0x7f28a1b42828>,\n",
              " 'ranging': <gensim.models.keyedvectors.Vocab at 0x7f28a1b42860>,\n",
              " 'gopher': <gensim.models.keyedvectors.Vocab at 0x7f28a1b42898>,\n",
              " 'tortoises': <gensim.models.keyedvectors.Vocab at 0x7f28a1b428d0>,\n",
              " 'usa': <gensim.models.keyedvectors.Vocab at 0x7f28a1b42908>,\n",
              " 'agassizii': <gensim.models.keyedvectors.Vocab at 0x7f28a1b42940>,\n",
              " 'tortoise': <gensim.models.keyedvectors.Vocab at 0x7f28a1b42978>,\n",
              " 'populations': <gensim.models.keyedvectors.Vocab at 0x7f28a1b429b0>,\n",
              " 'testudineum': <gensim.models.keyedvectors.Vocab at 0x7f28a1b429e8>,\n",
              " 'pathogens': <gensim.models.keyedvectors.Vocab at 0x7f28a1b42a20>,\n",
              " 'pathogenicity': <gensim.models.keyedvectors.Vocab at 0x7f28a1b42a58>,\n",
              " 'microbiota': <gensim.models.keyedvectors.Vocab at 0x7f28a1b42a90>,\n",
              " '1': <gensim.models.keyedvectors.Vocab at 0x7f28a1b42ac8>,\n",
              " 'household': <gensim.models.keyedvectors.Vocab at 0x7f28a1b42b00>,\n",
              " 'contacts': <gensim.models.keyedvectors.Vocab at 0x7f28a1b42b38>,\n",
              " 'people': <gensim.models.keyedvectors.Vocab at 0x7f28a1b42b70>,\n",
              " 'infection': <gensim.models.keyedvectors.Vocab at 0x7f28a1b42ba8>,\n",
              " 'water': <gensim.models.keyedvectors.Vocab at 0x7f28a1b42be0>,\n",
              " 'lagoon': <gensim.models.keyedvectors.Vocab at 0x7f28a1b42c18>,\n",
              " 'outskirts': <gensim.models.keyedvectors.Vocab at 0x7f28a1b42c50>,\n",
              " 'city': <gensim.models.keyedvectors.Vocab at 0x7f28a1b42c88>,\n",
              " 'cagliari': <gensim.models.keyedvectors.Vocab at 0x7f28a1b42cc0>,\n",
              " 'arselle': <gensim.models.keyedvectors.Vocab at 0x7f28a1b42cf8>,\n",
              " 'bivalves': <gensim.models.keyedvectors.Vocab at 0x7f28a1b42d30>,\n",
              " 'milk': <gensim.models.keyedvectors.Vocab at 0x7f28a1b42d68>,\n",
              " 'curd': <gensim.models.keyedvectors.Vocab at 0x7f28a1b42da0>,\n",
              " 'lactic': <gensim.models.keyedvectors.Vocab at 0x7f28a1b42dd8>,\n",
              " 'acid': <gensim.models.keyedvectors.Vocab at 0x7f28a1b42e10>,\n",
              " 'bacteria': <gensim.models.keyedvectors.Vocab at 0x7f28a1b42e48>,\n",
              " 'debaryomyces': <gensim.models.keyedvectors.Vocab at 0x7f28a1b42e80>,\n",
              " 'hansenii': <gensim.models.keyedvectors.Vocab at 0x7f28a1b42eb8>,\n",
              " 'tolerant': <gensim.models.keyedvectors.Vocab at 0x7f28a1b42ef0>,\n",
              " 'geotrichum': <gensim.models.keyedvectors.Vocab at 0x7f28a1b42f28>,\n",
              " 'candidum': <gensim.models.keyedvectors.Vocab at 0x7f28a1b42f60>,\n",
              " 'kluyveromyces': <gensim.models.keyedvectors.Vocab at 0x7f28a1b42f98>,\n",
              " 'sp': <gensim.models.keyedvectors.Vocab at 0x7f28a1b42fd0>,\n",
              " 'yarrowia': <gensim.models.keyedvectors.Vocab at 0x7f28a1b3b048>,\n",
              " 'lipolytica': <gensim.models.keyedvectors.Vocab at 0x7f28a1b3b080>,\n",
              " 'brevibacterium': <gensim.models.keyedvectors.Vocab at 0x7f28a1b3b0b8>,\n",
              " 'aurantiacum': <gensim.models.keyedvectors.Vocab at 0x7f28a1b3b0f0>,\n",
              " 'corynebacterium': <gensim.models.keyedvectors.Vocab at 0x7f28a1b3b128>,\n",
              " 'staphylococcus': <gensim.models.keyedvectors.Vocab at 0x7f28a1b3b160>,\n",
              " 'spp': <gensim.models.keyedvectors.Vocab at 0x7f28a1b3b198>,\n",
              " 'h': <gensim.models.keyedvectors.Vocab at 0x7f28a1b3b1d0>,\n",
              " 'alvei': <gensim.models.keyedvectors.Vocab at 0x7f28a1b3b208>,\n",
              " 'high': <gensim.models.keyedvectors.Vocab at 0x7f28a1b3b240>,\n",
              " 'capacity': <gensim.models.keyedvectors.Vocab at 0x7f28a1b3b278>,\n",
              " 'produce': <gensim.models.keyedvectors.Vocab at 0x7f28a1b3b2b0>,\n",
              " 'vsc': <gensim.models.keyedvectors.Vocab at 0x7f28a1b3b2e8>,\n",
              " 'convert': <gensim.models.keyedvectors.Vocab at 0x7f28a1b3b320>,\n",
              " 'methionine': <gensim.models.keyedvectors.Vocab at 0x7f28a1b3b358>,\n",
              " 'cysteine': <gensim.models.keyedvectors.Vocab at 0x7f28a1b3b390>,\n",
              " 'aroma': <gensim.models.keyedvectors.Vocab at 0x7f28a1b3b3c8>,\n",
              " 'compounds': <gensim.models.keyedvectors.Vocab at 0x7f28a1b3b400>,\n",
              " 'beef': <gensim.models.keyedvectors.Vocab at 0x7f28a1b3b438>,\n",
              " 'models': <gensim.models.keyedvectors.Vocab at 0x7f28a1b3b470>,\n",
              " 'serratia': <gensim.models.keyedvectors.Vocab at 0x7f28a1b3b4a8>,\n",
              " 'italy': <gensim.models.keyedvectors.Vocab at 0x7f28a1b3b4e0>,\n",
              " 'hospital': <gensim.models.keyedvectors.Vocab at 0x7f28a1b3b518>,\n",
              " 'camillo': <gensim.models.keyedvectors.Vocab at 0x7f28a1b3b550>,\n",
              " 'de': <gensim.models.keyedvectors.Vocab at 0x7f28a1b3b588>,\n",
              " 'lellis': <gensim.models.keyedvectors.Vocab at 0x7f28a1b3b5c0>,\n",
              " 'roma': <gensim.models.keyedvectors.Vocab at 0x7f28a1b3b5f8>,\n",
              " 'p': <gensim.models.keyedvectors.Vocab at 0x7f28a1b3b630>,\n",
              " 'celer': <gensim.models.keyedvectors.Vocab at 0x7f28a1b3b668>,\n",
              " 'hafnia': <gensim.models.keyedvectors.Vocab at 0x7f28a1b3b6a0>,\n",
              " 'enterococcus': <gensim.models.keyedvectors.Vocab at 0x7f28a1b3b6d8>,\n",
              " 'faecalis': <gensim.models.keyedvectors.Vocab at 0x7f28a1b3b710>,\n",
              " 'linens': <gensim.models.keyedvectors.Vocab at 0x7f28a1b3b748>,\n",
              " 'farmhouse': <gensim.models.keyedvectors.Vocab at 0x7f28a1b3b780>,\n",
              " 'cheeses': <gensim.models.keyedvectors.Vocab at 0x7f28a1b3b7b8>,\n",
              " 'livarot': <gensim.models.keyedvectors.Vocab at 0x7f28a1b3b7f0>,\n",
              " 'munster': <gensim.models.keyedvectors.Vocab at 0x7f28a1b3b828>,\n",
              " 'g': <gensim.models.keyedvectors.Vocab at 0x7f28a1b3b860>,\n",
              " 'french': <gensim.models.keyedvectors.Vocab at 0x7f28a1b3b898>,\n",
              " 'red': <gensim.models.keyedvectors.Vocab at 0x7f28a1b3b8d0>,\n",
              " 'soft': <gensim.models.keyedvectors.Vocab at 0x7f28a1b3b908>,\n",
              " 'bcg': <gensim.models.keyedvectors.Vocab at 0x7f28a1b3b940>,\n",
              " 'granulomatous': <gensim.models.keyedvectors.Vocab at 0x7f28a1b3b978>,\n",
              " 'lesions': <gensim.models.keyedvectors.Vocab at 0x7f28a1b3b9b0>,\n",
              " 'mycobacteria': <gensim.models.keyedvectors.Vocab at 0x7f28a1b3b9e8>,\n",
              " 'animal': <gensim.models.keyedvectors.Vocab at 0x7f28a1b3ba20>,\n",
              " 'man': <gensim.models.keyedvectors.Vocab at 0x7f28a1b3ba58>,\n",
              " 'mycobacterial': <gensim.models.keyedvectors.Vocab at 0x7f28a1b3ba90>,\n",
              " 'granulomas': <gensim.models.keyedvectors.Vocab at 0x7f28a1b3bac8>,\n",
              " 'lesion': <gensim.models.keyedvectors.Vocab at 0x7f28a1b3bb00>,\n",
              " 'without': <gensim.models.keyedvectors.Vocab at 0x7f28a1b3bb38>,\n",
              " 'necrosis': <gensim.models.keyedvectors.Vocab at 0x7f28a1b3bb70>,\n",
              " 'granuloma': <gensim.models.keyedvectors.Vocab at 0x7f28a1b3bba8>,\n",
              " 'pichia': <gensim.models.keyedvectors.Vocab at 0x7f28a1b3bbe0>,\n",
              " 'pastoris': <gensim.models.keyedvectors.Vocab at 0x7f28a1b3bc18>,\n",
              " 'methylotrophic': <gensim.models.keyedvectors.Vocab at 0x7f28a1b3bc50>,\n",
              " 'str': <gensim.models.keyedvectors.Vocab at 0x7f28a1b3bc88>,\n",
              " 'interiors': <gensim.models.keyedvectors.Vocab at 0x7f28a1b3bcc0>,\n",
              " 'vagococcus': <gensim.models.keyedvectors.Vocab at 0x7f28a1b3bcf8>,\n",
              " 'carniphilus': <gensim.models.keyedvectors.Vocab at 0x7f28a1b3bd30>,\n",
              " 'surfaces': <gensim.models.keyedvectors.Vocab at 0x7f28a1b3bd68>,\n",
              " 'lb': <gensim.models.keyedvectors.Vocab at 0x7f28a1b3bda0>,\n",
              " 'curvatus': <gensim.models.keyedvectors.Vocab at 0x7f28a1b3bdd8>,\n",
              " 'proteus': <gensim.models.keyedvectors.Vocab at 0x7f28a1b3be10>,\n",
              " 'vulgaris': <gensim.models.keyedvectors.Vocab at 0x7f28a1b3be48>,\n",
              " 'gram': <gensim.models.keyedvectors.Vocab at 0x7f28a1b3be80>,\n",
              " 'negative': <gensim.models.keyedvectors.Vocab at 0x7f28a1b3beb8>,\n",
              " 'bacterial': <gensim.models.keyedvectors.Vocab at 0x7f28a1b3bef0>,\n",
              " 'dairy': <gensim.models.keyedvectors.Vocab at 0x7f28a1b3bf28>,\n",
              " 'c': <gensim.models.keyedvectors.Vocab at 0x7f28a1b3bf60>,\n",
              " 'alcaligenes': <gensim.models.keyedvectors.Vocab at 0x7f28a1b3bf98>,\n",
              " 'ripening': <gensim.models.keyedvectors.Vocab at 0x7f28a1b3bfd0>,\n",
              " 'soil': <gensim.models.keyedvectors.Vocab at 0x7f28a1b39048>,\n",
              " 'environments': <gensim.models.keyedvectors.Vocab at 0x7f28a1b39080>,\n",
              " 'association': <gensim.models.keyedvectors.Vocab at 0x7f28a1b390b8>,\n",
              " 'pathogenic': <gensim.models.keyedvectors.Vocab at 0x7f28a1b390f0>,\n",
              " 'marinilactibacillus': <gensim.models.keyedvectors.Vocab at 0x7f28a1b39128>,\n",
              " 'psychrotolerans': <gensim.models.keyedvectors.Vocab at 0x7f28a1b39160>,\n",
              " 'marine': <gensim.models.keyedvectors.Vocab at 0x7f28a1b39198>,\n",
              " 'german': <gensim.models.keyedvectors.Vocab at 0x7f28a1b391d0>,\n",
              " 'sea': <gensim.models.keyedvectors.Vocab at 0x7f28a1b39208>,\n",
              " 'salt': <gensim.models.keyedvectors.Vocab at 0x7f28a1b39240>,\n",
              " 'pseudomonas': <gensim.models.keyedvectors.Vocab at 0x7f28a1b39278>,\n",
              " 'aeruginosa': <gensim.models.keyedvectors.Vocab at 0x7f28a1b392b0>,\n",
              " 'susceptible': <gensim.models.keyedvectors.Vocab at 0x7f28a1b392e8>,\n",
              " 'individuals': <gensim.models.keyedvectors.Vocab at 0x7f28a1b39320>,\n",
              " 'clinically': <gensim.models.keyedvectors.Vocab at 0x7f28a1b39358>,\n",
              " 'available': <gensim.models.keyedvectors.Vocab at 0x7f28a1b39390>,\n",
              " 'antimicrobials': <gensim.models.keyedvectors.Vocab at 0x7f28a1b393c8>,\n",
              " 'pao1': <gensim.models.keyedvectors.Vocab at 0x7f28a1b39400>,\n",
              " 'lactocococcus': <gensim.models.keyedvectors.Vocab at 0x7f28a1b39438>,\n",
              " 'starter': <gensim.models.keyedvectors.Vocab at 0x7f28a1b39470>,\n",
              " 'mesophilic': <gensim.models.keyedvectors.Vocab at 0x7f28a1b394a8>,\n",
              " 'thermophilic': <gensim.models.keyedvectors.Vocab at 0x7f28a1b394e0>,\n",
              " 'coxiella': <gensim.models.keyedvectors.Vocab at 0x7f28a1b39518>,\n",
              " 'burnetii': <gensim.models.keyedvectors.Vocab at 0x7f28a1b39550>,\n",
              " 'infected': <gensim.models.keyedvectors.Vocab at 0x7f28a1b39588>,\n",
              " 'yolk': <gensim.models.keyedvectors.Vocab at 0x7f28a1b395c0>,\n",
              " 'sacs': <gensim.models.keyedvectors.Vocab at 0x7f28a1b395f8>,\n",
              " 'normal': <gensim.models.keyedvectors.Vocab at 0x7f28a1b39630>,\n",
              " 'haemophilus': <gensim.models.keyedvectors.Vocab at 0x7f28a1b39668>,\n",
              " 'influenzae': <gensim.models.keyedvectors.Vocab at 0x7f28a1b396a0>,\n",
              " 'attending': <gensim.models.keyedvectors.Vocab at 0x7f28a1b396d8>,\n",
              " 'throats': <gensim.models.keyedvectors.Vocab at 0x7f28a1b39710>,\n",
              " 'two': <gensim.models.keyedvectors.Vocab at 0x7f28a1b39748>,\n",
              " 'nthi': <gensim.models.keyedvectors.Vocab at 0x7f28a1b39780>,\n",
              " 'colonized': <gensim.models.keyedvectors.Vocab at 0x7f28a1b397b8>,\n",
              " 'pneumoniae': <gensim.models.keyedvectors.Vocab at 0x7f28a1b397f0>,\n",
              " 'japan': <gensim.models.keyedvectors.Vocab at 0x7f28a1b39828>,\n",
              " 'neisseria': <gensim.models.keyedvectors.Vocab at 0x7f28a1b39860>,\n",
              " 'meningitidis': <gensim.models.keyedvectors.Vocab at 0x7f28a1b39898>,\n",
              " 'escherichia': <gensim.models.keyedvectors.Vocab at 0x7f28a1b398d0>,\n",
              " 'agalactiae': <gensim.models.keyedvectors.Vocab at 0x7f28a1b39908>,\n",
              " 'aureus': <gensim.models.keyedvectors.Vocab at 0x7f28a1b39940>,\n",
              " 'listeria': <gensim.models.keyedvectors.Vocab at 0x7f28a1b39978>,\n",
              " 'monocytogenes': <gensim.models.keyedvectors.Vocab at 0x7f28a1b399b0>,\n",
              " 'csf': <gensim.models.keyedvectors.Vocab at 0x7f28a1b399e8>,\n",
              " 'antibiotic': <gensim.models.keyedvectors.Vocab at 0x7f28a1b39a20>,\n",
              " 'administration': <gensim.models.keyedvectors.Vocab at 0x7f28a1b39a58>,\n",
              " 'e': <gensim.models.keyedvectors.Vocab at 0x7f28a1b39a90>,\n",
              " 'subsp': <gensim.models.keyedvectors.Vocab at 0x7f28a1b39ac8>,\n",
              " 'lc': <gensim.models.keyedvectors.Vocab at 0x7f28a1b39b00>,\n",
              " 'cremoris': <gensim.models.keyedvectors.Vocab at 0x7f28a1b39b38>,\n",
              " 'paracasei': <gensim.models.keyedvectors.Vocab at 0x7f28a1b39b70>,\n",
              " 'nslab': <gensim.models.keyedvectors.Vocab at 0x7f28a1b39ba8>,\n",
              " 'danbo': <gensim.models.keyedvectors.Vocab at 0x7f28a1b39be0>,\n",
              " 'pasteurized': <gensim.models.keyedvectors.Vocab at 0x7f28a1b39c18>,\n",
              " 'garvieae': <gensim.models.keyedvectors.Vocab at 0x7f28a1b39c50>,\n",
              " 'leuconostoc': <gensim.models.keyedvectors.Vocab at 0x7f28a1b39c88>,\n",
              " 'pseudomesenteroides': <gensim.models.keyedvectors.Vocab at 0x7f28a1b39cc0>,\n",
              " 'citreum': <gensim.models.keyedvectors.Vocab at 0x7f28a1b39cf8>,\n",
              " 'carnobacterium': <gensim.models.keyedvectors.Vocab at 0x7f28a1b39d30>,\n",
              " 'mobile': <gensim.models.keyedvectors.Vocab at 0x7f28a1b39d68>,\n",
              " 'faecium': <gensim.models.keyedvectors.Vocab at 0x7f28a1b39da0>,\n",
              " 'macrococcus': <gensim.models.keyedvectors.Vocab at 0x7f28a1b39dd8>,\n",
              " 'caseolyticus': <gensim.models.keyedvectors.Vocab at 0x7f28a1b39e10>,\n",
              " 'stec': <gensim.models.keyedvectors.Vocab at 0x7f28a1b39e48>,\n",
              " 'o26': <gensim.models.keyedvectors.Vocab at 0x7f28a1b39e80>,\n",
              " 'h11': <gensim.models.keyedvectors.Vocab at 0x7f28a1b39eb8>,\n",
              " 'o157': <gensim.models.keyedvectors.Vocab at 0x7f28a1b39ef0>,\n",
              " 'h7': <gensim.models.keyedvectors.Vocab at 0x7f28a1b39f28>,\n",
              " 'syncytial': <gensim.models.keyedvectors.Vocab at 0x7f28a1b39f60>,\n",
              " 'virus': <gensim.models.keyedvectors.Vocab at 0x7f28a1b39f98>,\n",
              " 'wari': <gensim.models.keyedvectors.Vocab at 0x7f28a1b39fd0>,\n",
              " 'parainfluenza': <gensim.models.keyedvectors.Vocab at 0x7f28a1b4fa20>,\n",
              " 'types': <gensim.models.keyedvectors.Vocab at 0x7f28a1b4f978>,\n",
              " '3': <gensim.models.keyedvectors.Vocab at 0x7f28a1b4f048>,\n",
              " 'adenoviruses': <gensim.models.keyedvectors.Vocab at 0x7f28a1b4f080>,\n",
              " 'rsv': <gensim.models.keyedvectors.Vocab at 0x7f28a1b4f0b8>,\n",
              " '5': <gensim.models.keyedvectors.Vocab at 0x7f28a1b4f198>,\n",
              " 'years': <gensim.models.keyedvectors.Vocab at 0x7f28a1b4f0f0>,\n",
              " 'age': <gensim.models.keyedvectors.Vocab at 0x7f28a1b4f160>,\n",
              " 'cause': <gensim.models.keyedvectors.Vocab at 0x7f28a1b4f128>,\n",
              " 'school': <gensim.models.keyedvectors.Vocab at 0x7f28a1b4f1d0>,\n",
              " 'wheezing': <gensim.models.keyedvectors.Vocab at 0x7f28a1b4f780>,\n",
              " 'illness': <gensim.models.keyedvectors.Vocab at 0x7f28a1b4f208>,\n",
              " 'semi': <gensim.models.keyedvectors.Vocab at 0x7f28a1b4f240>,\n",
              " 'staphylococci': <gensim.models.keyedvectors.Vocab at 0x7f28a1b4f278>,\n",
              " 'coagulase': <gensim.models.keyedvectors.Vocab at 0x7f28a1b4f2b0>,\n",
              " 'brine': <gensim.models.keyedvectors.Vocab at 0x7f28a1b4f2e8>,\n",
              " 'housemicrobiota': <gensim.models.keyedvectors.Vocab at 0x7f28a1b4f320>,\n",
              " 'danish': <gensim.models.keyedvectors.Vocab at 0x7f28a1b4f358>,\n",
              " 'type': <gensim.models.keyedvectors.Vocab at 0x7f28a1b4f390>,\n",
              " 'room': <gensim.models.keyedvectors.Vocab at 0x7f28a1b4f3c8>,\n",
              " 'coryneforms': <gensim.models.keyedvectors.Vocab at 0x7f28a1b4f400>,\n",
              " 'positive': <gensim.models.keyedvectors.Vocab at 0x7f28a1b4f438>,\n",
              " 'microbacterium': <gensim.models.keyedvectors.Vocab at 0x7f28a1b4f470>,\n",
              " 'halomonas': <gensim.models.keyedvectors.Vocab at 0x7f28a1b4f4a8>,\n",
              " 'enterobacteriaceae': <gensim.models.keyedvectors.Vocab at 0x7f28a1b4f4e0>,\n",
              " 'clostridium': <gensim.models.keyedvectors.Vocab at 0x7f28a1b4f518>,\n",
              " 'difficile': <gensim.models.keyedvectors.Vocab at 0x7f28a1b4f550>,\n",
              " 'inpatients': <gensim.models.keyedvectors.Vocab at 0x7f28a1b4f588>,\n",
              " 'severe': <gensim.models.keyedvectors.Vocab at 0x7f28a1b4f5c0>,\n",
              " 'complicated': <gensim.models.keyedvectors.Vocab at 0x7f28a1b4f5f8>,\n",
              " 'cdi': <gensim.models.keyedvectors.Vocab at 0x7f28a1b4f630>,\n",
              " 'inpatient': <gensim.models.keyedvectors.Vocab at 0x7f28a1b4f668>,\n",
              " 'cases': <gensim.models.keyedvectors.Vocab at 0x7f28a1b4f6a0>,\n",
              " '48': <gensim.models.keyedvectors.Vocab at 0x7f28a1b4f6d8>,\n",
              " '6': <gensim.models.keyedvectors.Vocab at 0x7f28a1b4f710>,\n",
              " 'female': <gensim.models.keyedvectors.Vocab at 0x7f28a1b4f748>,\n",
              " 'median': <gensim.models.keyedvectors.Vocab at 0x7f28a1b4f7f0>,\n",
              " '62': <gensim.models.keyedvectors.Vocab at 0x7f28a1b4f7b8>,\n",
              " 'range': <gensim.models.keyedvectors.Vocab at 0x7f28a1b4f828>,\n",
              " '0': <gensim.models.keyedvectors.Vocab at 0x7f28a1b4f860>,\n",
              " '103': <gensim.models.keyedvectors.Vocab at 0x7f28a1b4f940>,\n",
              " '7': <gensim.models.keyedvectors.Vocab at 0x7f28a1b4f898>,\n",
              " 'minnesota': <gensim.models.keyedvectors.Vocab at 0x7f28a1b4f908>,\n",
              " 'olmsted': <gensim.models.keyedvectors.Vocab at 0x7f28a1b4f8d0>,\n",
              " 'county': <gensim.models.keyedvectors.Vocab at 0x7f28a1b4f9e8>,\n",
              " 'hospitalized': <gensim.models.keyedvectors.Vocab at 0x7f28a1b4f9b0>,\n",
              " 'pigs': <gensim.models.keyedvectors.Vocab at 0x7f28a1b4fa58>,\n",
              " 'jejunal': <gensim.models.keyedvectors.Vocab at 0x7f28a1b4fa90>,\n",
              " 'tissue': <gensim.models.keyedvectors.Vocab at 0x7f28a1b4fb00>,\n",
              " 'caco': <gensim.models.keyedvectors.Vocab at 0x7f28a1b4fac8>,\n",
              " '2': <gensim.models.keyedvectors.Vocab at 0x7f28a1b4fb38>,\n",
              " 'cells': <gensim.models.keyedvectors.Vocab at 0x7f28a1b4fb70>,\n",
              " 'adhesion': <gensim.models.keyedvectors.Vocab at 0x7f28a1b4fba8>,\n",
              " 'o8': <gensim.models.keyedvectors.Vocab at 0x7f28a1b4fc18>,\n",
              " 'k88': <gensim.models.keyedvectors.Vocab at 0x7f28a1b4fbe0>,\n",
              " 'intestinal': <gensim.models.keyedvectors.Vocab at 0x7f28a1b4fc50>,\n",
              " 'mucosa': <gensim.models.keyedvectors.Vocab at 0x7f28a1b4fc88>,\n",
              " 'lactobacilli': <gensim.models.keyedvectors.Vocab at 0x7f28a1b4fcc0>,\n",
              " 'fully': <gensim.models.keyedvectors.Vocab at 0x7f28a1b4fd30>,\n",
              " 'differentiated': <gensim.models.keyedvectors.Vocab at 0x7f28a1b4fcf8>,\n",
              " 'binding': <gensim.models.keyedvectors.Vocab at 0x7f28a1b4fd68>,\n",
              " 'derived': <gensim.models.keyedvectors.Vocab at 0x7f28a1b4fda0>,\n",
              " 'jejunum': <gensim.models.keyedvectors.Vocab at 0x7f28a1b4fdd8>,\n",
              " 'gasseri': <gensim.models.keyedvectors.Vocab at 0x7f28a1b4fe10>,\n",
              " 'enterocytes': <gensim.models.keyedvectors.Vocab at 0x7f28a1b4fe48>,\n",
              " 'pig': <gensim.models.keyedvectors.Vocab at 0x7f28a1b4fe80>,\n",
              " 'marcescens': <gensim.models.keyedvectors.Vocab at 0x7f28a1b4feb8>,\n",
              " 'mg1': <gensim.models.keyedvectors.Vocab at 0x7f28a1b4fef0>,\n",
              " 'quorum': <gensim.models.keyedvectors.Vocab at 0x7f28a1b4ff28>,\n",
              " 'sensing': <gensim.models.keyedvectors.Vocab at 0x7f28a1b4ff60>,\n",
              " 'abiotic': <gensim.models.keyedvectors.Vocab at 0x7f28a1b4ff98>,\n",
              " 'hce': <gensim.models.keyedvectors.Vocab at 0x7f28a1b4ffd0>,\n",
              " 'ocular': <gensim.models.keyedvectors.Vocab at 0x7f28a1b57048>,\n",
              " 'cell': <gensim.models.keyedvectors.Vocab at 0x7f28a1b57080>,\n",
              " 'biotic': <gensim.models.keyedvectors.Vocab at 0x7f28a1b570b8>,\n",
              " 'opportunistic': <gensim.models.keyedvectors.Vocab at 0x7f28a1b570f0>,\n",
              " 'attachment': <gensim.models.keyedvectors.Vocab at 0x7f28a1b57128>,\n",
              " 'biofilm': <gensim.models.keyedvectors.Vocab at 0x7f28a1b57160>,\n",
              " 'maturation': <gensim.models.keyedvectors.Vocab at 0x7f28a1b57198>,\n",
              " 'n': <gensim.models.keyedvectors.Vocab at 0x7f28a1b571d0>,\n",
              " 'acyl': <gensim.models.keyedvectors.Vocab at 0x7f28a1b57208>,\n",
              " 'homoserine': <gensim.models.keyedvectors.Vocab at 0x7f28a1b57240>,\n",
              " 'lactone': <gensim.models.keyedvectors.Vocab at 0x7f28a1b57278>,\n",
              " 'ahl': <gensim.models.keyedvectors.Vocab at 0x7f28a1b572b0>,\n",
              " 'based': <gensim.models.keyedvectors.Vocab at 0x7f28a1b572e8>,\n",
              " 'qs': <gensim.models.keyedvectors.Vocab at 0x7f28a1b57320>,\n",
              " 'community': <gensim.models.keyedvectors.Vocab at 0x7f28a1b57358>,\n",
              " 'propionibacteria': <gensim.models.keyedvectors.Vocab at 0x7f28a1b57390>,\n",
              " '37': <gensim.models.keyedvectors.Vocab at 0x7f28a1b573c8>,\n",
              " 'glucan': <gensim.models.keyedvectors.Vocab at 0x7f28a1b57400>,\n",
              " 'capsular': <gensim.models.keyedvectors.Vocab at 0x7f28a1b57438>,\n",
              " 'freudenreichii': <gensim.models.keyedvectors.Vocab at 0x7f28a1b57470>,\n",
              " 'shermanii': <gensim.models.keyedvectors.Vocab at 0x7f28a1b574a8>,\n",
              " 'yel': <gensim.models.keyedvectors.Vocab at 0x7f28a1b574e0>,\n",
              " 'medium': <gensim.models.keyedvectors.Vocab at 0x7f28a1b57518>,\n",
              " 'ropy': <gensim.models.keyedvectors.Vocab at 0x7f28a1b57550>,\n",
              " 'phenotype': <gensim.models.keyedvectors.Vocab at 0x7f28a1b57588>,\n",
              " 'presence': <gensim.models.keyedvectors.Vocab at 0x7f28a1b575c0>,\n",
              " 'capsule': <gensim.models.keyedvectors.Vocab at 0x7f28a1b575f8>,\n",
              " 'propionibacterium': <gensim.models.keyedvectors.Vocab at 0x7f28a1b57630>,\n",
              " 'acidipropionici': <gensim.models.keyedvectors.Vocab at 0x7f28a1b57668>,\n",
              " 'strain': <gensim.models.keyedvectors.Vocab at 0x7f28a1b576a0>,\n",
              " 'tl': <gensim.models.keyedvectors.Vocab at 0x7f28a1b576d8>,\n",
              " '47': <gensim.models.keyedvectors.Vocab at 0x7f28a1b57710>,\n",
              " 'francisella': <gensim.models.keyedvectors.Vocab at 0x7f28a1b57748>,\n",
              " 'tularensis': <gensim.models.keyedvectors.Vocab at 0x7f28a1b57780>,\n",
              " 'lvs': <gensim.models.keyedvectors.Vocab at 0x7f28a1b577b8>,\n",
              " 'murine': <gensim.models.keyedvectors.Vocab at 0x7f28a1b577f0>,\n",
              " 'macrophage': <gensim.models.keyedvectors.Vocab at 0x7f28a1b57828>,\n",
              " 'like': <gensim.models.keyedvectors.Vocab at 0x7f28a1b57860>,\n",
              " 'line': <gensim.models.keyedvectors.Vocab at 0x7f28a1b57898>,\n",
              " 'j774': <gensim.models.keyedvectors.Vocab at 0x7f28a1b578d0>,\n",
              " 'ability': <gensim.models.keyedvectors.Vocab at 0x7f28a1b57908>,\n",
              " 'proliferate': <gensim.models.keyedvectors.Vocab at 0x7f28a1b57940>,\n",
              " 'inside': <gensim.models.keyedvectors.Vocab at 0x7f28a1b57978>,\n",
              " 'causative': <gensim.models.keyedvectors.Vocab at 0x7f28a1b579b0>,\n",
              " 'agent': <gensim.models.keyedvectors.Vocab at 0x7f28a1b579e8>,\n",
              " 'tularemia': <gensim.models.keyedvectors.Vocab at 0x7f28a1b57a20>,\n",
              " 'f': <gensim.models.keyedvectors.Vocab at 0x7f28a1b57a58>,\n",
              " 'pyogenes': <gensim.models.keyedvectors.Vocab at 0x7f28a1b57a90>,\n",
              " 'glycoprotein': <gensim.models.keyedvectors.Vocab at 0x7f28a1b57ac8>,\n",
              " 'activity': <gensim.models.keyedvectors.Vocab at 0x7f28a1b57b00>,\n",
              " 'mechanisms': <gensim.models.keyedvectors.Vocab at 0x7f28a1b57b38>,\n",
              " 'asialofetuin': <gensim.models.keyedvectors.Vocab at 0x7f28a1b57b70>,\n",
              " 'mucin': <gensim.models.keyedvectors.Vocab at 0x7f28a1b57ba8>,\n",
              " 'fetuin': <gensim.models.keyedvectors.Vocab at 0x7f28a1b57be0>,\n",
              " 'thyroglobulin': <gensim.models.keyedvectors.Vocab at 0x7f28a1b57c18>,\n",
              " 'virulence': <gensim.models.keyedvectors.Vocab at 0x7f28a1b57c50>,\n",
              " 'cattle': <gensim.models.keyedvectors.Vocab at 0x7f28a1b57c88>,\n",
              " 'cows': <gensim.models.keyedvectors.Vocab at 0x7f28a1b57cc0>,\n",
              " 'variabile': <gensim.models.keyedvectors.Vocab at 0x7f28a1b57cf8>,\n",
              " 'gubbeen': <gensim.models.keyedvectors.Vocab at 0x7f28a1b57d30>,\n",
              " 'casei': <gensim.models.keyedvectors.Vocab at 0x7f28a1b57d68>,\n",
              " 'parahaemolyticus': <gensim.models.keyedvectors.Vocab at 0x7f28a1b57da0>,\n",
              " 'methicillin': <gensim.models.keyedvectors.Vocab at 0x7f28a1b57dd8>,\n",
              " 'skilled': <gensim.models.keyedvectors.Vocab at 0x7f28a1b57e10>,\n",
              " 'nursing': <gensim.models.keyedvectors.Vocab at 0x7f28a1b57e48>,\n",
              " 'facility': <gensim.models.keyedvectors.Vocab at 0x7f28a1b57e80>,\n",
              " 'mrsa': <gensim.models.keyedvectors.Vocab at 0x7f28a1b57eb8>,\n",
              " 'snf': <gensim.models.keyedvectors.Vocab at 0x7f28a1b57ef0>,\n",
              " 'nares': <gensim.models.keyedvectors.Vocab at 0x7f28a1b57f28>,\n",
              " 'swab': <gensim.models.keyedvectors.Vocab at 0x7f28a1b57f60>,\n",
              " 'stool': <gensim.models.keyedvectors.Vocab at 0x7f28a1b57f98>,\n",
              " 'oxacillin': <gensim.models.keyedvectors.Vocab at 0x7f28a1b57fd0>,\n",
              " 'screening': <gensim.models.keyedvectors.Vocab at 0x7f28a1b5b048>,\n",
              " 'agar': <gensim.models.keyedvectors.Vocab at 0x7f28a1b5b080>,\n",
              " 'infantarius': <gensim.models.keyedvectors.Vocab at 0x7f28a1b5b0b8>,\n",
              " 'western': <gensim.models.keyedvectors.Vocab at 0x7f28a1b5b0f0>,\n",
              " 'african': <gensim.models.keyedvectors.Vocab at 0x7f28a1b5b128>,\n",
              " 'fermented': <gensim.models.keyedvectors.Vocab at 0x7f28a1b5b160>,\n",
              " 'milks': <gensim.models.keyedvectors.Vocab at 0x7f28a1b5b198>,\n",
              " 'infant': <gensim.models.keyedvectors.Vocab at 0x7f28a1b5b1d0>,\n",
              " 'feces': <gensim.models.keyedvectors.Vocab at 0x7f28a1b5b208>,\n",
              " '3ag': <gensim.models.keyedvectors.Vocab at 0x7f28a1b5b240>,\n",
              " '11fa': <gensim.models.keyedvectors.Vocab at 0x7f28a1b5b278>,\n",
              " 'atcc': <gensim.models.keyedvectors.Vocab at 0x7f28a1b5b2b0>,\n",
              " 'baa': <gensim.models.keyedvectors.Vocab at 0x7f28a1b5b2e8>,\n",
              " '102': <gensim.models.keyedvectors.Vocab at 0x7f28a1b5b320>,\n",
              " 'cj18': <gensim.models.keyedvectors.Vocab at 0x7f28a1b5b358>,\n",
              " 'eastern': <gensim.models.keyedvectors.Vocab at 0x7f28a1b5b390>,\n",
              " 'zobellia': <gensim.models.keyedvectors.Vocab at 0x7f28a1b5b3c8>,\n",
              " 'galactanivorans': <gensim.models.keyedvectors.Vocab at 0x7f28a1b5b400>,\n",
              " 'dsij': <gensim.models.keyedvectors.Vocab at 0x7f28a1b5b438>,\n",
              " 'fluorescens': <gensim.models.keyedvectors.Vocab at 0x7f28a1b5b470>,\n",
              " 'tss': <gensim.models.keyedvectors.Vocab at 0x7f28a1b5b4a8>,\n",
              " 'local': <gensim.models.keyedvectors.Vocab at 0x7f28a1b5b4e0>,\n",
              " 'farm': <gensim.models.keyedvectors.Vocab at 0x7f28a1b5b518>,\n",
              " 'diseased': <gensim.models.keyedvectors.Vocab at 0x7f28a1b5b550>,\n",
              " 'japanese': <gensim.models.keyedvectors.Vocab at 0x7f28a1b5b588>,\n",
              " 'flounder': <gensim.models.keyedvectors.Vocab at 0x7f28a1b5b5c0>,\n",
              " 'cultured': <gensim.models.keyedvectors.Vocab at 0x7f28a1b5b5f8>,\n",
              " 'tfm': <gensim.models.keyedvectors.Vocab at 0x7f28a1b5b630>,\n",
              " 'host': <gensim.models.keyedvectors.Vocab at 0x7f28a1b5b668>,\n",
              " 'serum': <gensim.models.keyedvectors.Vocab at 0x7f28a1b5b6a0>,\n",
              " 'decreased': <gensim.models.keyedvectors.Vocab at 0x7f28a1b5b6d8>,\n",
              " 'bactericidal': <gensim.models.keyedvectors.Vocab at 0x7f28a1b5b710>,\n",
              " 'live': <gensim.models.keyedvectors.Vocab at 0x7f28a1b5b748>,\n",
              " 'vaccine': <gensim.models.keyedvectors.Vocab at 0x7f28a1b5b780>,\n",
              " 'plant': <gensim.models.keyedvectors.Vocab at 0x7f28a1b5b7b8>,\n",
              " 'clib': <gensim.models.keyedvectors.Vocab at 0x7f28a1b5b7f0>,\n",
              " '918': <gensim.models.keyedvectors.Vocab at 0x7f28a1b5b828>,\n",
              " 'cbs767': <gensim.models.keyedvectors.Vocab at 0x7f28a1b5b860>,\n",
              " 'pseudoalteromonas': <gensim.models.keyedvectors.Vocab at 0x7f28a1b5b898>,\n",
              " 'haloplanktis': <gensim.models.keyedvectors.Vocab at 0x7f28a1b5b8d0>,\n",
              " 'tac125': <gensim.models.keyedvectors.Vocab at 0x7f28a1b5b908>,\n",
              " 'm45': <gensim.models.keyedvectors.Vocab at 0x7f28a1b5b940>,\n",
              " '91': <gensim.models.keyedvectors.Vocab at 0x7f28a1b5b978>,\n",
              " 'penicillium': <gensim.models.keyedvectors.Vocab at 0x7f28a1b5b9b0>,\n",
              " 'camemberti': <gensim.models.keyedvectors.Vocab at 0x7f28a1b5b9e8>,\n",
              " 'fm': <gensim.models.keyedvectors.Vocab at 0x7f28a1b5ba20>,\n",
              " '013': <gensim.models.keyedvectors.Vocab at 0x7f28a1b5ba58>,\n",
              " 'bergerei': <gensim.models.keyedvectors.Vocab at 0x7f28a1b5ba90>,\n",
              " 'ca106': <gensim.models.keyedvectors.Vocab at 0x7f28a1b5bac8>,\n",
              " 'blue': <gensim.models.keyedvectors.Vocab at 0x7f28a1b5bb00>,\n",
              " 'veined': <gensim.models.keyedvectors.Vocab at 0x7f28a1b5bb38>,\n",
              " 'delbrueckii': <gensim.models.keyedvectors.Vocab at 0x7f28a1b5bb70>,\n",
              " 'bacterium': <gensim.models.keyedvectors.Vocab at 0x7f28a1b5bba8>,\n",
              " 'aquimaris': <gensim.models.keyedvectors.Vocab at 0x7f28a1b5bbe0>,\n",
              " 'brachybacterium': <gensim.models.keyedvectors.Vocab at 0x7f28a1b5bc18>,\n",
              " 'tyrofermentans': <gensim.models.keyedvectors.Vocab at 0x7f28a1b5bc50>,\n",
              " 'ammoniagenes': <gensim.models.keyedvectors.Vocab at 0x7f28a1b5bc88>,\n",
              " 'antiquum': <gensim.models.keyedvectors.Vocab at 0x7f28a1b5bcc0>,\n",
              " 'gubbeenense': <gensim.models.keyedvectors.Vocab at 0x7f28a1b5bcf8>,\n",
              " 'brochothrix': <gensim.models.keyedvectors.Vocab at 0x7f28a1b5bd30>,\n",
              " 'thermosphacta': <gensim.models.keyedvectors.Vocab at 0x7f28a1b5bd68>,\n",
              " 'mgcl': <gensim.models.keyedvectors.Vocab at 0x7f28a1b5bda0>,\n",
              " '20': <gensim.models.keyedvectors.Vocab at 0x7f28a1b5bdd8>,\n",
              " 'sucrose': <gensim.models.keyedvectors.Vocab at 0x7f28a1b5be10>,\n",
              " 'scopulariopsis': <gensim.models.keyedvectors.Vocab at 0x7f28a1b5be48>,\n",
              " 'brevicaulis': <gensim.models.keyedvectors.Vocab at 0x7f28a1b5be80>,\n",
              " 'filamentous': <gensim.models.keyedvectors.Vocab at 0x7f28a1b5beb8>,\n",
              " 'proteolytic': <gensim.models.keyedvectors.Vocab at 0x7f28a1b5bef0>,\n",
              " 'ammonia': <gensim.models.keyedvectors.Vocab at 0x7f28a1b5bf28>,\n",
              " 'arsenical': <gensim.models.keyedvectors.Vocab at 0x7f28a1b5bf60>,\n",
              " 'biofilms': <gensim.models.keyedvectors.Vocab at 0x7f28a1b5bf98>,\n",
              " 'medical': <gensim.models.keyedvectors.Vocab at 0x7f28a1b5bfd0>,\n",
              " 'devices': <gensim.models.keyedvectors.Vocab at 0x7f28a1b5f048>,\n",
              " 'epidermidis': <gensim.models.keyedvectors.Vocab at 0x7f28a1b5f080>,\n",
              " 'biomaterial': <gensim.models.keyedvectors.Vocab at 0x7f28a1b5f0b8>,\n",
              " 'development': <gensim.models.keyedvectors.Vocab at 0x7f28a1b5f0f0>,\n",
              " 'providencia': <gensim.models.keyedvectors.Vocab at 0x7f28a1b5f128>,\n",
              " 'heimbachae': <gensim.models.keyedvectors.Vocab at 0x7f28a1b5f160>,\n",
              " 'gr4': <gensim.models.keyedvectors.Vocab at 0x7f28a1b5f198>,\n",
              " 'anabaena': <gensim.models.keyedvectors.Vocab at 0x7f28a1b5f1d0>,\n",
              " '31': <gensim.models.keyedvectors.Vocab at 0x7f28a1b5f208>,\n",
              " 'nitrogen': <gensim.models.keyedvectors.Vocab at 0x7f28a1b5f240>,\n",
              " 'fixing': <gensim.models.keyedvectors.Vocab at 0x7f28a1b5f278>,\n",
              " 'thermotolerance': <gensim.models.keyedvectors.Vocab at 0x7f28a1b5f2b0>,\n",
              " 'abilities': <gensim.models.keyedvectors.Vocab at 0x7f28a1b5f2e8>,\n",
              " 'survive': <gensim.models.keyedvectors.Vocab at 0x7f28a1b5f320>,\n",
              " 'prolonged': <gensim.models.keyedvectors.Vocab at 0x7f28a1b5f358>,\n",
              " 'continuous': <gensim.models.keyedvectors.Vocab at 0x7f28a1b5f390>,\n",
              " 'heat': <gensim.models.keyedvectors.Vocab at 0x7f28a1b5f3c8>,\n",
              " 'stress': <gensim.models.keyedvectors.Vocab at 0x7f28a1b5f400>,\n",
              " 'nitrogenase': <gensim.models.keyedvectors.Vocab at 0x7f28a1b5f438>,\n",
              " 'ferment': <gensim.models.keyedvectors.Vocab at 0x7f28a1b5f470>,\n",
              " 'lactose': <gensim.models.keyedvectors.Vocab at 0x7f28a1b5f4a8>,\n",
              " 'vancomycin': <gensim.models.keyedvectors.Vocab at 0x7f28a1b5f4e0>,\n",
              " 'vre': <gensim.models.keyedvectors.Vocab at 0x7f28a1b5f518>,\n",
              " 'patient': <gensim.models.keyedvectors.Vocab at 0x7f28a1b5f550>,\n",
              " 'flavescens': <gensim.models.keyedvectors.Vocab at 0x7f28a1b5f588>,\n",
              " 'urine': <gensim.models.keyedvectors.Vocab at 0x7f28a1b5f5c0>,\n",
              " 'accepted': <gensim.models.keyedvectors.Vocab at 0x7f28a1b5f5f8>,\n",
              " 'chemotherapy': <gensim.models.keyedvectors.Vocab at 0x7f28a1b5f630>,\n",
              " 'sputum': <gensim.models.keyedvectors.Vocab at 0x7f28a1b5f668>,\n",
              " 'nosocomial': <gensim.models.keyedvectors.Vocab at 0x7f28a1b5f6a0>,\n",
              " 'broad': <gensim.models.keyedvectors.Vocab at 0x7f28a1b5f6d8>,\n",
              " 'spectrum': <gensim.models.keyedvectors.Vocab at 0x7f28a1b5f710>,\n",
              " 'penicillin': <gensim.models.keyedvectors.Vocab at 0x7f28a1b5f748>,\n",
              " 'enterobacter': <gensim.models.keyedvectors.Vocab at 0x7f28a1b5f780>,\n",
              " 'cloacae': <gensim.models.keyedvectors.Vocab at 0x7f28a1b5f7b8>,\n",
              " 'acinetobacter': <gensim.models.keyedvectors.Vocab at 0x7f28a1b5f7f0>,\n",
              " 'baumannii': <gensim.models.keyedvectors.Vocab at 0x7f28a1b5f828>,\n",
              " 'arhodomonas': <gensim.models.keyedvectors.Vocab at 0x7f28a1b5f860>,\n",
              " 'aquaeolei': <gensim.models.keyedvectors.Vocab at 0x7f28a1b5f898>,\n",
              " 'subterranean': <gensim.models.keyedvectors.Vocab at 0x7f28a1b5f8d0>,\n",
              " 'aerobic': <gensim.models.keyedvectors.Vocab at 0x7f28a1b5f908>,\n",
              " 'halophilic': <gensim.models.keyedvectors.Vocab at 0x7f28a1b5f940>,\n",
              " 'petroleum': <gensim.models.keyedvectors.Vocab at 0x7f28a1b5f978>,\n",
              " 'reservoir': <gensim.models.keyedvectors.Vocab at 0x7f28a1b5f9b0>,\n",
              " 'fluid': <gensim.models.keyedvectors.Vocab at 0x7f28a1b5f9e8>,\n",
              " 'motile': <gensim.models.keyedvectors.Vocab at 0x7f28a1b5fa20>,\n",
              " 'oxidase': <gensim.models.keyedvectors.Vocab at 0x7f28a1b5fa58>,\n",
              " 'oval': <gensim.models.keyedvectors.Vocab at 0x7f28a1b5fa90>,\n",
              " 'rod': <gensim.models.keyedvectors.Vocab at 0x7f28a1b5fac8>,\n",
              " 'shaped': <gensim.models.keyedvectors.Vocab at 0x7f28a1b5fb00>,\n",
              " 'catalase': <gensim.models.keyedvectors.Vocab at 0x7f28a1b5fb38>,\n",
              " 'obligately': <gensim.models.keyedvectors.Vocab at 0x7f28a1b5fb70>,\n",
              " 'environment': <gensim.models.keyedvectors.Vocab at 0x7f28a1b5fba8>,\n",
              " 'bacillus': <gensim.models.keyedvectors.Vocab at 0x7f28a1b5fbe0>,\n",
              " 'intermedius': <gensim.models.keyedvectors.Vocab at 0x7f28a1b5fc18>,\n",
              " 's3': <gensim.models.keyedvectors.Vocab at 0x7f28a1b5fc50>,\n",
              " '19': <gensim.models.keyedvectors.Vocab at 0x7f28a1b5fc88>,\n",
              " 'streptomycin': <gensim.models.keyedvectors.Vocab at 0x7f28a1b5fcc0>,\n",
              " 'jail': <gensim.models.keyedvectors.Vocab at 0x7f28a1b5fcf8>,\n",
              " 'environmental': <gensim.models.keyedvectors.Vocab at 0x7f28a1b5fd30>,\n",
              " 'setting': <gensim.models.keyedvectors.Vocab at 0x7f28a1b5fd68>,\n",
              " 'primary': <gensim.models.keyedvectors.Vocab at 0x7f28a1b5fda0>,\n",
              " 'secondary': <gensim.models.keyedvectors.Vocab at 0x7f28a1b5fdd8>,\n",
              " 'mannitol': <gensim.models.keyedvectors.Vocab at 0x7f28a1b5fe10>,\n",
              " 'salts': <gensim.models.keyedvectors.Vocab at 0x7f28a1b5fe48>,\n",
              " 'inmates': <gensim.models.keyedvectors.Vocab at 0x7f28a1b5fe80>,\n",
              " 'nasal': <gensim.models.keyedvectors.Vocab at 0x7f28a1b5feb8>,\n",
              " 'correctional': <gensim.models.keyedvectors.Vocab at 0x7f28a1b5fef0>,\n",
              " 'facilities': <gensim.models.keyedvectors.Vocab at 0x7f28a1b5ff28>,\n",
              " 'fh3': <gensim.models.keyedvectors.Vocab at 0x7f28a1b5ff60>,\n",
              " 'b16': <gensim.models.keyedvectors.Vocab at 0x7f28a1b5ff98>,\n",
              " 'd5': <gensim.models.keyedvectors.Vocab at 0x7f28a1b5ffd0>,\n",
              " 'dextran': <gensim.models.keyedvectors.Vocab at 0x7f28a1b62048>,\n",
              " 'producing': <gensim.models.keyedvectors.Vocab at 0x7f28a1b62080>,\n",
              " 'ubiquitous': <gensim.models.keyedvectors.Vocab at 0x7f28a1b620b8>,\n",
              " 're117': <gensim.models.keyedvectors.Vocab at 0x7f28a1b620f0>,\n",
              " 'habitat': <gensim.models.keyedvectors.Vocab at 0x7f28a1b62128>,\n",
              " 'catabolism': <gensim.models.keyedvectors.Vocab at 0x7f28a1b62160>,\n",
              " 'galactonate': <gensim.models.keyedvectors.Vocab at 0x7f28a1b62198>,\n",
              " 'apple': <gensim.models.keyedvectors.Vocab at 0x7f28a1b621d0>,\n",
              " 'lettuce': <gensim.models.keyedvectors.Vocab at 0x7f28a1b62208>,\n",
              " 'nutrient': <gensim.models.keyedvectors.Vocab at 0x7f28a1b62240>,\n",
              " 'broth': <gensim.models.keyedvectors.Vocab at 0x7f28a1b62278>,\n",
              " 'tryptic': <gensim.models.keyedvectors.Vocab at 0x7f28a1b622b0>,\n",
              " 'soy': <gensim.models.keyedvectors.Vocab at 0x7f28a1b622e8>,\n",
              " 'tsb': <gensim.models.keyedvectors.Vocab at 0x7f28a1b62320>,\n",
              " 'nb': <gensim.models.keyedvectors.Vocab at 0x7f28a1b62358>,\n",
              " 'spanish': <gensim.models.keyedvectors.Vocab at 0x7f28a1b62390>,\n",
              " 'rinds': <gensim.models.keyedvectors.Vocab at 0x7f28a1b623c8>,\n",
              " 'mycobacterium': <gensim.models.keyedvectors.Vocab at 0x7f28a1b62400>,\n",
              " 'tuberculosis': <gensim.models.keyedvectors.Vocab at 0x7f28a1b62438>,\n",
              " 'macaca': <gensim.models.keyedvectors.Vocab at 0x7f28a1b62470>,\n",
              " 'mulatta': <gensim.models.keyedvectors.Vocab at 0x7f28a1b624a8>,\n",
              " 'virulent': <gensim.models.keyedvectors.Vocab at 0x7f28a1b624e0>,\n",
              " 'perfringens': <gensim.models.keyedvectors.Vocab at 0x7f28a1b62518>,\n",
              " 'broilers': <gensim.models.keyedvectors.Vocab at 0x7f28a1b62550>,\n",
              " 'salmonella': <gensim.models.keyedvectors.Vocab at 0x7f28a1b62588>,\n",
              " 'paratyphi': <gensim.models.keyedvectors.Vocab at 0x7f28a1b625c0>,\n",
              " 'israeli': <gensim.models.keyedvectors.Vocab at 0x7f28a1b625f8>,\n",
              " 'travelers': <gensim.models.keyedvectors.Vocab at 0x7f28a1b62630>,\n",
              " 'nepal': <gensim.models.keyedvectors.Vocab at 0x7f28a1b62668>,\n",
              " 'asia': <gensim.models.keyedvectors.Vocab at 0x7f28a1b626a0>,\n",
              " 'nalidixic': <gensim.models.keyedvectors.Vocab at 0x7f28a1b626d8>,\n",
              " 'phenylpyruvica': <gensim.models.keyedvectors.Vocab at 0x7f28a1b62710>,\n",
              " 'cured': <gensim.models.keyedvectors.Vocab at 0x7f28a1b62748>,\n",
              " 'meat': <gensim.models.keyedvectors.Vocab at 0x7f28a1b62780>,\n",
              " 'model': <gensim.models.keyedvectors.Vocab at 0x7f28a1b627b8>,\n",
              " 'methylocella': <gensim.models.keyedvectors.Vocab at 0x7f28a1b627f0>,\n",
              " 'methanotrophs': <gensim.models.keyedvectors.Vocab at 0x7f28a1b62828>,\n",
              " 'silvestris': <gensim.models.keyedvectors.Vocab at 0x7f28a1b62860>,\n",
              " 'grow': <gensim.models.keyedvectors.Vocab at 0x7f28a1b62898>,\n",
              " 'simultaneously': <gensim.models.keyedvectors.Vocab at 0x7f28a1b628d0>,\n",
              " 'methane': <gensim.models.keyedvectors.Vocab at 0x7f28a1b62908>,\n",
              " 'longer': <gensim.models.keyedvectors.Vocab at 0x7f28a1b62940>,\n",
              " 'chain': <gensim.models.keyedvectors.Vocab at 0x7f28a1b62978>,\n",
              " 'alkanes': <gensim.models.keyedvectors.Vocab at 0x7f28a1b629b0>,\n",
              " 'parvulus': <gensim.models.keyedvectors.Vocab at 0x7f28a1b629e8>,\n",
              " 'produced': <gensim.models.keyedvectors.Vocab at 0x7f28a1b62a20>,\n",
              " 'gastrointestinal': <gensim.models.keyedvectors.Vocab at 0x7f28a1b62a58>,\n",
              " 'helicobacter': <gensim.models.keyedvectors.Vocab at 0x7f28a1b62a90>,\n",
              " 'pullorum': <gensim.models.keyedvectors.Vocab at 0x7f28a1b62ac8>,\n",
              " 'enteritis': <gensim.models.keyedvectors.Vocab at 0x7f28a1b62b00>,\n",
              " 'asymptomatic': <gensim.models.keyedvectors.Vocab at 0x7f28a1b62b38>,\n",
              " 'immunocompromised': <gensim.models.keyedvectors.Vocab at 0x7f28a1b62b70>,\n",
              " 'actinobacteria': <gensim.models.keyedvectors.Vocab at 0x7f28a1b62ba8>,\n",
              " 'alimentarum': <gensim.models.keyedvectors.Vocab at 0x7f28a1b62be0>,\n",
              " 'farmhouses': <gensim.models.keyedvectors.Vocab at 0x7f28a1b62c18>,\n",
              " 'b': <gensim.models.keyedvectors.Vocab at 0x7f28a1b62c50>,\n",
              " 'permense': <gensim.models.keyedvectors.Vocab at 0x7f28a1b62c88>,\n",
              " 'saprophyticus': <gensim.models.keyedvectors.Vocab at 0x7f28a1b62cc0>,\n",
              " 'dairies': <gensim.models.keyedvectors.Vocab at 0x7f28a1b62cf8>,\n",
              " 'staph': <gensim.models.keyedvectors.Vocab at 0x7f28a1b62d30>,\n",
              " 'equorum': <gensim.models.keyedvectors.Vocab at 0x7f28a1b62d68>,\n",
              " 'yeast': <gensim.models.keyedvectors.Vocab at 0x7f28a1b62da0>,\n",
              " 'marxianus': <gensim.models.keyedvectors.Vocab at 0x7f28a1b62dd8>,\n",
              " 'geothrichum': <gensim.models.keyedvectors.Vocab at 0x7f28a1b62e10>,\n",
              " 'traditional': <gensim.models.keyedvectors.Vocab at 0x7f28a1b62e48>,\n",
              " 'methods': <gensim.models.keyedvectors.Vocab at 0x7f28a1b62e80>,\n",
              " 'containing': <gensim.models.keyedvectors.Vocab at 0x7f28a1b62eb8>,\n",
              " 'interior': <gensim.models.keyedvectors.Vocab at 0x7f28a1b62ef0>,\n",
              " 'kansasii': <gensim.models.keyedvectors.Vocab at 0x7f28a1b62f28>,\n",
              " 'gingivomandibular': <gensim.models.keyedvectors.Vocab at 0x7f28a1b62f60>,\n",
              " 'aids': <gensim.models.keyedvectors.Vocab at 0x7f28a1b62f98>,\n",
              " 'm10': <gensim.models.keyedvectors.Vocab at 0x7f28a1b62fd0>,\n",
              " 'experimental': <gensim.models.keyedvectors.Vocab at 0x7f28a1ae6048>,\n",
              " 'manufacturing': <gensim.models.keyedvectors.Vocab at 0x7f28a1ae6080>,\n",
              " 'agrococcus': <gensim.models.keyedvectors.Vocab at 0x7f28a1ae60b8>,\n",
              " 'mycetocola': <gensim.models.keyedvectors.Vocab at 0x7f28a1ae60f0>,\n",
              " 'reblochoni': <gensim.models.keyedvectors.Vocab at 0x7f28a1ae6128>,\n",
              " 'lipase': <gensim.models.keyedvectors.Vocab at 0x7f28a1ae6160>,\n",
              " 'rhamnosus': <gensim.models.keyedvectors.Vocab at 0x7f28a1ae6198>,\n",
              " 'rw': <gensim.models.keyedvectors.Vocab at 0x7f28a1ae61d0>,\n",
              " '9595m': <gensim.models.keyedvectors.Vocab at 0x7f28a1ae6208>,\n",
              " 'eps': <gensim.models.keyedvectors.Vocab at 0x7f28a1ae6240>,\n",
              " 'producers': <gensim.models.keyedvectors.Vocab at 0x7f28a1ae6278>,\n",
              " 'kefiranofaciens': <gensim.models.keyedvectors.Vocab at 0x7f28a1ae62b0>,\n",
              " 'wt': <gensim.models.keyedvectors.Vocab at 0x7f28a1ae62e8>,\n",
              " '2b': <gensim.models.keyedvectors.Vocab at 0x7f28a1ae6320>,\n",
              " 'bulgaricus': <gensim.models.keyedvectors.Vocab at 0x7f28a1ae6358>,\n",
              " 'complex': <gensim.models.keyedvectors.Vocab at 0x7f28a1ae6390>,\n",
              " 'jejuni': <gensim.models.keyedvectors.Vocab at 0x7f28a1ae63c8>,\n",
              " 'enterica': <gensim.models.keyedvectors.Vocab at 0x7f28a1ae6400>,\n",
              " 'northern': <gensim.models.keyedvectors.Vocab at 0x7f28a1ae6438>,\n",
              " 'spain': <gensim.models.keyedvectors.Vocab at 0x7f28a1ae6470>,\n",
              " 'animals': <gensim.models.keyedvectors.Vocab at 0x7f28a1ae64a8>,\n",
              " 'beta': <gensim.models.keyedvectors.Vocab at 0x7f28a1ae64e0>,\n",
              " 'lactamase': <gensim.models.keyedvectors.Vocab at 0x7f28a1ae6518>,\n",
              " 'hospitals': <gensim.models.keyedvectors.Vocab at 0x7f28a1ae6550>,\n",
              " 'virchow': <gensim.models.keyedvectors.Vocab at 0x7f28a1ae6588>,\n",
              " 'extended': <gensim.models.keyedvectors.Vocab at 0x7f28a1ae65c0>,\n",
              " 'esbl': <gensim.models.keyedvectors.Vocab at 0x7f28a1ae65f8>,\n",
              " 'producer': <gensim.models.keyedvectors.Vocab at 0x7f28a1ae6630>,\n",
              " 'livingstone': <gensim.models.keyedvectors.Vocab at 0x7f28a1ae6668>,\n",
              " 'legionella': <gensim.models.keyedvectors.Vocab at 0x7f28a1ae66a0>,\n",
              " 'pneumophila': <gensim.models.keyedvectors.Vocab at 0x7f28a1ae66d8>,\n",
              " 'leprae': <gensim.models.keyedvectors.Vocab at 0x7f28a1ae6710>,\n",
              " 'schwann': <gensim.models.keyedvectors.Vocab at 0x7f28a1ae6748>,\n",
              " 'adult': <gensim.models.keyedvectors.Vocab at 0x7f28a1ae6780>,\n",
              " 'pns': <gensim.models.keyedvectors.Vocab at 0x7f28a1ae67b8>,\n",
              " 'myelinated': <gensim.models.keyedvectors.Vocab at 0x7f28a1ae67f0>,\n",
              " 'myelin': <gensim.models.keyedvectors.Vocab at 0x7f28a1ae6828>,\n",
              " 'raw': <gensim.models.keyedvectors.Vocab at 0x7f28a1ae6860>,\n",
              " 'hydrogen': <gensim.models.keyedvectors.Vocab at 0x7f28a1ae6898>,\n",
              " 'cyanide': <gensim.models.keyedvectors.Vocab at 0x7f28a1ae68d0>,\n",
              " 'hcn': <gensim.models.keyedvectors.Vocab at 0x7f28a1ae6908>,\n",
              " 'nh': <gensim.models.keyedvectors.Vocab at 0x7f28a1ae6940>,\n",
              " 'emitted': <gensim.models.keyedvectors.Vocab at 0x7f28a1ae6978>,\n",
              " 'cf': <gensim.models.keyedvectors.Vocab at 0x7f28a1ae69b0>,\n",
              " 'burkholderia': <gensim.models.keyedvectors.Vocab at 0x7f28a1ae69e8>,\n",
              " 'cepacia': <gensim.models.keyedvectors.Vocab at 0x7f28a1ae6a20>,\n",
              " 'aspergillus': <gensim.models.keyedvectors.Vocab at 0x7f28a1ae6a58>,\n",
              " 'fumigatus': <gensim.models.keyedvectors.Vocab at 0x7f28a1ae6a90>,\n",
              " 'stenotrophomonas': <gensim.models.keyedvectors.Vocab at 0x7f28a1ae6ac8>,\n",
              " 'maltophilia': <gensim.models.keyedvectors.Vocab at 0x7f28a1ae6b00>,\n",
              " 'abscessus': <gensim.models.keyedvectors.Vocab at 0x7f28a1ae6b38>,\n",
              " 'r': <gensim.models.keyedvectors.Vocab at 0x7f28a1ae6b70>,\n",
              " 'eutropha': <gensim.models.keyedvectors.Vocab at 0x7f28a1ae6ba8>,\n",
              " 'h850': <gensim.models.keyedvectors.Vocab at 0x7f28a1ae6be0>,\n",
              " 'biphenyl': <gensim.models.keyedvectors.Vocab at 0x7f28a1ae6c18>,\n",
              " 'fructose': <gensim.models.keyedvectors.Vocab at 0x7f28a1ae6c50>,\n",
              " 'xanthomonas': <gensim.models.keyedvectors.Vocab at 0x7f28a1ae6c88>,\n",
              " 'campestris': <gensim.models.keyedvectors.Vocab at 0x7f28a1ae6cc0>,\n",
              " 'pv': <gensim.models.keyedvectors.Vocab at 0x7f28a1ae6cf8>,\n",
              " 'vesicatoria': <gensim.models.keyedvectors.Vocab at 0x7f28a1ae6d30>,\n",
              " 'mesenteroides': <gensim.models.keyedvectors.Vocab at 0x7f28a1ae6d68>,\n",
              " 'parabuchneri': <gensim.models.keyedvectors.Vocab at 0x7f28a1ae6da0>,\n",
              " 'brevis': <gensim.models.keyedvectors.Vocab at 0x7f28a1ae6dd8>,\n",
              " 'oligofermentans': <gensim.models.keyedvectors.Vocab at 0x7f28a1ae6e10>,\n",
              " 'farminis': <gensim.models.keyedvectors.Vocab at 0x7f28a1ae6e48>,\n",
              " 'agrobacterium': <gensim.models.keyedvectors.Vocab at 0x7f28a1ae6e80>,\n",
              " 'rhizogenes': <gensim.models.keyedvectors.Vocab at 0x7f28a1ae6eb8>,\n",
              " 'tobacco': <gensim.models.keyedvectors.Vocab at 0x7f28a1ae6ef0>,\n",
              " 'pylori': <gensim.models.keyedvectors.Vocab at 0x7f28a1ae6f28>,\n",
              " 'immunodeficiency': <gensim.models.keyedvectors.Vocab at 0x7f28a1ae6f60>,\n",
              " 'outpatients': <gensim.models.keyedvectors.Vocab at 0x7f28a1ae6f98>,\n",
              " 'subjects': <gensim.models.keyedvectors.Vocab at 0x7f28a1ae6fd0>,\n",
              " 'hypoacidity': <gensim.models.keyedvectors.Vocab at 0x7f28a1aea048>,\n",
              " 'hiv': <gensim.models.keyedvectors.Vocab at 0x7f28a1aea080>,\n",
              " 'black': <gensim.models.keyedvectors.Vocab at 0x7f28a1aea0b8>,\n",
              " 'hispanic': <gensim.models.keyedvectors.Vocab at 0x7f28a1aea0f0>,\n",
              " 'salmonicida': <gensim.models.keyedvectors.Vocab at 0x7f28a1aea128>,\n",
              " 'fish': <gensim.models.keyedvectors.Vocab at 0x7f28a1aea160>,\n",
              " 'sediments': <gensim.models.keyedvectors.Vocab at 0x7f28a1aea198>,\n",
              " 'tracts': <gensim.models.keyedvectors.Vocab at 0x7f28a1aea1d0>,\n",
              " 'sediment': <gensim.models.keyedvectors.Vocab at 0x7f28a1aea208>,\n",
              " 'sample': <gensim.models.keyedvectors.Vocab at 0x7f28a1aea240>,\n",
              " 'disease': <gensim.models.keyedvectors.Vocab at 0x7f28a1aea278>,\n",
              " 'farms': <gensim.models.keyedvectors.Vocab at 0x7f28a1aea2b0>,\n",
              " 'food': <gensim.models.keyedvectors.Vocab at 0x7f28a1aea2e8>,\n",
              " 'uncooked': <gensim.models.keyedvectors.Vocab at 0x7f28a1aea320>,\n",
              " 'pressed': <gensim.models.keyedvectors.Vocab at 0x7f28a1aea358>,\n",
              " 'helicobactor': <gensim.models.keyedvectors.Vocab at 0x7f28a1aea390>,\n",
              " 'salmonellae': <gensim.models.keyedvectors.Vocab at 0x7f28a1aea3c8>,\n",
              " 'egg': <gensim.models.keyedvectors.Vocab at 0x7f28a1aea400>,\n",
              " 'products': <gensim.models.keyedvectors.Vocab at 0x7f28a1aea438>,\n",
              " 'strontium': <gensim.models.keyedvectors.Vocab at 0x7f28a1aea470>,\n",
              " 'selenite': <gensim.models.keyedvectors.Vocab at 0x7f28a1aea4a8>,\n",
              " 'pulp': <gensim.models.keyedvectors.Vocab at 0x7f28a1aea4e0>,\n",
              " 'chloride': <gensim.models.keyedvectors.Vocab at 0x7f28a1aea518>,\n",
              " 'biosynthesis': <gensim.models.keyedvectors.Vocab at 0x7f28a1aea550>,\n",
              " '34': <gensim.models.keyedvectors.Vocab at 0x7f28a1aea588>,\n",
              " 'protease': <gensim.models.keyedvectors.Vocab at 0x7f28a1aea5c0>,\n",
              " 'fh1': <gensim.models.keyedvectors.Vocab at 0x7f28a1aea5f8>,\n",
              " 'mu120': <gensim.models.keyedvectors.Vocab at 0x7f28a1aea630>,\n",
              " 'mu128': <gensim.models.keyedvectors.Vocab at 0x7f28a1aea668>,\n",
              " 'mu129': <gensim.models.keyedvectors.Vocab at 0x7f28a1aea6a0>,\n",
              " 'xylosus': <gensim.models.keyedvectors.Vocab at 0x7f28a1aea6d8>,\n",
              " 'com1': <gensim.models.keyedvectors.Vocab at 0x7f28a1aea710>,\n",
              " 'mu2': <gensim.models.keyedvectors.Vocab at 0x7f28a1aea748>,\n",
              " 'dh68': <gensim.models.keyedvectors.Vocab at 0x7f28a1aea780>,\n",
              " 'gc129': <gensim.models.keyedvectors.Vocab at 0x7f28a1aea7b8>,\n",
              " 'ci35': <gensim.models.keyedvectors.Vocab at 0x7f28a1aea7f0>,\n",
              " 'kl65': <gensim.models.keyedvectors.Vocab at 0x7f28a1aea828>,\n",
              " 'reblochon': <gensim.models.keyedvectors.Vocab at 0x7f28a1aea860>,\n",
              " 'st': <gensim.models.keyedvectors.Vocab at 0x7f28a1aea898>,\n",
              " 'nectaire': <gensim.models.keyedvectors.Vocab at 0x7f28a1aea8d0>,\n",
              " 'synthetic': <gensim.models.keyedvectors.Vocab at 0x7f28a1aea908>,\n",
              " 'media': <gensim.models.keyedvectors.Vocab at 0x7f28a1aea940>,\n",
              " 'sensitivity': <gensim.models.keyedvectors.Vocab at 0x7f28a1aea978>,\n",
              " '24': <gensim.models.keyedvectors.Vocab at 0x7f28a1aea9b0>,\n",
              " 'antibiotics': <gensim.models.keyedvectors.Vocab at 0x7f28a1aea9e8>,\n",
              " '920': <gensim.models.keyedvectors.Vocab at 0x7f28a1aeaa20>,\n",
              " 'iii': <gensim.models.keyedvectors.Vocab at 0x7f28a1aeaa58>,\n",
              " 'secretion': <gensim.models.keyedvectors.Vocab at 0x7f28a1aeaa90>,\n",
              " 'ehec': <gensim.models.keyedvectors.Vocab at 0x7f28a1aeaac8>,\n",
              " 'enterohemorrhagic': <gensim.models.keyedvectors.Vocab at 0x7f28a1aeab00>,\n",
              " 'four': <gensim.models.keyedvectors.Vocab at 0x7f28a1aeab38>,\n",
              " 'mtb': <gensim.models.keyedvectors.Vocab at 0x7f28a1aeab70>,\n",
              " 'annexin1': <gensim.models.keyedvectors.Vocab at 0x7f28a1aeaba8>,\n",
              " 'deficient': <gensim.models.keyedvectors.Vocab at 0x7f28a1aeabe0>,\n",
              " 'mice': <gensim.models.keyedvectors.Vocab at 0x7f28a1aeac18>,\n",
              " 'st1': <gensim.models.keyedvectors.Vocab at 0x7f28a1aeac50>,\n",
              " 'lytic': <gensim.models.keyedvectors.Vocab at 0x7f28a1aeac88>,\n",
              " 'serovar': <gensim.models.keyedvectors.Vocab at 0x7f28a1aeacc0>,\n",
              " 'typhimurium': <gensim.models.keyedvectors.Vocab at 0x7f28a1aeacf8>,\n",
              " 'bacteriophage': <gensim.models.keyedvectors.Vocab at 0x7f28a1aead30>,\n",
              " 'faecal': <gensim.models.keyedvectors.Vocab at 0x7f28a1aead68>,\n",
              " 'material': <gensim.models.keyedvectors.Vocab at 0x7f28a1aeada0>,\n",
              " 'hadar': <gensim.models.keyedvectors.Vocab at 0x7f28a1aeadd8>,\n",
              " 'intracloacal': <gensim.models.keyedvectors.Vocab at 0x7f28a1aeae10>,\n",
              " 'visceral': <gensim.models.keyedvectors.Vocab at 0x7f28a1aeae48>,\n",
              " 'organs': <gensim.models.keyedvectors.Vocab at 0x7f28a1aeae80>,\n",
              " 'chicks': <gensim.models.keyedvectors.Vocab at 0x7f28a1aeaeb8>,\n",
              " 'caecal': <gensim.models.keyedvectors.Vocab at 0x7f28a1aeaef0>,\n",
              " 'wall': <gensim.models.keyedvectors.Vocab at 0x7f28a1aeaf28>,\n",
              " 'content': <gensim.models.keyedvectors.Vocab at 0x7f28a1aeaf60>,\n",
              " 'chlamydia': <gensim.models.keyedvectors.Vocab at 0x7f28a1aeaf98>,\n",
              " 'trachomatis': <gensim.models.keyedvectors.Vocab at 0x7f28a1aeafd0>,\n",
              " 'mccoy': <gensim.models.keyedvectors.Vocab at 0x7f28a1aed048>,\n",
              " 'psittaci': <gensim.models.keyedvectors.Vocab at 0x7f28a1aed080>,\n",
              " 'cycloheximide': <gensim.models.keyedvectors.Vocab at 0x7f28a1aed0b8>,\n",
              " 'treated': <gensim.models.keyedvectors.Vocab at 0x7f28a1aed0f0>,\n",
              " 'trachoma': <gensim.models.keyedvectors.Vocab at 0x7f28a1aed128>,\n",
              " 'serotypes': <gensim.models.keyedvectors.Vocab at 0x7f28a1aed160>,\n",
              " 'oculogenital': <gensim.models.keyedvectors.Vocab at 0x7f28a1aed198>,\n",
              " 'core': <gensim.models.keyedvectors.Vocab at 0x7f28a1aed1d0>,\n",
              " 'mesenteorides': <gensim.models.keyedvectors.Vocab at 0x7f28a1aed208>,\n",
              " 'industrial': <gensim.models.keyedvectors.Vocab at 0x7f28a1aed240>,\n",
              " 'alcalignes': <gensim.models.keyedvectors.Vocab at 0x7f28a1aed278>,\n",
              " 'roqueforti': <gensim.models.keyedvectors.Vocab at 0x7f28a1aed2b0>,\n",
              " 'antrum': <gensim.models.keyedvectors.Vocab at 0x7f28a1aed2e8>,\n",
              " 'gonorrhoeae': <gensim.models.keyedvectors.Vocab at 0x7f28a1aed320>,\n",
              " 'caribbean': <gensim.models.keyedvectors.Vocab at 0x7f28a1aed358>,\n",
              " 'south': <gensim.models.keyedvectors.Vocab at 0x7f28a1aed390>,\n",
              " 'american': <gensim.models.keyedvectors.Vocab at 0x7f28a1aed3c8>,\n",
              " 'americas': <gensim.models.keyedvectors.Vocab at 0x7f28a1aed400>,\n",
              " 'susceptibility': <gensim.models.keyedvectors.Vocab at 0x7f28a1aed438>,\n",
              " 'ciprofloxacin': <gensim.models.keyedvectors.Vocab at 0x7f28a1aed470>,\n",
              " 'azithromycin': <gensim.models.keyedvectors.Vocab at 0x7f28a1aed4a8>,\n",
              " 'spectinomycin': <gensim.models.keyedvectors.Vocab at 0x7f28a1aed4e0>,\n",
              " 'fischeri': <gensim.models.keyedvectors.Vocab at 0x7f28a1aed518>,\n",
              " 'euprymna': <gensim.models.keyedvectors.Vocab at 0x7f28a1aed550>,\n",
              " 'scolopes': <gensim.models.keyedvectors.Vocab at 0x7f28a1aed588>,\n",
              " 'hawaiian': <gensim.models.keyedvectors.Vocab at 0x7f28a1aed5c0>,\n",
              " 'bobtail': <gensim.models.keyedvectors.Vocab at 0x7f28a1aed5f8>,\n",
              " 'squid': <gensim.models.keyedvectors.Vocab at 0x7f28a1aed630>,\n",
              " 'light': <gensim.models.keyedvectors.Vocab at 0x7f28a1aed668>,\n",
              " 'organ': <gensim.models.keyedvectors.Vocab at 0x7f28a1aed6a0>,\n",
              " 'bioluminescent': <gensim.models.keyedvectors.Vocab at 0x7f28a1aed6d8>,\n",
              " 'exclusive': <gensim.models.keyedvectors.Vocab at 0x7f28a1aed710>,\n",
              " 'symbiotic': <gensim.models.keyedvectors.Vocab at 0x7f28a1aed748>,\n",
              " 'relationship': <gensim.models.keyedvectors.Vocab at 0x7f28a1aed780>,\n",
              " 'juvenile': <gensim.models.keyedvectors.Vocab at 0x7f28a1aed7b8>,\n",
              " 'yersinia': <gensim.models.keyedvectors.Vocab at 0x7f28a1aed7f0>,\n",
              " 'pestis': <gensim.models.keyedvectors.Vocab at 0x7f28a1aed828>,\n",
              " 'enterocolitica': <gensim.models.keyedvectors.Vocab at 0x7f28a1aed860>,\n",
              " 'wild': <gensim.models.keyedvectors.Vocab at 0x7f28a1aed898>,\n",
              " 'kim5': <gensim.models.keyedvectors.Vocab at 0x7f28a1aed8d0>,\n",
              " 'b697': <gensim.models.keyedvectors.Vocab at 0x7f28a1aed908>,\n",
              " 'transaminase': <gensim.models.keyedvectors.Vocab at 0x7f28a1aed940>,\n",
              " 'hydroxy': <gensim.models.keyedvectors.Vocab at 0x7f28a1aed978>,\n",
              " 'dehydrogenase': <gensim.models.keyedvectors.Vocab at 0x7f28a1aed9b0>,\n",
              " 'b1157': <gensim.models.keyedvectors.Vocab at 0x7f28a1aed9e8>,\n",
              " 'activities': <gensim.models.keyedvectors.Vocab at 0x7f28a1aeda20>,\n",
              " 'galactomyces': <gensim.models.keyedvectors.Vocab at 0x7f28a1aeda58>,\n",
              " 'moist': <gensim.models.keyedvectors.Vocab at 0x7f28a1aeda90>,\n",
              " 'bloomy': <gensim.models.keyedvectors.Vocab at 0x7f28a1aedac8>,\n",
              " 'proteobacteria': <gensim.models.keyedvectors.Vocab at 0x7f28a1aedb00>,\n",
              " 'dry': <gensim.models.keyedvectors.Vocab at 0x7f28a1aedb38>,\n",
              " 'natural': <gensim.models.keyedvectors.Vocab at 0x7f28a1aedb70>,\n",
              " 'cystic': <gensim.models.keyedvectors.Vocab at 0x7f28a1aedba8>,\n",
              " 'fibrosis': <gensim.models.keyedvectors.Vocab at 0x7f28a1aedbe0>,\n",
              " 'units': <gensim.models.keyedvectors.Vocab at 0x7f28a1aedc18>,\n",
              " 'paediatric': <gensim.models.keyedvectors.Vocab at 0x7f28a1aedc50>,\n",
              " 'productive': <gensim.models.keyedvectors.Vocab at 0x7f28a1aedc88>,\n",
              " 'australia': <gensim.models.keyedvectors.Vocab at 0x7f28a1aedcc0>,\n",
              " 'brisbane': <gensim.models.keyedvectors.Vocab at 0x7f28a1aedcf8>,\n",
              " 'multiresistance': <gensim.models.keyedvectors.Vocab at 0x7f28a1aedd30>,\n",
              " 'monocyte': <gensim.models.keyedvectors.Vocab at 0x7f28a1aedd68>,\n",
              " 'thp': <gensim.models.keyedvectors.Vocab at 0x7f28a1aedda0>,\n",
              " 'tissues': <gensim.models.keyedvectors.Vocab at 0x7f28a1aeddd8>,\n",
              " 'invasion': <gensim.models.keyedvectors.Vocab at 0x7f28a1aede10>,\n",
              " 'monocytes': <gensim.models.keyedvectors.Vocab at 0x7f28a1aede48>,\n",
              " 'ssp': <gensim.models.keyedvectors.Vocab at 0x7f28a1aede80>,\n",
              " 'anaerobic': <gensim.models.keyedvectors.Vocab at 0x7f28a1aedeb8>,\n",
              " 'decarboxylase': <gensim.models.keyedvectors.Vocab at 0x7f28a1aedef0>,\n",
              " 'b1506': <gensim.models.keyedvectors.Vocab at 0x7f28a1aedf28>,\n",
              " 'nugget': <gensim.models.keyedvectors.Vocab at 0x7f28a1aedf60>,\n",
              " 'processing': <gensim.models.keyedvectors.Vocab at 0x7f28a1aedf98>,\n",
              " 'lpm': <gensim.models.keyedvectors.Vocab at 0x7f28a1aedfd0>,\n",
              " 'palcam': <gensim.models.keyedvectors.Vocab at 0x7f28a1af0048>,\n",
              " 'hcla': <gensim.models.keyedvectors.Vocab at 0x7f28a1af0080>,\n",
              " 'casera': <gensim.models.keyedvectors.Vocab at 0x7f28a1af00b8>,\n",
              " 'scimudin': <gensim.models.keyedvectors.Vocab at 0x7f28a1af00f0>,\n",
              " 'gorgonzola': <gensim.models.keyedvectors.Vocab at 0x7f28a1af0128>,\n",
              " 'taleggio': <gensim.models.keyedvectors.Vocab at 0x7f28a1af0160>,\n",
              " 'towards': <gensim.models.keyedvectors.Vocab at 0x7f28a1af0198>,\n",
              " 'leucine': <gensim.models.keyedvectors.Vocab at 0x7f28a1af01d0>,\n",
              " 'west': <gensim.models.keyedvectors.Vocab at 0x7f28a1af0208>,\n",
              " 'africa': <gensim.models.keyedvectors.Vocab at 0x7f28a1af0240>,\n",
              " 'togo': <gensim.models.keyedvectors.Vocab at 0x7f28a1af0278>,\n",
              " 'vibro': <gensim.models.keyedvectors.Vocab at 0x7f28a1af02b0>,\n",
              " 'carriers': <gensim.models.keyedvectors.Vocab at 0x7f28a1af02e8>,\n",
              " 'gastroenteritis': <gensim.models.keyedvectors.Vocab at 0x7f28a1af0320>,\n",
              " 'gm17': <gensim.models.keyedvectors.Vocab at 0x7f28a1af0358>,\n",
              " 'lm17': <gensim.models.keyedvectors.Vocab at 0x7f28a1af0390>,\n",
              " 'bile': <gensim.models.keyedvectors.Vocab at 0x7f28a1af03c8>,\n",
              " 'sensitive': <gensim.models.keyedvectors.Vocab at 0x7f28a1af0400>,\n",
              " 'resistances': <gensim.models.keyedvectors.Vocab at 0x7f28a1af0438>,\n",
              " 'lactococci': <gensim.models.keyedvectors.Vocab at 0x7f28a1af0470>,\n",
              " 'cocci': <gensim.models.keyedvectors.Vocab at 0x7f28a1af04a8>,\n",
              " 'micrococcus': <gensim.models.keyedvectors.Vocab at 0x7f28a1af04e0>,\n",
              " 'spotted': <gensim.models.keyedvectors.Vocab at 0x7f28a1af0518>,\n",
              " 'fever': <gensim.models.keyedvectors.Vocab at 0x7f28a1af0550>,\n",
              " 'group': <gensim.models.keyedvectors.Vocab at 0x7f28a1af0588>,\n",
              " 'tick': <gensim.models.keyedvectors.Vocab at 0x7f28a1af05c0>,\n",
              " 'rickettsia': <gensim.models.keyedvectors.Vocab at 0x7f28a1af05f8>,\n",
              " 'israel': <gensim.models.keyedvectors.Vocab at 0x7f28a1af0630>,\n",
              " 'rickettsiae': <gensim.models.keyedvectors.Vocab at 0x7f28a1af0668>,\n",
              " 'suffering': <gensim.models.keyedvectors.Vocab at 0x7f28a1af06a0>,\n",
              " 'rickettsial': <gensim.models.keyedvectors.Vocab at 0x7f28a1af06d8>,\n",
              " 'different': <gensim.models.keyedvectors.Vocab at 0x7f28a1af0710>,\n",
              " 'degrees': <gensim.models.keyedvectors.Vocab at 0x7f28a1af0748>,\n",
              " 'severity': <gensim.models.keyedvectors.Vocab at 0x7f28a1af0780>,\n",
              " 'ticks': <gensim.models.keyedvectors.Vocab at 0x7f28a1af07b8>,\n",
              " 'klebsiella': <gensim.models.keyedvectors.Vocab at 0x7f28a1af07f0>,\n",
              " 'pneumonia': <gensim.models.keyedvectors.Vocab at 0x7f28a1af0828>,\n",
              " '38': <gensim.models.keyedvectors.Vocab at 0x7f28a1af0860>,\n",
              " 'year': <gensim.models.keyedvectors.Vocab at 0x7f28a1af0898>,\n",
              " 'old': <gensim.models.keyedvectors.Vocab at 0x7f28a1af08d0>,\n",
              " 'recurrent': <gensim.models.keyedvectors.Vocab at 0x7f28a1af0908>,\n",
              " 'aborter': <gensim.models.keyedvectors.Vocab at 0x7f28a1af0940>,\n",
              " 'placenta': <gensim.models.keyedvectors.Vocab at 0x7f28a1af0978>,\n",
              " 'ara': <gensim.models.keyedvectors.Vocab at 0x7f28a1af09b0>,\n",
              " 'pseudomallei': <gensim.models.keyedvectors.Vocab at 0x7f28a1af09e8>,\n",
              " 'nonvirulent': <gensim.models.keyedvectors.Vocab at 0x7f28a1af0a20>,\n",
              " 'sera': <gensim.models.keyedvectors.Vocab at 0x7f28a1af0a58>,\n",
              " 'spectra': <gensim.models.keyedvectors.Vocab at 0x7f28a1af0a90>,\n",
              " 'infections': <gensim.models.keyedvectors.Vocab at 0x7f28a1af0ac8>,\n",
              " 'melioidosis': <gensim.models.keyedvectors.Vocab at 0x7f28a1af0b00>,\n",
              " 'hyperimmune': <gensim.models.keyedvectors.Vocab at 0x7f28a1af0b38>,\n",
              " 'mouse': <gensim.models.keyedvectors.Vocab at 0x7f28a1af0b70>,\n",
              " 'microtiter': <gensim.models.keyedvectors.Vocab at 0x7f28a1af0ba8>,\n",
              " 'plates': <gensim.models.keyedvectors.Vocab at 0x7f28a1af0be0>,\n",
              " 'formaggio': <gensim.models.keyedvectors.Vocab at 0x7f28a1af0c18>,\n",
              " 'di': <gensim.models.keyedvectors.Vocab at 0x7f28a1af0c50>,\n",
              " 'fossa': <gensim.models.keyedvectors.Vocab at 0x7f28a1af0c88>,\n",
              " 'glacincolaus': <gensim.models.keyedvectors.Vocab at 0x7f28a1af0cc0>,\n",
              " 'luteus': <gensim.models.keyedvectors.Vocab at 0x7f28a1af0cf8>,\n",
              " 'white': <gensim.models.keyedvectors.Vocab at 0x7f28a1af0d30>,\n",
              " 'mould': <gensim.models.keyedvectors.Vocab at 0x7f28a1af0d68>,\n",
              " 'rind': <gensim.models.keyedvectors.Vocab at 0x7f28a1af0da0>,\n",
              " 'vitulinus': <gensim.models.keyedvectors.Vocab at 0x7f28a1af0dd8>,\n",
              " 'valtellina': <gensim.models.keyedvectors.Vocab at 0x7f28a1af0e10>,\n",
              " 'obligate': <gensim.models.keyedvectors.Vocab at 0x7f28a1af0e48>,\n",
              " 'intracellular': <gensim.models.keyedvectors.Vocab at 0x7f28a1af0e80>,\n",
              " 'aerosol': <gensim.models.keyedvectors.Vocab at 0x7f28a1af0eb8>,\n",
              " 'aerosolized': <gensim.models.keyedvectors.Vocab at 0x7f28a1af0ef0>,\n",
              " 'macrophages': <gensim.models.keyedvectors.Vocab at 0x7f28a1af0f28>,\n",
              " 'monkeys': <gensim.models.keyedvectors.Vocab at 0x7f28a1af0f60>,\n",
              " 'chronic': <gensim.models.keyedvectors.Vocab at 0x7f28a1af0f98>,\n",
              " 'gastritis': <gensim.models.keyedvectors.Vocab at 0x7f28a1af0fd0>,\n",
              " 'gastric': <gensim.models.keyedvectors.Vocab at 0x7f28a1af4048>,\n",
              " 'cancer': <gensim.models.keyedvectors.Vocab at 0x7f28a1af4080>,\n",
              " 'yoghurt': <gensim.models.keyedvectors.Vocab at 0x7f28a1af40b8>,\n",
              " 'koumiss': <gensim.models.keyedvectors.Vocab at 0x7f28a1af40f0>,\n",
              " 'durans': <gensim.models.keyedvectors.Vocab at 0x7f28a1af4128>,\n",
              " 'hz28': <gensim.models.keyedvectors.Vocab at 0x7f28a1af4160>,\n",
              " 'quinolone': <gensim.models.keyedvectors.Vocab at 0x7f28a1af4198>,\n",
              " 'leprosy': <gensim.models.keyedvectors.Vocab at 0x7f28a1af41d0>,\n",
              " '993': <gensim.models.keyedvectors.Vocab at 0x7f28a1af4208>,\n",
              " 'drug': <gensim.models.keyedvectors.Vocab at 0x7f28a1af4240>,\n",
              " 'gouda': <gensim.models.keyedvectors.Vocab at 0x7f28a1af4278>,\n",
              " 'hard': <gensim.models.keyedvectors.Vocab at 0x7f28a1af42b0>,\n",
              " 'cheddar': <gensim.models.keyedvectors.Vocab at 0x7f28a1af42e8>,\n",
              " 'swiss': <gensim.models.keyedvectors.Vocab at 0x7f28a1af4320>,\n",
              " 'maasdammer': <gensim.models.keyedvectors.Vocab at 0x7f28a1af4358>,\n",
              " 'yoghurts': <gensim.models.keyedvectors.Vocab at 0x7f28a1af4390>,\n",
              " 'bifidobacterium': <gensim.models.keyedvectors.Vocab at 0x7f28a1af43c8>,\n",
              " 'variabilis': <gensim.models.keyedvectors.Vocab at 0x7f28a1af4400>,\n",
              " 'gobbeen': <gensim.models.keyedvectors.Vocab at 0x7f28a1af4438>,\n",
              " 'yellow': <gensim.models.keyedvectors.Vocab at 0x7f28a1af4470>,\n",
              " 'pigment': <gensim.models.keyedvectors.Vocab at 0x7f28a1af44a8>,\n",
              " 'thuringiensis': <gensim.models.keyedvectors.Vocab at 0x7f28a1af44e0>,\n",
              " 'sotto': <gensim.models.keyedvectors.Vocab at 0x7f28a1af4518>,\n",
              " 'okinawa': <gensim.models.keyedvectors.Vocab at 0x7f28a1af4550>,\n",
              " 'mosquitocidal': <gensim.models.keyedvectors.Vocab at 0x7f28a1af4588>,\n",
              " '96': <gensim.models.keyedvectors.Vocab at 0x7f28a1af45c0>,\n",
              " 'ok': <gensim.models.keyedvectors.Vocab at 0x7f28a1af45f8>,\n",
              " '85': <gensim.models.keyedvectors.Vocab at 0x7f28a1af4630>,\n",
              " 'culex': <gensim.models.keyedvectors.Vocab at 0x7f28a1af4668>,\n",
              " 'pipiens': <gensim.models.keyedvectors.Vocab at 0x7f28a1af46a0>,\n",
              " 'molestus': <gensim.models.keyedvectors.Vocab at 0x7f28a1af46d8>,\n",
              " 'vacuum': <gensim.models.keyedvectors.Vocab at 0x7f28a1af4710>,\n",
              " 'packed': <gensim.models.keyedvectors.Vocab at 0x7f28a1af4748>,\n",
              " 'salmon': <gensim.models.keyedvectors.Vocab at 0x7f28a1af4780>,\n",
              " 'agglomerans': <gensim.models.keyedvectors.Vocab at 0x7f28a1af47b8>,\n",
              " 'liquefaciens': <gensim.models.keyedvectors.Vocab at 0x7f28a1af47f0>,\n",
              " 'rahnella': <gensim.models.keyedvectors.Vocab at 0x7f28a1af4828>,\n",
              " 'aquatilis': <gensim.models.keyedvectors.Vocab at 0x7f28a1af4860>,\n",
              " 'aeromonas': <gensim.models.keyedvectors.Vocab at 0x7f28a1af4898>,\n",
              " 'hydrophila': <gensim.models.keyedvectors.Vocab at 0x7f28a1af48d0>,\n",
              " 'piscicola': <gensim.models.keyedvectors.Vocab at 0x7f28a1af4908>,\n",
              " 'microflora': <gensim.models.keyedvectors.Vocab at 0x7f28a1af4940>,\n",
              " 'fontina': <gensim.models.keyedvectors.Vocab at 0x7f28a1af4978>,\n",
              " 'acidipiscis': <gensim.models.keyedvectors.Vocab at 0x7f28a1af49b0>,\n",
              " 'greek': <gensim.models.keyedvectors.Vocab at 0x7f28a1af49e8>,\n",
              " 'microaerophilic': <gensim.models.keyedvectors.Vocab at 0x7f28a1af4a20>,\n",
              " 'enteroccocci': <gensim.models.keyedvectors.Vocab at 0x7f28a1af4a58>,\n",
              " 'enterococci': <gensim.models.keyedvectors.Vocab at 0x7f28a1af4a90>,\n",
              " 'north': <gensim.models.keyedvectors.Vocab at 0x7f28a1af4ac8>,\n",
              " 'america': <gensim.models.keyedvectors.Vocab at 0x7f28a1af4b00>,\n",
              " 'europe': <gensim.models.keyedvectors.Vocab at 0x7f28a1af4b38>,\n",
              " 'polar': <gensim.models.keyedvectors.Vocab at 0x7f28a1af4b70>,\n",
              " 'seawater': <gensim.models.keyedvectors.Vocab at 0x7f28a1af4ba8>,\n",
              " 'cold': <gensim.models.keyedvectors.Vocab at 0x7f28a1af4be0>,\n",
              " 'adapted': <gensim.models.keyedvectors.Vocab at 0x7f28a1af4c18>,\n",
              " 'paulo': <gensim.models.keyedvectors.Vocab at 0x7f28a1af4c50>,\n",
              " 'brazil': <gensim.models.keyedvectors.Vocab at 0x7f28a1af4c88>,\n",
              " 'fleas': <gensim.models.keyedvectors.Vocab at 0x7f28a1af4cc0>,\n",
              " 'felis': <gensim.models.keyedvectors.Vocab at 0x7f28a1af4cf8>,\n",
              " 'bellii': <gensim.models.keyedvectors.Vocab at 0x7f28a1af4d30>,\n",
              " 'rickettsii': <gensim.models.keyedvectors.Vocab at 0x7f28a1af4d68>,\n",
              " 'dog': <gensim.models.keyedvectors.Vocab at 0x7f28a1af4da0>,\n",
              " 'horse': <gensim.models.keyedvectors.Vocab at 0x7f28a1af4dd8>,\n",
              " 'opossum': <gensim.models.keyedvectors.Vocab at 0x7f28a1af4e10>,\n",
              " 'parkeri': <gensim.models.keyedvectors.Vocab at 0x7f28a1af4e48>,\n",
              " 'micrococci': <gensim.models.keyedvectors.Vocab at 0x7f28a1af4e80>,\n",
              " 'corynebacteria': <gensim.models.keyedvectors.Vocab at 0x7f28a1af4eb8>,\n",
              " 'groups': <gensim.models.keyedvectors.Vocab at 0x7f28a1af4ef0>,\n",
              " 'shirota': <gensim.models.keyedvectors.Vocab at 0x7f28a1af4f28>,\n",
              " 'probiotic': <gensim.models.keyedvectors.Vocab at 0x7f28a1af4f60>,\n",
              " 'beverage': <gensim.models.keyedvectors.Vocab at 0x7f28a1af4f98>,\n",
              " 'bottle': <gensim.models.keyedvectors.Vocab at 0x7f28a1af4fd0>,\n",
              " 'probiotics': <gensim.models.keyedvectors.Vocab at 0x7f28a1af8048>,\n",
              " 'lcs': <gensim.models.keyedvectors.Vocab at 0x7f28a1af8080>,\n",
              " 'bifidobacteria': <gensim.models.keyedvectors.Vocab at 0x7f28a1af80b8>,\n",
              " 'stools': <gensim.models.keyedvectors.Vocab at 0x7f28a1af80f0>,\n",
              " 'active': <gensim.models.keyedvectors.Vocab at 0x7f28a1af8128>,\n",
              " 'thermotolerant': <gensim.models.keyedvectors.Vocab at 0x7f28a1af8160>,\n",
              " 'younger': <gensim.models.keyedvectors.Vocab at 0x7f28a1af8198>,\n",
              " 'ones': <gensim.models.keyedvectors.Vocab at 0x7f28a1af81d0>,\n",
              " 'southern': <gensim.models.keyedvectors.Vocab at 0x7f28a1af8208>,\n",
              " 'cloacal': <gensim.models.keyedvectors.Vocab at 0x7f28a1af8240>,\n",
              " 'swabs': <gensim.models.keyedvectors.Vocab at 0x7f28a1af8278>,\n",
              " 'partridges': <gensim.models.keyedvectors.Vocab at 0x7f28a1af82b0>,\n",
              " 'game': <gensim.models.keyedvectors.Vocab at 0x7f28a1af82e8>,\n",
              " 'birds': <gensim.models.keyedvectors.Vocab at 0x7f28a1af8320>,\n",
              " 'species': <gensim.models.keyedvectors.Vocab at 0x7f28a1af8358>,\n",
              " 'commercially': <gensim.models.keyedvectors.Vocab at 0x7f28a1af8390>,\n",
              " ...}"
            ]
          },
          "metadata": {
            "tags": []
          },
          "execution_count": 42
        }
      ]
    },
    {
      "cell_type": "code",
      "metadata": {
        "id": "BpWyTNpiLdWW",
        "colab_type": "code",
        "colab": {}
      },
      "source": [
        "#Creating the input data\n",
        "\n",
        "#Initializing the X matrix with zeros\n",
        "X_train= np.zeros((len(train),50)) \n",
        "\n",
        "for i in range(len(train)):\n",
        "    #Create a list of word embeddings of the words in each sentence\n",
        "    emb = [model.wv[w] for w in train[i]] \n",
        "    #Take the mean of the word embeddings of the words in a sentence \n",
        "    #because length of the sentences varies and the dimension of the \n",
        "    #features will increase with the increase in the number of \n",
        "    #words in the sentence\n",
        "    X_train[i] = np.mean(emb, axis=0) "
      ],
      "execution_count": null,
      "outputs": []
    },
    {
      "cell_type": "code",
      "metadata": {
        "id": "Ym5kQu_NLdWa",
        "colab_type": "code",
        "colab": {}
      },
      "source": [
        "#Creating the input data\n",
        "\n",
        "#Initializing the X matrix with zeros\n",
        "X_test= np.zeros((len(test),50)) \n",
        "\n",
        "for i in range(len(test)):\n",
        "    #Create a list of word embeddings of the words in each sentence\n",
        "    emb = [model.wv[w] for w in test[i]] \n",
        "    #Take the mean of the word embeddings of the words in a sentence \n",
        "    #because length of the sentences varies and the dimension of the \n",
        "    #features will increase with the increase in the number of \n",
        "    #words in the sentence\n",
        "    X_test[i] = np.mean(emb, axis=0) "
      ],
      "execution_count": null,
      "outputs": []
    },
    {
      "cell_type": "code",
      "metadata": {
        "id": "1gTtGnTlLdWc",
        "colab_type": "code",
        "colab": {}
      },
      "source": [
        "from sklearn import preprocessing\n",
        "le = preprocessing.LabelEncoder()\n",
        "Y_train = le.fit_transform(train_relation)"
      ],
      "execution_count": null,
      "outputs": []
    },
    {
      "cell_type": "code",
      "metadata": {
        "id": "Jp8vh9uiLdWe",
        "colab_type": "code",
        "colab": {}
      },
      "source": [
        "Y_test = le.fit_transform(valid_relation)"
      ],
      "execution_count": null,
      "outputs": []
    },
    {
      "cell_type": "markdown",
      "metadata": {
        "id": "0c7iKCIJLdWh",
        "colab_type": "text"
      },
      "source": [
        "### Train model"
      ]
    },
    {
      "cell_type": "code",
      "metadata": {
        "id": "HmjHFALXLdWh",
        "colab_type": "code",
        "colab": {}
      },
      "source": [
        "from sklearn.ensemble import RandomForestClassifier\n",
        "from sklearn.metrics import accuracy_score, confusion_matrix"
      ],
      "execution_count": null,
      "outputs": []
    },
    {
      "cell_type": "code",
      "metadata": {
        "id": "yX4HM1GbLdWj",
        "colab_type": "code",
        "colab": {}
      },
      "source": [
        "model = RandomForestClassifier(n_estimators=30,criterion='entropy')"
      ],
      "execution_count": null,
      "outputs": []
    },
    {
      "cell_type": "code",
      "metadata": {
        "id": "aVafyuaqLdWm",
        "colab_type": "code",
        "colab": {},
        "outputId": "c53f3e3e-4e54-4a87-820e-07f8bcf6c744"
      },
      "source": [
        "model.fit(X_train,Y_train)"
      ],
      "execution_count": null,
      "outputs": [
        {
          "output_type": "execute_result",
          "data": {
            "text/plain": [
              "RandomForestClassifier(bootstrap=True, class_weight=None, criterion='entropy',\n",
              "                       max_depth=None, max_features='auto', max_leaf_nodes=None,\n",
              "                       min_impurity_decrease=0.0, min_impurity_split=None,\n",
              "                       min_samples_leaf=1, min_samples_split=2,\n",
              "                       min_weight_fraction_leaf=0.0, n_estimators=30,\n",
              "                       n_jobs=None, oob_score=False, random_state=None,\n",
              "                       verbose=0, warm_start=False)"
            ]
          },
          "metadata": {
            "tags": []
          },
          "execution_count": 41
        }
      ]
    },
    {
      "cell_type": "code",
      "metadata": {
        "id": "mWBn3HOJLdWo",
        "colab_type": "code",
        "colab": {}
      },
      "source": [
        "pre = model.predict(X_test)"
      ],
      "execution_count": null,
      "outputs": []
    },
    {
      "cell_type": "code",
      "metadata": {
        "id": "Nl9xn_EBLdWq",
        "colab_type": "code",
        "colab": {},
        "outputId": "c65601d3-adc9-4f83-b923-13fa827c059e"
      },
      "source": [
        "accuracy_score(Y_test,pre)"
      ],
      "execution_count": null,
      "outputs": [
        {
          "output_type": "execute_result",
          "data": {
            "text/plain": [
              "0.7911184210526315"
            ]
          },
          "metadata": {
            "tags": []
          },
          "execution_count": 43
        }
      ]
    },
    {
      "cell_type": "code",
      "metadata": {
        "id": "5Lw3dU-ZLdWt",
        "colab_type": "code",
        "colab": {},
        "outputId": "2a83f235-a9f7-45b3-e7c1-64e4f0d4733f"
      },
      "source": [
        "confusion_matrix(Y_test,pre)"
      ],
      "execution_count": null,
      "outputs": [
        {
          "output_type": "execute_result",
          "data": {
            "text/plain": [
              "array([[ 59,  95],\n",
              "       [ 32, 422]])"
            ]
          },
          "metadata": {
            "tags": []
          },
          "execution_count": 44
        }
      ]
    },
    {
      "cell_type": "code",
      "metadata": {
        "id": "u63l8haNLdWu",
        "colab_type": "code",
        "colab": {}
      },
      "source": [
        "model = RandomForestClassifier(n_estimators=30,criterion='entropy',class_weight='balanced')"
      ],
      "execution_count": null,
      "outputs": []
    },
    {
      "cell_type": "code",
      "metadata": {
        "id": "xu1xCeqgLdWy",
        "colab_type": "code",
        "colab": {},
        "outputId": "1ce7eee5-2948-4912-d1fe-8fee621927f2"
      },
      "source": [
        "model.fit(X_train,Y_train)\n",
        "pre = model.predict(X_test)\n",
        "print(accuracy_score(Y_test,pre))\n",
        "print(confusion_matrix(Y_test,pre))"
      ],
      "execution_count": null,
      "outputs": [
        {
          "output_type": "stream",
          "text": [
            "0.7648026315789473\n",
            "[[ 42 112]\n",
            " [ 31 423]]\n"
          ],
          "name": "stdout"
        }
      ]
    },
    {
      "cell_type": "code",
      "metadata": {
        "id": "_rrgDxXOLdW0",
        "colab_type": "code",
        "colab": {}
      },
      "source": [
        "from sklearn.model_selection import KFold, train_test_split\n",
        "import lightgbm as lgb"
      ],
      "execution_count": null,
      "outputs": []
    },
    {
      "cell_type": "code",
      "metadata": {
        "id": "ZXbE-iB3LdW1",
        "colab_type": "code",
        "colab": {}
      },
      "source": [
        "n_fold = 10\n",
        "folds = KFold(n_splits=n_fold,shuffle=True,random_state = 42)"
      ],
      "execution_count": null,
      "outputs": []
    },
    {
      "cell_type": "code",
      "metadata": {
        "id": "_IDjOhe8LdW3",
        "colab_type": "code",
        "colab": {}
      },
      "source": [
        "#model Parameters\n",
        "params = {'num_leaves': 41,\n",
        "         'min_data_in_leaf': 10, \n",
        "         'objective':'binary',\n",
        "         'max_depth': -1,\n",
        "         'learning_rate': 0.002,\n",
        "         \"boosting\": \"gbdt\",\n",
        "         \"feature_fraction\": 0.91,\n",
        "         \"bagging_freq\": 1,\n",
        "         \"bagging_fraction\": 0.91,\n",
        "         \"bagging_seed\": 42,\n",
        "         \"metric\": 'mae',\n",
        "         \"lambda_l1\": 0.1,\n",
        "         \"verbosity\": -1,\n",
        "         \"nthread\": -1,\n",
        "         \"random_state\": 42}"
      ],
      "execution_count": null,
      "outputs": []
    },
    {
      "cell_type": "code",
      "metadata": {
        "id": "errD6XbKLdW5",
        "colab_type": "code",
        "colab": {}
      },
      "source": [
        "oof = np.zeros(len(X_train))\n",
        "predictions = np.zeros(len(X_test))"
      ],
      "execution_count": null,
      "outputs": []
    },
    {
      "cell_type": "code",
      "metadata": {
        "id": "mwQINCN2LdW-",
        "colab_type": "code",
        "colab": {},
        "outputId": "492d4bea-0b7b-4faf-afca-c1a2c610df41"
      },
      "source": [
        "#run model\n",
        "for fold_,(trn_idx,val_idx) in enumerate(folds.split(X_train,Y_train)):\n",
        "    strLog = \"fold {}\".format(fold_)\n",
        "    print(strLog)\n",
        "    \n",
        "    X_tr,X_val ,Y_tr,Y_val= train_test_split(X_train,Y_train,test_size=0.1)\n",
        "    model = lgb.LGBMClassifier(**params,n_estimators = 1000,n_jobs = -1)\n",
        "    model.fit(X_tr,Y_tr,\n",
        "             eval_set=[(X_tr,Y_tr),(X_val,Y_val)],\n",
        "             eval_metric = 'accuracy',\n",
        "             verbose = 500,\n",
        "             early_stopping_rounds=100)\n",
        "                        \n",
        "    #predictions\n",
        "    "
      ],
      "execution_count": null,
      "outputs": [
        {
          "output_type": "stream",
          "text": [
            "fold 0\n",
            "Training until validation scores don't improve for 100 rounds.\n",
            "[500]\ttraining's l1: 0.210574\tvalid_1's l1: 0.292979\n",
            "[1000]\ttraining's l1: 0.115887\tvalid_1's l1: 0.237917\n",
            "Did not meet early stopping. Best iteration is:\n",
            "[1000]\ttraining's l1: 0.115887\tvalid_1's l1: 0.237917\n",
            "fold 1\n",
            "Training until validation scores don't improve for 100 rounds.\n",
            "[500]\ttraining's l1: 0.208289\tvalid_1's l1: 0.30717\n",
            "[1000]\ttraining's l1: 0.114326\tvalid_1's l1: 0.24843\n",
            "Did not meet early stopping. Best iteration is:\n",
            "[1000]\ttraining's l1: 0.114326\tvalid_1's l1: 0.24843\n",
            "fold 2\n",
            "Training until validation scores don't improve for 100 rounds.\n",
            "[500]\ttraining's l1: 0.214386\tvalid_1's l1: 0.2619\n",
            "[1000]\ttraining's l1: 0.117975\tvalid_1's l1: 0.201465\n",
            "Did not meet early stopping. Best iteration is:\n",
            "[1000]\ttraining's l1: 0.117975\tvalid_1's l1: 0.201465\n",
            "fold 3\n",
            "Training until validation scores don't improve for 100 rounds.\n",
            "[500]\ttraining's l1: 0.209023\tvalid_1's l1: 0.289516\n",
            "[1000]\ttraining's l1: 0.115111\tvalid_1's l1: 0.226597\n",
            "Did not meet early stopping. Best iteration is:\n",
            "[1000]\ttraining's l1: 0.115111\tvalid_1's l1: 0.226597\n",
            "fold 4\n",
            "Training until validation scores don't improve for 100 rounds.\n",
            "[500]\ttraining's l1: 0.210658\tvalid_1's l1: 0.285081\n",
            "[1000]\ttraining's l1: 0.115867\tvalid_1's l1: 0.222119\n",
            "Did not meet early stopping. Best iteration is:\n",
            "[1000]\ttraining's l1: 0.115867\tvalid_1's l1: 0.222119\n",
            "fold 5\n",
            "Training until validation scores don't improve for 100 rounds.\n",
            "[500]\ttraining's l1: 0.212527\tvalid_1's l1: 0.27279\n",
            "[1000]\ttraining's l1: 0.116663\tvalid_1's l1: 0.213321\n",
            "Did not meet early stopping. Best iteration is:\n",
            "[1000]\ttraining's l1: 0.116663\tvalid_1's l1: 0.213321\n",
            "fold 6\n",
            "Training until validation scores don't improve for 100 rounds.\n",
            "[500]\ttraining's l1: 0.213147\tvalid_1's l1: 0.260376\n",
            "[1000]\ttraining's l1: 0.117508\tvalid_1's l1: 0.199124\n",
            "Did not meet early stopping. Best iteration is:\n",
            "[1000]\ttraining's l1: 0.117508\tvalid_1's l1: 0.199124\n",
            "fold 7\n",
            "Training until validation scores don't improve for 100 rounds.\n",
            "[500]\ttraining's l1: 0.209987\tvalid_1's l1: 0.282867\n",
            "[1000]\ttraining's l1: 0.115619\tvalid_1's l1: 0.221456\n",
            "Did not meet early stopping. Best iteration is:\n",
            "[1000]\ttraining's l1: 0.115619\tvalid_1's l1: 0.221456\n",
            "fold 8\n",
            "Training until validation scores don't improve for 100 rounds.\n",
            "[500]\ttraining's l1: 0.211601\tvalid_1's l1: 0.275871\n",
            "[1000]\ttraining's l1: 0.116562\tvalid_1's l1: 0.218602\n",
            "Did not meet early stopping. Best iteration is:\n",
            "[1000]\ttraining's l1: 0.116562\tvalid_1's l1: 0.218602\n",
            "fold 9\n",
            "Training until validation scores don't improve for 100 rounds.\n",
            "[500]\ttraining's l1: 0.214649\tvalid_1's l1: 0.259398\n",
            "[1000]\ttraining's l1: 0.118077\tvalid_1's l1: 0.202828\n",
            "Did not meet early stopping. Best iteration is:\n",
            "[1000]\ttraining's l1: 0.118077\tvalid_1's l1: 0.202828\n"
          ],
          "name": "stdout"
        }
      ]
    },
    {
      "cell_type": "code",
      "metadata": {
        "id": "avCcqCFwLdXA",
        "colab_type": "code",
        "colab": {}
      },
      "source": [
        "predictions = model.predict(X_test, \n",
        "                                 num_iteration=model.best_iteration_)"
      ],
      "execution_count": null,
      "outputs": []
    },
    {
      "cell_type": "code",
      "metadata": {
        "id": "6FOk3QmvLdXC",
        "colab_type": "code",
        "colab": {},
        "outputId": "0a471d98-cb6a-422d-ec9a-277d03ef011b"
      },
      "source": [
        "predictions"
      ],
      "execution_count": null,
      "outputs": [
        {
          "output_type": "execute_result",
          "data": {
            "text/plain": [
              "array([1, 1, 1, 1, 0, 0, 1, 1, 1, 1, 1, 1, 1, 0, 1, 1, 1, 1, 1, 1, 1, 1,\n",
              "       1, 1, 1, 1, 1, 1, 1, 1, 1, 1, 1, 1, 1, 1, 1, 1, 1, 1, 1, 1, 1, 1,\n",
              "       0, 1, 1, 1, 1, 1, 1, 1, 1, 1, 1, 1, 1, 1, 1, 0, 0, 1, 0, 0, 1, 1,\n",
              "       0, 0, 0, 1, 1, 1, 1, 1, 1, 1, 1, 1, 1, 1, 1, 1, 1, 1, 1, 1, 1, 1,\n",
              "       1, 1, 1, 1, 1, 1, 1, 1, 1, 1, 0, 1, 1, 1, 1, 1, 1, 1, 1, 1, 1, 1,\n",
              "       1, 1, 1, 0, 1, 0, 0, 0, 0, 0, 0, 0, 1, 0, 1, 0, 0, 1, 0, 1, 1, 1,\n",
              "       1, 1, 0, 0, 1, 0, 1, 1, 1, 0, 1, 1, 1, 1, 1, 1, 1, 1, 1, 1, 1, 1,\n",
              "       1, 1, 1, 1, 1, 1, 1, 1, 1, 1, 0, 1, 0, 1, 1, 0, 1, 1, 0, 1, 1, 1,\n",
              "       1, 1, 1, 1, 1, 1, 1, 1, 1, 1, 1, 1, 1, 1, 1, 1, 1, 1, 1, 1, 1, 1,\n",
              "       1, 1, 1, 1, 1, 1, 1, 1, 1, 1, 1, 1, 1, 1, 1, 1, 1, 1, 1, 1, 1, 1,\n",
              "       1, 1, 1, 1, 1, 1, 1, 1, 1, 1, 1, 1, 1, 0, 0, 0, 0, 1, 1, 1, 0, 0,\n",
              "       1, 0, 1, 1, 1, 1, 1, 1, 1, 1, 1, 1, 1, 1, 1, 1, 1, 1, 1, 1, 1, 1,\n",
              "       1, 1, 1, 1, 1, 1, 1, 1, 1, 1, 1, 1, 1, 1, 1, 1, 1, 1, 1, 1, 1, 1,\n",
              "       1, 1, 1, 1, 1, 1, 1, 1, 1, 1, 1, 1, 1, 1, 1, 1, 1, 1, 1, 1, 1, 1,\n",
              "       1, 1, 1, 1, 1, 1, 1, 1, 1, 1, 1, 1, 1, 1, 1, 1, 1, 1, 1, 1, 1, 1,\n",
              "       1, 1, 1, 1, 1, 1, 1, 1, 0, 1, 1, 1, 1, 1, 1, 1, 1, 1, 1, 1, 1, 1,\n",
              "       1, 1, 1, 1, 1, 1, 1, 1, 1, 1, 1, 1, 1, 1, 1, 1, 1, 1, 1, 1, 0, 1,\n",
              "       1, 1, 1, 1, 1, 1, 1, 1, 1, 1, 1, 1, 1, 1, 1, 1, 1, 1, 1, 1, 1, 1,\n",
              "       1, 1, 1, 1, 1, 1, 1, 1, 1, 1, 1, 1, 1, 1, 1, 0, 1, 0, 1, 0, 1, 1,\n",
              "       1, 1, 0, 1, 1, 1, 1, 1, 1, 1, 1, 1, 1, 1, 1, 1, 1, 1, 1, 1, 1, 1,\n",
              "       1, 1, 1, 1, 1, 1, 1, 1, 1, 1, 1, 1, 1, 1, 1, 1, 1, 1, 1, 1, 1, 1,\n",
              "       1, 1, 1, 1, 1, 1, 1, 1, 1, 1, 1, 1, 0, 1, 1, 1, 1, 1, 1, 1, 1, 1,\n",
              "       1, 1, 1, 0, 1, 1, 1, 0, 1, 1, 1, 1, 1, 1, 1, 1, 1, 1, 1, 1, 1, 1,\n",
              "       1, 1, 1, 1, 0, 1, 1, 0, 0, 0, 0, 0, 1, 1, 1, 1, 1, 1, 1, 1, 1, 1,\n",
              "       1, 1, 0, 1, 1, 1, 1, 1, 1, 1, 1, 1, 1, 0, 0, 1, 1, 1, 1, 1, 1, 1,\n",
              "       1, 1, 1, 1, 1, 1, 1, 1, 1, 1, 1, 1, 1, 1, 1, 1, 1, 1, 1, 1, 1, 1,\n",
              "       1, 1, 1, 1, 1, 1, 1, 1, 1, 1, 0, 1, 1, 1, 1, 1, 1, 1, 1, 1, 1, 1,\n",
              "       1, 1, 1, 1, 1, 0, 1, 0, 1, 1, 1, 0, 0, 0])"
            ]
          },
          "metadata": {
            "tags": []
          },
          "execution_count": 54
        }
      ]
    },
    {
      "cell_type": "code",
      "metadata": {
        "id": "thmRpMl7LdXE",
        "colab_type": "code",
        "colab": {},
        "outputId": "7158eabc-a4f4-4268-cbf1-86bb0ea03743"
      },
      "source": [
        "accuracy_score(Y_test,predictions)"
      ],
      "execution_count": null,
      "outputs": [
        {
          "output_type": "execute_result",
          "data": {
            "text/plain": [
              "0.7944078947368421"
            ]
          },
          "metadata": {
            "tags": []
          },
          "execution_count": 55
        }
      ]
    },
    {
      "cell_type": "code",
      "metadata": {
        "id": "bSX4B6K6LdXG",
        "colab_type": "code",
        "colab": {},
        "outputId": "5a3acd6e-cdbd-4120-89a1-a8d7a4e223a2"
      },
      "source": [
        "from sklearn.metrics import confusion_matrix\n",
        "confusion_matrix(Y_test,predictions)"
      ],
      "execution_count": null,
      "outputs": [
        {
          "output_type": "execute_result",
          "data": {
            "text/plain": [
              "array([[ 46, 108],\n",
              "       [ 17, 437]])"
            ]
          },
          "metadata": {
            "tags": []
          },
          "execution_count": 56
        }
      ]
    },
    {
      "cell_type": "code",
      "metadata": {
        "id": "cxgSXYRvLdXI",
        "colab_type": "code",
        "colab": {},
        "outputId": "b78d1121-8486-438b-d8ba-6e8e734a7e41"
      },
      "source": [
        "np.sum(Y_test)"
      ],
      "execution_count": null,
      "outputs": [
        {
          "output_type": "execute_result",
          "data": {
            "text/plain": [
              "454"
            ]
          },
          "metadata": {
            "tags": []
          },
          "execution_count": 61
        }
      ]
    },
    {
      "cell_type": "markdown",
      "metadata": {
        "id": "O_1n31T9LdXT",
        "colab_type": "text"
      },
      "source": [
        "###### Corpus for Word1, word2 separately\n"
      ]
    },
    {
      "cell_type": "code",
      "metadata": {
        "id": "UP4EkMklLdXT",
        "colab_type": "code",
        "colab": {}
      },
      "source": [
        "train_words1 = train_a2['word_1'].tolist()\n",
        "train_words2 = train_a2['word_2'].tolist()\n",
        "\n",
        "valid_words1 = valid_a2['word_1'].tolist()\n",
        "valid_words2 = valid_a2['word_2'].tolist()"
      ],
      "execution_count": null,
      "outputs": []
    },
    {
      "cell_type": "code",
      "metadata": {
        "id": "cjub2GvgLdXV",
        "colab_type": "code",
        "colab": {}
      },
      "source": [
        "corpus = []\n",
        "for i in range(len(train_words1)):\n",
        "    corpus.append(word_tokenize(train_words1[i]))\n",
        "for i in range(len(train_words2)):\n",
        "    corpus.append(word_tokenize(train_words2[i]))\n",
        "for i in range(len(valid_words1)):\n",
        "    corpus.append(word_tokenize(valid_words1[i]))\n",
        "for i in range(len(valid_words2)):\n",
        "    corpus.append(word_tokenize(valid_words2[i]))"
      ],
      "execution_count": null,
      "outputs": []
    },
    {
      "cell_type": "code",
      "metadata": {
        "id": "ueXQSniiLdXX",
        "colab_type": "code",
        "colab": {}
      },
      "source": [
        "train=[]\n",
        "for i in range(len(train_words1)):\n",
        "    train.append(word_tokenize(train_words1[i]))\n",
        "for i in range(len(train_words2)):\n",
        "    train.append(word_tokenize(train_words2[i]))\n",
        "\n",
        "test = []\n",
        "for i in range(len(valid_words1)):\n",
        "    test.append(word_tokenize(valid_words1[i]))\n",
        "for i in range(len(valid_words2)):\n",
        "    test.append(word_tokenize(valid_words2[i]))"
      ],
      "execution_count": null,
      "outputs": []
    },
    {
      "cell_type": "code",
      "metadata": {
        "id": "b1cT4xDMLdXY",
        "colab_type": "code",
        "colab": {}
      },
      "source": [
        "#Creating word embedding for the words. Embedding dimension = 100\n",
        "model = Word2Vec(corpus, size=50, window=2, min_count=1)"
      ],
      "execution_count": null,
      "outputs": []
    },
    {
      "cell_type": "code",
      "metadata": {
        "id": "u9gK-yQRLdXa",
        "colab_type": "code",
        "colab": {}
      },
      "source": [
        "#Creating the input data\n",
        "\n",
        "#Initializing the X matrix with zeros\n",
        "X1_train= np.zeros((len(train_words1),50)) \n",
        "\n",
        "for i in range(len(train_words1)):\n",
        "    words = word_tokenize(train_words1[i])\n",
        "    emb = [model.wv[w] for w in words] \n",
        "    X1_train[i] = np.mean(emb, axis=0) \n",
        "    \n",
        "    \n",
        "X2_train= np.zeros((len(train_words2),50)) \n",
        "\n",
        "for i in range(len(train_words2)):\n",
        "    words = word_tokenize(train_words2[i])\n",
        "    emb = [model.wv[w] for w in words] \n",
        "    X2_train[i] = np.mean(emb, axis=0) "
      ],
      "execution_count": null,
      "outputs": []
    },
    {
      "cell_type": "code",
      "metadata": {
        "id": "iLxJm2JLLdXb",
        "colab_type": "code",
        "colab": {}
      },
      "source": [
        "X_train = np.concatenate((X1_train,X2_train),axis=1)"
      ],
      "execution_count": null,
      "outputs": []
    },
    {
      "cell_type": "code",
      "metadata": {
        "id": "wPgtePpXLdXd",
        "colab_type": "code",
        "colab": {},
        "outputId": "b0db13e7-0253-4771-a22e-e3f244b1df2c"
      },
      "source": [
        "X_train.shape"
      ],
      "execution_count": null,
      "outputs": [
        {
          "output_type": "execute_result",
          "data": {
            "text/plain": [
              "(1127, 100)"
            ]
          },
          "metadata": {
            "tags": []
          },
          "execution_count": 63
        }
      ]
    },
    {
      "cell_type": "code",
      "metadata": {
        "id": "Xa2b7dQCLdXk",
        "colab_type": "code",
        "colab": {}
      },
      "source": [
        "X1_test= np.zeros((len(valid_words1),50)) \n",
        "\n",
        "for i in range(len(valid_words1)):\n",
        "    words = word_tokenize(valid_words1[i])\n",
        "    emb = [model.wv[w] for w in words] \n",
        "    X1_test[i] = np.mean(emb, axis=0) \n",
        "    \n",
        "    \n",
        "X2_test= np.zeros((len(valid_words2),50)) \n",
        "\n",
        "for i in range(len(valid_words2)):\n",
        "    words = word_tokenize(valid_words2[i])\n",
        "    emb = [model.wv[w] for w in words] \n",
        "    X2_test[i] = np.mean(emb, axis=0) \n",
        "    \n",
        "X_test = np.concatenate((X1_test,X2_test),axis=1)"
      ],
      "execution_count": null,
      "outputs": []
    },
    {
      "cell_type": "code",
      "metadata": {
        "id": "vgTnqP_gLdXm",
        "colab_type": "code",
        "colab": {},
        "outputId": "303a02e4-5bb9-41d4-b563-72ac9369cf5d"
      },
      "source": [
        "X_test.shape"
      ],
      "execution_count": null,
      "outputs": [
        {
          "output_type": "execute_result",
          "data": {
            "text/plain": [
              "(608, 100)"
            ]
          },
          "metadata": {
            "tags": []
          },
          "execution_count": 65
        }
      ]
    },
    {
      "cell_type": "code",
      "metadata": {
        "id": "p3guM98MLdXo",
        "colab_type": "code",
        "colab": {},
        "outputId": "5347fe59-a29e-4498-97e1-19b518dd91f4"
      },
      "source": [
        "model = RandomForestClassifier(n_estimators=30,criterion='entropy',class_weight='balanced')\n",
        "model.fit(X_train,Y_train)"
      ],
      "execution_count": null,
      "outputs": [
        {
          "output_type": "execute_result",
          "data": {
            "text/plain": [
              "RandomForestClassifier(bootstrap=True, class_weight='balanced',\n",
              "                       criterion='entropy', max_depth=None, max_features='auto',\n",
              "                       max_leaf_nodes=None, min_impurity_decrease=0.0,\n",
              "                       min_impurity_split=None, min_samples_leaf=1,\n",
              "                       min_samples_split=2, min_weight_fraction_leaf=0.0,\n",
              "                       n_estimators=30, n_jobs=None, oob_score=False,\n",
              "                       random_state=None, verbose=0, warm_start=False)"
            ]
          },
          "metadata": {
            "tags": []
          },
          "execution_count": 67
        }
      ]
    },
    {
      "cell_type": "code",
      "metadata": {
        "id": "PerY33Y0LdXp",
        "colab_type": "code",
        "colab": {}
      },
      "source": [
        "pre = model.predict(X_test)"
      ],
      "execution_count": null,
      "outputs": []
    },
    {
      "cell_type": "code",
      "metadata": {
        "id": "v4qmB88GLdXr",
        "colab_type": "code",
        "colab": {},
        "outputId": "058fa19d-5135-4394-f451-2475d4ac60ca"
      },
      "source": [
        "accuracy_score(Y_test,pre)"
      ],
      "execution_count": null,
      "outputs": [
        {
          "output_type": "execute_result",
          "data": {
            "text/plain": [
              "0.8305921052631579"
            ]
          },
          "metadata": {
            "tags": []
          },
          "execution_count": 69
        }
      ]
    },
    {
      "cell_type": "code",
      "metadata": {
        "id": "NK2OMyquLdXs",
        "colab_type": "code",
        "colab": {},
        "outputId": "0e04b5eb-afd9-4a61-b986-8d1a603e3550"
      },
      "source": [
        "confusion_matrix(Y_test,pre)"
      ],
      "execution_count": null,
      "outputs": [
        {
          "output_type": "execute_result",
          "data": {
            "text/plain": [
              "array([[ 58,  96],\n",
              "       [  7, 447]])"
            ]
          },
          "metadata": {
            "tags": []
          },
          "execution_count": 70
        }
      ]
    },
    {
      "cell_type": "code",
      "metadata": {
        "id": "B3Dn_39uLdXu",
        "colab_type": "code",
        "colab": {},
        "outputId": "eec6f3fc-6c6d-4c42-a9df-7732737cfc60"
      },
      "source": [
        "n_fold = 10\n",
        "folds = KFold(n_splits=n_fold,shuffle=True,random_state = 42)\n",
        "\n",
        "oof = np.zeros(len(X_train))\n",
        "predictions = np.zeros(len(X_test))\n",
        "\n",
        "#run model\n",
        "for fold_,(trn_idx,val_idx) in enumerate(folds.split(X_train,Y_train)):\n",
        "    strLog = \"fold {}\".format(fold_)\n",
        "    print(strLog)\n",
        "    \n",
        "    X_tr,X_val ,Y_tr,Y_val= train_test_split(X_train,Y_train,test_size=0.1)\n",
        "    model = lgb.LGBMClassifier(**params,n_estimators = 1000,n_jobs = -1)\n",
        "    model.fit(X_tr,Y_tr,\n",
        "             eval_set=[(X_tr,Y_tr),(X_val,Y_val)],\n",
        "             eval_metric = 'accuracy',\n",
        "             verbose = 500,\n",
        "             early_stopping_rounds=100)\n",
        "                        \n",
        "    #predictions\n",
        "    "
      ],
      "execution_count": null,
      "outputs": [
        {
          "output_type": "stream",
          "text": [
            "fold 0\n",
            "Training until validation scores don't improve for 100 rounds.\n",
            "[500]\ttraining's l1: 0.184556\tvalid_1's l1: 0.240666\n",
            "[1000]\ttraining's l1: 0.0887449\tvalid_1's l1: 0.163821\n",
            "Did not meet early stopping. Best iteration is:\n",
            "[1000]\ttraining's l1: 0.0887449\tvalid_1's l1: 0.163821\n",
            "fold 1\n",
            "Training until validation scores don't improve for 100 rounds.\n",
            "[500]\ttraining's l1: 0.185478\tvalid_1's l1: 0.229211\n",
            "[1000]\ttraining's l1: 0.0895416\tvalid_1's l1: 0.15017\n",
            "Did not meet early stopping. Best iteration is:\n",
            "[1000]\ttraining's l1: 0.0895416\tvalid_1's l1: 0.15017\n",
            "fold 2\n",
            "Training until validation scores don't improve for 100 rounds.\n",
            "[500]\ttraining's l1: 0.187687\tvalid_1's l1: 0.21848\n",
            "[1000]\ttraining's l1: 0.09082\tvalid_1's l1: 0.145285\n",
            "Did not meet early stopping. Best iteration is:\n",
            "[1000]\ttraining's l1: 0.09082\tvalid_1's l1: 0.145285\n",
            "fold 3\n",
            "Training until validation scores don't improve for 100 rounds.\n",
            "[500]\ttraining's l1: 0.183653\tvalid_1's l1: 0.232397\n",
            "[1000]\ttraining's l1: 0.0891804\tvalid_1's l1: 0.146942\n",
            "Did not meet early stopping. Best iteration is:\n",
            "[1000]\ttraining's l1: 0.0891804\tvalid_1's l1: 0.146942\n",
            "fold 4\n",
            "Training until validation scores don't improve for 100 rounds.\n",
            "[500]\ttraining's l1: 0.189094\tvalid_1's l1: 0.199735\n",
            "[1000]\ttraining's l1: 0.0916487\tvalid_1's l1: 0.123638\n",
            "Did not meet early stopping. Best iteration is:\n",
            "[1000]\ttraining's l1: 0.0916487\tvalid_1's l1: 0.123638\n",
            "fold 5\n",
            "Training until validation scores don't improve for 100 rounds.\n",
            "[500]\ttraining's l1: 0.185497\tvalid_1's l1: 0.223092\n",
            "[1000]\ttraining's l1: 0.0898445\tvalid_1's l1: 0.15093\n",
            "Did not meet early stopping. Best iteration is:\n",
            "[1000]\ttraining's l1: 0.0898445\tvalid_1's l1: 0.15093\n",
            "fold 6\n",
            "Training until validation scores don't improve for 100 rounds.\n",
            "[500]\ttraining's l1: 0.183376\tvalid_1's l1: 0.228795\n",
            "[1000]\ttraining's l1: 0.0886095\tvalid_1's l1: 0.145844\n",
            "Did not meet early stopping. Best iteration is:\n",
            "[1000]\ttraining's l1: 0.0886095\tvalid_1's l1: 0.145844\n",
            "fold 7\n",
            "Training until validation scores don't improve for 100 rounds.\n",
            "[500]\ttraining's l1: 0.186809\tvalid_1's l1: 0.221606\n",
            "[1000]\ttraining's l1: 0.0903129\tvalid_1's l1: 0.146716\n",
            "Did not meet early stopping. Best iteration is:\n",
            "[1000]\ttraining's l1: 0.0903129\tvalid_1's l1: 0.146716\n",
            "fold 8\n",
            "Training until validation scores don't improve for 100 rounds.\n",
            "[500]\ttraining's l1: 0.185762\tvalid_1's l1: 0.228733\n",
            "[1000]\ttraining's l1: 0.0903799\tvalid_1's l1: 0.148552\n",
            "Did not meet early stopping. Best iteration is:\n",
            "[1000]\ttraining's l1: 0.0903799\tvalid_1's l1: 0.148552\n",
            "fold 9\n",
            "Training until validation scores don't improve for 100 rounds.\n",
            "[500]\ttraining's l1: 0.182446\tvalid_1's l1: 0.237015\n",
            "[1000]\ttraining's l1: 0.0880891\tvalid_1's l1: 0.157018\n",
            "Did not meet early stopping. Best iteration is:\n",
            "[1000]\ttraining's l1: 0.0880891\tvalid_1's l1: 0.157018\n"
          ],
          "name": "stdout"
        }
      ]
    },
    {
      "cell_type": "code",
      "metadata": {
        "id": "X6oyeIXRLdXw",
        "colab_type": "code",
        "colab": {}
      },
      "source": [
        "predictions = model.predict(X_test, \n",
        "                                 num_iteration=model.best_iteration_)"
      ],
      "execution_count": null,
      "outputs": []
    },
    {
      "cell_type": "code",
      "metadata": {
        "id": "be6Z8Y-9LdXx",
        "colab_type": "code",
        "colab": {},
        "outputId": "d0caa2bb-01f7-42eb-f5d6-e3cc104fdbff"
      },
      "source": [
        "confusion_matrix(Y_test,predictions)"
      ],
      "execution_count": null,
      "outputs": [
        {
          "output_type": "execute_result",
          "data": {
            "text/plain": [
              "array([[ 70,  84],\n",
              "       [ 30, 424]])"
            ]
          },
          "metadata": {
            "tags": []
          },
          "execution_count": 73
        }
      ]
    },
    {
      "cell_type": "code",
      "metadata": {
        "id": "gDIMJPsQLdXz",
        "colab_type": "code",
        "colab": {},
        "outputId": "607e975f-fc10-448f-a56d-003af7329b95"
      },
      "source": [
        "accuracy_score(Y_test,predictions)"
      ],
      "execution_count": null,
      "outputs": [
        {
          "output_type": "execute_result",
          "data": {
            "text/plain": [
              "0.8125"
            ]
          },
          "metadata": {
            "tags": []
          },
          "execution_count": 74
        }
      ]
    },
    {
      "cell_type": "markdown",
      "metadata": {
        "id": "QMnJ4iaLLdX0",
        "colab_type": "text"
      },
      "source": [
        "### FASTTEXT"
      ]
    },
    {
      "cell_type": "code",
      "metadata": {
        "id": "8JVVUFFgLdX0",
        "colab_type": "code",
        "colab": {}
      },
      "source": [
        "from gensim.models.wrappers import FastText"
      ],
      "execution_count": null,
      "outputs": []
    },
    {
      "cell_type": "code",
      "metadata": {
        "id": "rcgY8X8KLdX2",
        "colab_type": "code",
        "colab": {}
      },
      "source": [
        "model = FastText.load_fasttext_format('wiki.en')"
      ],
      "execution_count": null,
      "outputs": []
    },
    {
      "cell_type": "code",
      "metadata": {
        "id": "SF7J656ILdX5",
        "colab_type": "code",
        "colab": {}
      },
      "source": [
        "model.wv.vocab"
      ],
      "execution_count": null,
      "outputs": []
    },
    {
      "cell_type": "code",
      "metadata": {
        "id": "jzAH38dbLdX6",
        "colab_type": "code",
        "colab": {},
        "outputId": "7ac24f25-91c3-47ab-e072-432e094ff6fb"
      },
      "source": [
        "model.wv['Yersinia'].shape"
      ],
      "execution_count": null,
      "outputs": [
        {
          "output_type": "execute_result",
          "data": {
            "text/plain": [
              "(300,)"
            ]
          },
          "metadata": {
            "tags": []
          },
          "execution_count": 39
        }
      ]
    },
    {
      "cell_type": "code",
      "metadata": {
        "id": "Au-uf1RLLdX7",
        "colab_type": "code",
        "colab": {}
      },
      "source": [
        "#Preprocessing - removing unwanted characters, tokenization, stop-word removal\n",
        "def clean_data(txts):\n",
        "    x = re.sub(\"[^a-zA-Z]\", \" \",txts) \n",
        "    x = x.lower().split()                             \n",
        "    stops = set(stopwords.words(\"english\"))                  \n",
        "    words = [w for w in x if not w in stops] \n",
        "    \n",
        "    return( \" \".join(words))"
      ],
      "execution_count": null,
      "outputs": []
    },
    {
      "cell_type": "code",
      "metadata": {
        "id": "dUFvnhftLdX9",
        "colab_type": "code",
        "colab": {}
      },
      "source": [
        "train_a2['word_1'] = train_a2['word_1'].apply(lambda x: clean_data(x))\n",
        "train_a2['word_2'] = train_a2['word_2'].apply(lambda x: clean_data(x))\n",
        "\n"
      ],
      "execution_count": null,
      "outputs": []
    },
    {
      "cell_type": "code",
      "metadata": {
        "id": "NZl98o_BLdX-",
        "colab_type": "code",
        "colab": {}
      },
      "source": [
        "\n",
        "valid_a2['word_1'] = valid_a2['word_1'].apply(lambda x: clean_data(x))\n",
        "valid_a2['word_2'] = valid_a2['word_2'].apply(lambda x: clean_data(x))\n",
        "\n"
      ],
      "execution_count": null,
      "outputs": []
    },
    {
      "cell_type": "code",
      "metadata": {
        "id": "nHTNnpD4LdX_",
        "colab_type": "code",
        "colab": {}
      },
      "source": [
        "train_words1 = train_a2['word_1'].tolist()\n",
        "train_words2 = train_a2['word_2'].tolist()\n",
        "\n",
        "valid_words1 = valid_a2['word_1'].tolist()\n",
        "valid_words2 = valid_a2['word_2'].tolist()\n",
        "\n",
        "train=[]\n",
        "for i in range(len(train_words1)):\n",
        "    train.append(word_tokenize(train_words1[i]))\n",
        "for i in range(len(train_words2)):\n",
        "    train.append(word_tokenize(train_words2[i]))\n",
        "\n",
        "test = []\n",
        "for i in range(len(valid_words1)):\n",
        "    test.append(word_tokenize(valid_words1[i]))\n",
        "for i in range(len(valid_words2)):\n",
        "    test.append(word_tokenize(valid_words2[i]))"
      ],
      "execution_count": null,
      "outputs": []
    },
    {
      "cell_type": "code",
      "metadata": {
        "id": "MnXx1ODcLdYB",
        "colab_type": "code",
        "colab": {},
        "outputId": "8c3817ef-5a64-4278-88b3-4e9fb67954b8"
      },
      "source": [
        "#Creating the input data\n",
        "\n",
        "#Initializing the X matrix with zeros\n",
        "X1_train= np.zeros((len(train_words1),300)) \n",
        "\n",
        "for i in range(len(train_words1)):\n",
        "    words = word_tokenize(train_words1[i])\n",
        "    emb = [model.wv[w] for w in words] \n",
        "    X1_train[i] = np.mean(emb, axis=0) \n",
        "    \n",
        "    \n",
        "X2_train= np.zeros((len(train_words2),300)) \n",
        "\n",
        "for i in range(len(train_words2)):\n",
        "    words = word_tokenize(train_words2[i])\n",
        "    emb = [model.wv[w] for w in words] \n",
        "    X2_train[i] = np.mean(emb, axis=0) \n",
        "X_train = np.concatenate((X1_train,X2_train),axis=1)"
      ],
      "execution_count": null,
      "outputs": [
        {
          "output_type": "stream",
          "text": [
            "/home/paperspace/.local/lib/python3.6/site-packages/numpy/core/fromnumeric.py:3118: RuntimeWarning: Mean of empty slice.\n",
            "  out=out, **kwargs)\n",
            "/home/paperspace/.local/lib/python3.6/site-packages/numpy/core/_methods.py:85: RuntimeWarning: invalid value encountered in double_scalars\n",
            "  ret = ret.dtype.type(ret / rcount)\n"
          ],
          "name": "stderr"
        }
      ]
    },
    {
      "cell_type": "code",
      "metadata": {
        "id": "ZRZMRA5BLdYE",
        "colab_type": "code",
        "colab": {}
      },
      "source": [
        "X1_test= np.zeros((len(valid_words1),300)) \n",
        "\n",
        "for i in range(len(valid_words1)):\n",
        "    words = word_tokenize(valid_words1[i])\n",
        "    emb = [model.wv[w] for w in words] \n",
        "    X1_test[i] = np.mean(emb, axis=0) \n",
        "    \n",
        "    \n",
        "X2_test= np.zeros((len(valid_words2),300)) \n",
        "\n",
        "for i in range(len(valid_words2)):\n",
        "    words = word_tokenize(valid_words2[i])\n",
        "    emb = [model.wv[w] for w in words] \n",
        "    X2_test[i] = np.mean(emb, axis=0) \n",
        "    \n",
        "X_test = np.concatenate((X1_test,X2_test),axis=1)"
      ],
      "execution_count": null,
      "outputs": []
    },
    {
      "cell_type": "code",
      "metadata": {
        "id": "ltT5YrUKLdYF",
        "colab_type": "code",
        "colab": {}
      },
      "source": [
        "from sklearn import preprocessing\n",
        "le = preprocessing.LabelEncoder()\n",
        "Y_train = le.fit_transform(train_relation)"
      ],
      "execution_count": null,
      "outputs": []
    },
    {
      "cell_type": "code",
      "metadata": {
        "id": "cWCdPRQiLdYG",
        "colab_type": "code",
        "colab": {}
      },
      "source": [
        "Y_test = le.fit_transform(valid_relation)"
      ],
      "execution_count": null,
      "outputs": []
    },
    {
      "cell_type": "code",
      "metadata": {
        "id": "7bPKAeFmLdYI",
        "colab_type": "code",
        "colab": {}
      },
      "source": [
        "df_train= pd.DataFrame(X_train)\n",
        "df_test= pd.DataFrame(X_test)"
      ],
      "execution_count": null,
      "outputs": []
    },
    {
      "cell_type": "code",
      "metadata": {
        "id": "rkXqk8BVLdYJ",
        "colab_type": "code",
        "colab": {}
      },
      "source": [
        "df_train.fillna(value=0,inplace=True)\n",
        "df_test.fillna(value=0,inplace=True)"
      ],
      "execution_count": null,
      "outputs": []
    },
    {
      "cell_type": "code",
      "metadata": {
        "id": "GvEzpbmdLdYM",
        "colab_type": "code",
        "colab": {},
        "outputId": "d33302d1-b9fb-4ee7-c82a-d1f1619041c1"
      },
      "source": [
        "X_valid = np.array(df_test)\n",
        "X_train = np.array(df_train)\n",
        "X_test.shape\n",
        "X_train.shape"
      ],
      "execution_count": null,
      "outputs": [
        {
          "output_type": "execute_result",
          "data": {
            "text/plain": [
              "(1127, 600)"
            ]
          },
          "metadata": {
            "tags": []
          },
          "execution_count": 83
        }
      ]
    },
    {
      "cell_type": "code",
      "metadata": {
        "id": "5YJmahF3LdYO",
        "colab_type": "code",
        "colab": {}
      },
      "source": [
        "from sklearn.ensemble import RandomForestClassifier\n",
        "from sklearn.metrics import accuracy_score,confusion_matrix"
      ],
      "execution_count": null,
      "outputs": []
    },
    {
      "cell_type": "code",
      "metadata": {
        "id": "eKKI9GaALdYP",
        "colab_type": "code",
        "colab": {},
        "outputId": "e29b6867-7572-4ca9-db2d-79b7cf1c7cdc"
      },
      "source": [
        "model_class_1 = RandomForestClassifier(n_estimators=30,criterion='entropy',class_weight='balanced')\n",
        "model_class_1.fit(X_train,Y_train)\n",
        "pre = model_class_1.predict(X_test)\n",
        "print(accuracy_score(Y_test,pre))\n",
        "print(confusion_matrix(Y_test,pre))"
      ],
      "execution_count": null,
      "outputs": [
        {
          "output_type": "stream",
          "text": [
            "0.9391447368421053\n",
            "[[120  34]\n",
            " [  3 451]]\n"
          ],
          "name": "stdout"
        }
      ]
    },
    {
      "cell_type": "code",
      "metadata": {
        "id": "Yv394S1RLdYS",
        "colab_type": "code",
        "colab": {}
      },
      "source": [
        "from sklearn.externals import joblib\n",
        "\n",
        "joblib.dump(model_class_1, 'RF_entropy.sav')\n",
        "joblib_model= joblib.load('RF_entropy.sav')\n"
      ],
      "execution_count": null,
      "outputs": []
    },
    {
      "cell_type": "code",
      "metadata": {
        "id": "d-Ft64hDLdYV",
        "colab_type": "code",
        "colab": {},
        "outputId": "8eaf357c-b13a-4a3f-eade-a9f986663cc9"
      },
      "source": [
        "pre = joblib_model.predict(X_valid)\n",
        "print(accuracy_score(Y_test,pre))\n",
        "print(confusion_matrix(Y_test,pre))"
      ],
      "execution_count": null,
      "outputs": [
        {
          "output_type": "stream",
          "text": [
            "0.9391447368421053\n",
            "[[120  34]\n",
            " [  3 451]]\n"
          ],
          "name": "stdout"
        }
      ]
    },
    {
      "cell_type": "code",
      "metadata": {
        "id": "xQN6wkZrLdYX",
        "colab_type": "code",
        "colab": {},
        "outputId": "a88c1aaf-5dfc-47d5-9fa1-5114bf4b2a95"
      },
      "source": [
        "model_class_2 = RandomForestClassifier(n_estimators=30,criterion='gini',class_weight='balanced')\n",
        "model_class_2.fit(X_train,Y_train)\n",
        "pre = model_class_2.predict(X_test)\n",
        "print(accuracy_score(Y_test,pre))\n",
        "print(confusion_matrix(Y_test,pre))"
      ],
      "execution_count": null,
      "outputs": [
        {
          "output_type": "stream",
          "text": [
            "0.9226973684210527\n",
            "[[112  42]\n",
            " [  5 449]]\n"
          ],
          "name": "stdout"
        }
      ]
    },
    {
      "cell_type": "code",
      "metadata": {
        "id": "dballcQhLdYZ",
        "colab_type": "code",
        "colab": {},
        "outputId": "1836907b-8dfa-43e1-f8a2-d5659c5073cd"
      },
      "source": [
        "\n",
        "joblib.dump(model_class_1, 'RF_gini.sav')\n"
      ],
      "execution_count": null,
      "outputs": [
        {
          "output_type": "execute_result",
          "data": {
            "text/plain": [
              "['RF_gini.sav']"
            ]
          },
          "metadata": {
            "tags": []
          },
          "execution_count": 57
        }
      ]
    },
    {
      "cell_type": "code",
      "metadata": {
        "id": "05w0iEQCLdYb",
        "colab_type": "code",
        "colab": {},
        "outputId": "494716b4-63de-4495-cc7f-3579ae2766bb"
      },
      "source": [
        "n_fold = 10\n",
        "folds = KFold(n_splits=n_fold,shuffle=True,random_state = 42)\n",
        "\n",
        "oof = np.zeros(len(X_train))\n",
        "predictions = np.zeros(len(X_test))\n",
        "\n",
        "#run model\n",
        "for fold_,(trn_idx,val_idx) in enumerate(folds.split(X_train,Y_train)):\n",
        "    strLog = \"fold {}\".format(fold_)\n",
        "    print(strLog)\n",
        "    \n",
        "    X_tr,X_val ,Y_tr,Y_val= train_test_split(X_train,Y_train,test_size=0.1)\n",
        "    model = lgb.LGBMClassifier(**params,n_estimators = 1000,n_jobs = -1)\n",
        "    model.fit(X_tr,Y_tr,\n",
        "             eval_set=[(X_tr,Y_tr),(X_val,Y_val)],\n",
        "             eval_metric = 'accuracy',\n",
        "             verbose = 500)\n",
        "                        \n",
        "    #predictions\n",
        "    "
      ],
      "execution_count": null,
      "outputs": [
        {
          "output_type": "stream",
          "text": [
            "fold 0\n",
            "[500]\ttraining's l1: 0.165143\tvalid_1's l1: 0.197237\n",
            "[1000]\ttraining's l1: 0.0713101\tvalid_1's l1: 0.113039\n",
            "fold 1\n",
            "[500]\ttraining's l1: 0.165454\tvalid_1's l1: 0.190115\n",
            "[1000]\ttraining's l1: 0.0713488\tvalid_1's l1: 0.0990801\n",
            "fold 2\n",
            "[500]\ttraining's l1: 0.16486\tvalid_1's l1: 0.189613\n",
            "[1000]\ttraining's l1: 0.0709096\tvalid_1's l1: 0.0963972\n",
            "fold 3\n",
            "[500]\ttraining's l1: 0.164417\tvalid_1's l1: 0.198467\n",
            "[1000]\ttraining's l1: 0.0703986\tvalid_1's l1: 0.112808\n",
            "fold 4\n",
            "[500]\ttraining's l1: 0.166074\tvalid_1's l1: 0.181274\n",
            "[1000]\ttraining's l1: 0.0711658\tvalid_1's l1: 0.0970829\n",
            "fold 5\n",
            "[500]\ttraining's l1: 0.16676\tvalid_1's l1: 0.1839\n",
            "[1000]\ttraining's l1: 0.0722367\tvalid_1's l1: 0.092742\n",
            "fold 6\n",
            "[500]\ttraining's l1: 0.168459\tvalid_1's l1: 0.166201\n",
            "[1000]\ttraining's l1: 0.0729964\tvalid_1's l1: 0.07928\n",
            "fold 7\n",
            "[500]\ttraining's l1: 0.163163\tvalid_1's l1: 0.202905\n",
            "[1000]\ttraining's l1: 0.0699217\tvalid_1's l1: 0.112343\n",
            "fold 8\n",
            "[500]\ttraining's l1: 0.16686\tvalid_1's l1: 0.17425\n",
            "[1000]\ttraining's l1: 0.0719133\tvalid_1's l1: 0.0838801\n",
            "fold 9\n",
            "[500]\ttraining's l1: 0.166433\tvalid_1's l1: 0.181256\n",
            "[1000]\ttraining's l1: 0.0717665\tvalid_1's l1: 0.0927095\n"
          ],
          "name": "stdout"
        }
      ]
    },
    {
      "cell_type": "code",
      "metadata": {
        "id": "3GsTYAn2LdYd",
        "colab_type": "code",
        "colab": {},
        "outputId": "64083b96-ed90-41f8-f098-34e14bbfeff1"
      },
      "source": [
        "predictions = model.predict(X_test, \n",
        "                                 num_iteration=model.best_iteration_)\n",
        "print(accuracy_score(Y_test,predictions))\n",
        "print(confusion_matrix(Y_test,predictions))"
      ],
      "execution_count": null,
      "outputs": [
        {
          "output_type": "stream",
          "text": [
            "0.9111842105263158\n",
            "[[104  50]\n",
            " [  4 450]]\n"
          ],
          "name": "stdout"
        }
      ]
    },
    {
      "cell_type": "markdown",
      "metadata": {
        "id": "FdFOXOHDLdYe",
        "colab_type": "text"
      },
      "source": [
        "#### Prediction on test data"
      ]
    },
    {
      "cell_type": "code",
      "metadata": {
        "id": "H1ho6QomLdYe",
        "colab_type": "code",
        "colab": {}
      },
      "source": [
        "def clean_data(txts):\n",
        "    x = re.sub(\"[^a-zA-Z]\", \" \",txts) \n",
        "    x = x.lower().split()                             \n",
        "    stops = set(stopwords.words(\"english\"))                  \n",
        "    words = [w for w in x if not w in stops] \n",
        "    \n",
        "    return( \" \".join(words))"
      ],
      "execution_count": null,
      "outputs": []
    },
    {
      "cell_type": "code",
      "metadata": {
        "id": "mmBJysYPLdYf",
        "colab_type": "code",
        "colab": {}
      },
      "source": [
        "def predict_data(model_class):    \n",
        "    test_files= os.listdir(path='rel/BioNLP-OST-2019_BB-rel_test/')\n",
        "    predictions_each=[]\n",
        "    predictions_all=[]\n",
        "    for file in tqdm_notebook(test_files):\n",
        "        if(file.endswith('.a1')):\n",
        "            if (os.path.getsize(f'rel/BioNLP-OST-2019_BB-rel_test/{file}') > 0 ):\n",
        "                a1 = pd.read_csv(f'rel/BioNLP-OST-2019_BB-rel_test/{file}',sep='\\t',header=None)\n",
        "                spl = a1[1].str.split(' ',n=1,expand=True)\n",
        "                a1['Words'] = a1[2]\n",
        "                scec = spl[1].str.split(' ',n=1,expand=True)\n",
        "                a1['sc'] = scec[0]\n",
        "                a1['ec'] = scec[1]\n",
        "                a1['ec'] = a1['ec'].str.split(';',n=1,expand=True)\n",
        "                a1['Entity'] = spl[0]\n",
        "                a1['Words'] = a1['Words'].apply(lambda x: clean_data(x))\n",
        "                a1.drop([1,2],axis=1,inplace=True)\n",
        "                a1.drop(a1[a1['Entity'] == 'Title'].index,axis=0,inplace=True)\n",
        "                a1.drop(a1[a1['Entity'] == 'Paragraph'].index,axis=0,inplace=True)\n",
        "\n",
        "\n",
        "                fname = file.split('.')\n",
        "                f = open(f'rel/BioNLP-OST-2019_BB-rel_test/'+fname[0]+'.txt', \"r\")\n",
        "                text=f.read()\n",
        "\n",
        "                text = text.replace(\"Fig. (\",\"Fig.\")\n",
        "                text = text.replace(\"Fig. \",\"Fig.\")\n",
        "\n",
        "                sentences = sent_tokenize(text)\n",
        "\n",
        "                sc=0\n",
        "\n",
        "                tag1=[]\n",
        "                entity1=[]\n",
        "\n",
        "                tag2=[]\n",
        "                entity2=[]\n",
        "\n",
        "\n",
        "                pre=[]\n",
        "                for sent in sentences:\n",
        "                    sentence_tags = a1[a1['ec'].astype(int)<=sc+len(sent)] \n",
        "                    sentence_tags = sentence_tags[sentence_tags['ec'].astype(int)>=sc]\n",
        "\n",
        "                    sc=sc+len(sent)\n",
        "                    a2_part1 =sentence_tags[sentence_tags['Entity']=='Microorganism']\n",
        "                    a2_part2 =sentence_tags[sentence_tags['Entity']!='Microorganism']\n",
        "\n",
        "                    n_ent = len(sentence_tags[sentence_tags['Entity']!='Microorganism'])\n",
        "                    n_mic = len(sentence_tags[sentence_tags['Entity']=='Microorganism'])\n",
        "\n",
        "\n",
        "\n",
        "\n",
        "                    if(n_ent>0 and n_mic>0):\n",
        "                        word1=sentence_tags[sentence_tags['Entity']=='Microorganism']['Words'].loc[sentence_tags[sentence_tags['Entity']=='Microorganism']['Words'].index.repeat(n_ent)].tolist()\n",
        "                        tag1.extend(sentence_tags[sentence_tags['Entity']=='Microorganism'][0].loc[sentence_tags[sentence_tags['Entity']=='Microorganism'][0].index.repeat(n_ent)].values)\n",
        "                        entity1.extend(sentence_tags[sentence_tags['Entity']=='Microorganism']['Entity'].loc[sentence_tags[sentence_tags['Entity']=='Microorganism']['Entity'].index.repeat(n_ent)].values)\n",
        "\n",
        "                        word2=pd.concat([sentence_tags[sentence_tags['Entity']!='Microorganism']['Words']]*n_mic, ignore_index=True).tolist()\n",
        "                        tag2.extend(pd.concat([sentence_tags[sentence_tags['Entity']!='Microorganism'][0]]*n_mic, ignore_index=True).values)\n",
        "                        entity2.extend(pd.concat([sentence_tags[sentence_tags['Entity']!='Microorganism']['Entity']]*n_mic, ignore_index=True).values)\n",
        "\n",
        "                        df = pd.DataFrame({'word_1':word1,'word_2':word2})\n",
        "\n",
        "\n",
        "\n",
        "                        valid_words1 = df['word_1'].tolist()\n",
        "                        valid_words2 = df['word_2'].tolist()\n",
        "\n",
        "                        X1_test= np.zeros((len(valid_words1),300)) \n",
        "\n",
        "                        for i in range(len(valid_words1)):\n",
        "                            words = word_tokenize(valid_words1[i])\n",
        "                            emb = [model.wv[w] for w in words] \n",
        "                            X1_test[i] = np.mean(emb, axis=0) \n",
        "\n",
        "\n",
        "                        X2_test= np.zeros((len(valid_words2),300)) \n",
        "\n",
        "                        for i in range(len(valid_words2)):\n",
        "                            words = word_tokenize(valid_words2[i])\n",
        "                            emb = [model.wv[w] for w in words] \n",
        "                            X2_test[i] = np.mean(emb, axis=0) \n",
        "\n",
        "                        X_test = np.concatenate((X1_test,X2_test),axis=1)\n",
        "                        X_test[np.isnan(X_test)] = 0\n",
        "\n",
        "                        pre.extend(le.inverse_transform(model_class.predict(X_test)))\n",
        "\n",
        "\n",
        "                idx = np.arange(1,len(pre)+1)\n",
        "                a2_df = pd.DataFrame({'id':idx,'pred':pre,'ent1':entity1,'tag1':tag1,'ent2':entity2,'tag2':tag2})\n",
        "                a2_df['id'] = 'R'+a2_df['id'].astype(str)\n",
        "                a2_df['ent2'].replace('Phenotype','Property',inplace=True)\n",
        "                a2_df['ent2'].replace(['Habitat','Geographical'],'Location',inplace=True)\n",
        "                a2_df['pre'] = a2_df['pred']+' '+a2_df['ent1']+':'+a2_df['tag1']+' '+a2_df['ent2'] + ':'+a2_df['tag2']\n",
        "\n",
        "                a2_corrected = pd.DataFrame({'id':a2_df['id'],'pred':a2_df['pre']})\n",
        "\n",
        "\n",
        "               #             \n",
        "\n",
        "\n",
        "                predictions_each.append(pre)\n",
        "                predictions_all.extend(pre) \n",
        "    \n",
        "                a2_corrected.to_csv('a2_files/'+fname[0]+'.a2',index=False,sep='\\t',header=False)\n",
        "\n",
        "\n",
        "\n"
      ],
      "execution_count": null,
      "outputs": []
    },
    {
      "cell_type": "code",
      "metadata": {
        "id": "B6zQteYELdYg",
        "colab_type": "code",
        "colab": {},
        "outputId": "70f18c51-68e7-4618-af49-911babffa781"
      },
      "source": [
        "len(predictions_all)"
      ],
      "execution_count": null,
      "outputs": [
        {
          "output_type": "execute_result",
          "data": {
            "text/plain": [
              "1335"
            ]
          },
          "metadata": {
            "tags": []
          },
          "execution_count": 76
        }
      ]
    },
    {
      "cell_type": "code",
      "metadata": {
        "id": "lMmB7G92LdYi",
        "colab_type": "code",
        "colab": {},
        "outputId": "2debbec0-3110-4045-ee96-9a4f8695bb0e"
      },
      "source": [
        "print('No.of.Lives_in---predicted using RF_gini',predictions_all.count('Lives_In'))"
      ],
      "execution_count": null,
      "outputs": [
        {
          "output_type": "stream",
          "text": [
            "No.of.Lives_in---predicted using RF_entropy 1114\n"
          ],
          "name": "stdout"
        }
      ]
    },
    {
      "cell_type": "code",
      "metadata": {
        "id": "PjBf31k4LdYj",
        "colab_type": "code",
        "colab": {},
        "outputId": "97b2e4fd-ad8c-40d2-a8b4-277f0f6925d9"
      },
      "source": [
        "len(predictions_all)"
      ],
      "execution_count": null,
      "outputs": [
        {
          "output_type": "execute_result",
          "data": {
            "text/plain": [
              "1335"
            ]
          },
          "metadata": {
            "tags": []
          },
          "execution_count": 79
        }
      ]
    },
    {
      "cell_type": "code",
      "metadata": {
        "id": "uBvjQG2nLdYk",
        "colab_type": "code",
        "colab": {},
        "outputId": "a8c6489d-b724-4fd0-e957-5e6a5283c441"
      },
      "source": [
        "print('No.of.Lives_in---predicted using RF_entropy',predictions_all.count('Lives_In'))"
      ],
      "execution_count": null,
      "outputs": [
        {
          "output_type": "stream",
          "text": [
            "No.of.Lives_in---predicted using RF_entropy 1122\n"
          ],
          "name": "stdout"
        }
      ]
    },
    {
      "cell_type": "code",
      "metadata": {
        "id": "zL5Ou4aSLdYn",
        "colab_type": "code",
        "colab": {}
      },
      "source": [
        "from sklearn import svm"
      ],
      "execution_count": null,
      "outputs": []
    },
    {
      "cell_type": "code",
      "metadata": {
        "id": "tYbXxJctLdYo",
        "colab_type": "code",
        "colab": {}
      },
      "source": [
        "svm_model = svm.SVC(class_weight='balanced', C=1000,kernel='linear')"
      ],
      "execution_count": null,
      "outputs": []
    },
    {
      "cell_type": "code",
      "metadata": {
        "id": "kJrjWfFrLdYq",
        "colab_type": "code",
        "colab": {},
        "outputId": "c3ce0b58-f027-49b0-c52e-ea13d19f8cf6"
      },
      "source": [
        "svm_model.fit(X_train,Y_train)\n",
        "pre = svm_model.predict(X_valid)\n",
        "print(accuracy_score(Y_test,pre))\n",
        "print(confusion_matrix(Y_test,pre))"
      ],
      "execution_count": null,
      "outputs": [
        {
          "output_type": "stream",
          "text": [
            "0.9506578947368421\n",
            "[[141  13]\n",
            " [ 17 437]]\n"
          ],
          "name": "stdout"
        }
      ]
    },
    {
      "cell_type": "code",
      "metadata": {
        "id": "0VB5EyvSLdYs",
        "colab_type": "code",
        "colab": {},
        "outputId": "a78ce670-98b4-48a7-9282-b1c9f61f07c8"
      },
      "source": [
        "pre_e, pre_a = predict_data(svm_model)"
      ],
      "execution_count": null,
      "outputs": [
        {
          "output_type": "display_data",
          "data": {
            "application/vnd.jupyter.widget-view+json": {
              "model_id": "cb90a238973b4dc09d433c43a9b7c322",
              "version_major": 2,
              "version_minor": 0
            },
            "text/plain": [
              "HBox(children=(IntProgress(value=0, max=186), HTML(value='')))"
            ]
          },
          "metadata": {
            "tags": []
          }
        },
        {
          "output_type": "stream",
          "text": [
            "/home/paperspace/.local/lib/python3.6/site-packages/numpy/core/fromnumeric.py:3118: RuntimeWarning: Mean of empty slice.\n",
            "  out=out, **kwargs)\n",
            "/home/paperspace/.local/lib/python3.6/site-packages/numpy/core/_methods.py:85: RuntimeWarning: invalid value encountered in double_scalars\n",
            "  ret = ret.dtype.type(ret / rcount)\n",
            "/home/paperspace/.local/lib/python3.6/site-packages/numpy/core/fromnumeric.py:3118: RuntimeWarning: Mean of empty slice.\n",
            "  out=out, **kwargs)\n",
            "/home/paperspace/.local/lib/python3.6/site-packages/numpy/core/_methods.py:85: RuntimeWarning: invalid value encountered in double_scalars\n",
            "  ret = ret.dtype.type(ret / rcount)\n",
            "/home/paperspace/.local/lib/python3.6/site-packages/numpy/core/fromnumeric.py:3118: RuntimeWarning: Mean of empty slice.\n",
            "  out=out, **kwargs)\n",
            "/home/paperspace/.local/lib/python3.6/site-packages/numpy/core/_methods.py:85: RuntimeWarning: invalid value encountered in double_scalars\n",
            "  ret = ret.dtype.type(ret / rcount)\n",
            "/home/paperspace/.local/lib/python3.6/site-packages/numpy/core/fromnumeric.py:3118: RuntimeWarning: Mean of empty slice.\n",
            "  out=out, **kwargs)\n",
            "/home/paperspace/.local/lib/python3.6/site-packages/numpy/core/_methods.py:85: RuntimeWarning: invalid value encountered in double_scalars\n",
            "  ret = ret.dtype.type(ret / rcount)\n",
            "/home/paperspace/.local/lib/python3.6/site-packages/numpy/core/fromnumeric.py:3118: RuntimeWarning: Mean of empty slice.\n",
            "  out=out, **kwargs)\n",
            "/home/paperspace/.local/lib/python3.6/site-packages/numpy/core/_methods.py:85: RuntimeWarning: invalid value encountered in double_scalars\n",
            "  ret = ret.dtype.type(ret / rcount)\n",
            "/home/paperspace/.local/lib/python3.6/site-packages/numpy/core/fromnumeric.py:3118: RuntimeWarning: Mean of empty slice.\n",
            "  out=out, **kwargs)\n",
            "/home/paperspace/.local/lib/python3.6/site-packages/numpy/core/_methods.py:85: RuntimeWarning: invalid value encountered in double_scalars\n",
            "  ret = ret.dtype.type(ret / rcount)\n",
            "/home/paperspace/.local/lib/python3.6/site-packages/numpy/core/fromnumeric.py:3118: RuntimeWarning: Mean of empty slice.\n",
            "  out=out, **kwargs)\n",
            "/home/paperspace/.local/lib/python3.6/site-packages/numpy/core/_methods.py:85: RuntimeWarning: invalid value encountered in double_scalars\n",
            "  ret = ret.dtype.type(ret / rcount)\n"
          ],
          "name": "stderr"
        },
        {
          "output_type": "stream",
          "text": [
            "\n"
          ],
          "name": "stdout"
        }
      ]
    },
    {
      "cell_type": "code",
      "metadata": {
        "id": "eyAMjP2kLdYx",
        "colab_type": "code",
        "colab": {},
        "outputId": "1481e361-b56c-4016-d14c-f51f50a6e415"
      },
      "source": [
        "print(len(pre_a),'Total predictions')"
      ],
      "execution_count": null,
      "outputs": [
        {
          "output_type": "stream",
          "text": [
            "1335 Total predictions\n"
          ],
          "name": "stdout"
        }
      ]
    },
    {
      "cell_type": "code",
      "metadata": {
        "id": "f6qgxWnmLdYy",
        "colab_type": "code",
        "colab": {},
        "outputId": "04f88daf-e318-4a2c-8eff-21ebd1bf3706"
      },
      "source": [
        "print('No.of.Lives_in---predicted using svm_model_c=1000',pre_a.count('Lives_In'))"
      ],
      "execution_count": null,
      "outputs": [
        {
          "output_type": "stream",
          "text": [
            "No.of.Lives_in---predicted using svm_model_c=1000 1021\n"
          ],
          "name": "stdout"
        }
      ]
    },
    {
      "cell_type": "code",
      "metadata": {
        "id": "y1lcR0BvLdYz",
        "colab_type": "code",
        "colab": {},
        "outputId": "ee78d38a-c2a8-448d-8f6a-efe220ee052d"
      },
      "source": [
        "joblib.dump(model_class_1, 'svm_model.sav')"
      ],
      "execution_count": null,
      "outputs": [
        {
          "output_type": "execute_result",
          "data": {
            "text/plain": [
              "['svm_model.sav']"
            ]
          },
          "metadata": {
            "tags": []
          },
          "execution_count": 96
        }
      ]
    },
    {
      "cell_type": "code",
      "metadata": {
        "id": "Ot_EEVQtLdY0",
        "colab_type": "code",
        "colab": {},
        "outputId": "1fb99c09-99eb-401c-c196-e7675f215c40"
      },
      "source": [
        "print('No.of.Lives_in---predicted using svm_model_c=10000',pre_a.count('Lives_In'))"
      ],
      "execution_count": null,
      "outputs": [
        {
          "output_type": "stream",
          "text": [
            "No.of.Lives_in---predicted using svm_model_c=10000 1021\n"
          ],
          "name": "stdout"
        }
      ]
    },
    {
      "cell_type": "code",
      "metadata": {
        "id": "bmlObD_dLdY1",
        "colab_type": "code",
        "colab": {},
        "outputId": "d6f7f90c-f35f-4be1-da4b-4568c68990c8"
      },
      "source": [
        "from sklearn.neighbors import KNeighborsClassifier\n",
        "\n",
        "model = KNeighborsClassifier(n_neighbors=10)\n",
        "model.fit(X_train,Y_train)\n",
        "pre = model.predict(X_valid)\n",
        "print(accuracy_score(Y_test,pre))\n",
        "print(confusion_matrix(Y_test,pre))\n"
      ],
      "execution_count": null,
      "outputs": [
        {
          "output_type": "stream",
          "text": [
            "0.90625\n",
            "[[104  50]\n",
            " [  7 447]]\n"
          ],
          "name": "stdout"
        }
      ]
    },
    {
      "cell_type": "code",
      "metadata": {
        "id": "KIY4twNyLdY2",
        "colab_type": "code",
        "colab": {}
      },
      "source": [
        "svm_model = joblib.load('svm_model.sav')"
      ],
      "execution_count": null,
      "outputs": []
    },
    {
      "cell_type": "code",
      "metadata": {
        "id": "eVUHRtefLdY3",
        "colab_type": "code",
        "colab": {},
        "outputId": "87a74e4a-d950-4de7-81f9-2ae655e8d9f4"
      },
      "source": [
        "predict_data(svm_model)"
      ],
      "execution_count": null,
      "outputs": [
        {
          "output_type": "display_data",
          "data": {
            "application/vnd.jupyter.widget-view+json": {
              "model_id": "ba87b0d3265c439dbabbaf051f4e7dcc",
              "version_major": 2,
              "version_minor": 0
            },
            "text/plain": [
              "HBox(children=(IntProgress(value=0, max=186), HTML(value='')))"
            ]
          },
          "metadata": {
            "tags": []
          }
        },
        {
          "output_type": "stream",
          "text": [
            "/home/paperspace/.local/lib/python3.6/site-packages/numpy/core/fromnumeric.py:3118: RuntimeWarning: Mean of empty slice.\n",
            "  out=out, **kwargs)\n",
            "/home/paperspace/.local/lib/python3.6/site-packages/numpy/core/_methods.py:85: RuntimeWarning: invalid value encountered in double_scalars\n",
            "  ret = ret.dtype.type(ret / rcount)\n",
            "/home/paperspace/.local/lib/python3.6/site-packages/numpy/core/fromnumeric.py:3118: RuntimeWarning: Mean of empty slice.\n",
            "  out=out, **kwargs)\n",
            "/home/paperspace/.local/lib/python3.6/site-packages/numpy/core/_methods.py:85: RuntimeWarning: invalid value encountered in double_scalars\n",
            "  ret = ret.dtype.type(ret / rcount)\n",
            "/home/paperspace/.local/lib/python3.6/site-packages/numpy/core/fromnumeric.py:3118: RuntimeWarning: Mean of empty slice.\n",
            "  out=out, **kwargs)\n",
            "/home/paperspace/.local/lib/python3.6/site-packages/numpy/core/_methods.py:85: RuntimeWarning: invalid value encountered in double_scalars\n",
            "  ret = ret.dtype.type(ret / rcount)\n",
            "/home/paperspace/.local/lib/python3.6/site-packages/numpy/core/fromnumeric.py:3118: RuntimeWarning: Mean of empty slice.\n",
            "  out=out, **kwargs)\n",
            "/home/paperspace/.local/lib/python3.6/site-packages/numpy/core/_methods.py:85: RuntimeWarning: invalid value encountered in double_scalars\n",
            "  ret = ret.dtype.type(ret / rcount)\n",
            "/home/paperspace/.local/lib/python3.6/site-packages/numpy/core/fromnumeric.py:3118: RuntimeWarning: Mean of empty slice.\n",
            "  out=out, **kwargs)\n",
            "/home/paperspace/.local/lib/python3.6/site-packages/numpy/core/_methods.py:85: RuntimeWarning: invalid value encountered in double_scalars\n",
            "  ret = ret.dtype.type(ret / rcount)\n",
            "/home/paperspace/.local/lib/python3.6/site-packages/numpy/core/fromnumeric.py:3118: RuntimeWarning: Mean of empty slice.\n",
            "  out=out, **kwargs)\n",
            "/home/paperspace/.local/lib/python3.6/site-packages/numpy/core/_methods.py:85: RuntimeWarning: invalid value encountered in double_scalars\n",
            "  ret = ret.dtype.type(ret / rcount)\n",
            "/home/paperspace/.local/lib/python3.6/site-packages/numpy/core/fromnumeric.py:3118: RuntimeWarning: Mean of empty slice.\n",
            "  out=out, **kwargs)\n",
            "/home/paperspace/.local/lib/python3.6/site-packages/numpy/core/_methods.py:85: RuntimeWarning: invalid value encountered in double_scalars\n",
            "  ret = ret.dtype.type(ret / rcount)\n"
          ],
          "name": "stderr"
        },
        {
          "output_type": "stream",
          "text": [
            "\n"
          ],
          "name": "stdout"
        }
      ]
    }
  ]
}